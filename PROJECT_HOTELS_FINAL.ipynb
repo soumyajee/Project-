{
 "cells": [
  {
   "cell_type": "markdown",
   "id": "a8d2da35",
   "metadata": {},
   "source": [
    "# Churn Rate Prediction "
   ]
  },
  {
   "cell_type": "markdown",
   "id": "7af8d4e6",
   "metadata": {},
   "source": [
    "## Data Preprocessing"
   ]
  },
  {
   "cell_type": "code",
   "execution_count": 1,
   "id": "2da47f63",
   "metadata": {},
   "outputs": [],
   "source": [
    "import numpy as np\n",
    "import pandas as pd\n",
    "import matplotlib.pyplot as plt\n",
    "import seaborn as sns\n"
   ]
  },
  {
   "cell_type": "code",
   "execution_count": 2,
   "id": "072ab073",
   "metadata": {},
   "outputs": [
    {
     "data": {
      "text/html": [
       "<div>\n",
       "<style scoped>\n",
       "    .dataframe tbody tr th:only-of-type {\n",
       "        vertical-align: middle;\n",
       "    }\n",
       "\n",
       "    .dataframe tbody tr th {\n",
       "        vertical-align: top;\n",
       "    }\n",
       "\n",
       "    .dataframe thead th {\n",
       "        text-align: right;\n",
       "    }\n",
       "</style>\n",
       "<table border=\"1\" class=\"dataframe\">\n",
       "  <thead>\n",
       "    <tr style=\"text-align: right;\">\n",
       "      <th></th>\n",
       "      <th>hotel</th>\n",
       "      <th>is_canceled</th>\n",
       "      <th>lead_time</th>\n",
       "      <th>arrival_date_year</th>\n",
       "      <th>arrival_date_month</th>\n",
       "      <th>arrival_date_week_number</th>\n",
       "      <th>arrival_date_day_of_month</th>\n",
       "      <th>stays_in_weekend_nights</th>\n",
       "      <th>stays_in_week_nights</th>\n",
       "      <th>adults</th>\n",
       "      <th>...</th>\n",
       "      <th>deposit_type</th>\n",
       "      <th>agent</th>\n",
       "      <th>company</th>\n",
       "      <th>days_in_waiting_list</th>\n",
       "      <th>customer_type</th>\n",
       "      <th>adr</th>\n",
       "      <th>required_car_parking_spaces</th>\n",
       "      <th>total_of_special_requests</th>\n",
       "      <th>reservation_status</th>\n",
       "      <th>reservation_status_date</th>\n",
       "    </tr>\n",
       "  </thead>\n",
       "  <tbody>\n",
       "    <tr>\n",
       "      <th>0</th>\n",
       "      <td>Resort Hotel</td>\n",
       "      <td>0</td>\n",
       "      <td>342</td>\n",
       "      <td>2015</td>\n",
       "      <td>July</td>\n",
       "      <td>27</td>\n",
       "      <td>1</td>\n",
       "      <td>0</td>\n",
       "      <td>0</td>\n",
       "      <td>2</td>\n",
       "      <td>...</td>\n",
       "      <td>No Deposit</td>\n",
       "      <td>NaN</td>\n",
       "      <td>NaN</td>\n",
       "      <td>0</td>\n",
       "      <td>Transient</td>\n",
       "      <td>0.0</td>\n",
       "      <td>0</td>\n",
       "      <td>0</td>\n",
       "      <td>Check-Out</td>\n",
       "      <td>2015-07-01</td>\n",
       "    </tr>\n",
       "    <tr>\n",
       "      <th>1</th>\n",
       "      <td>Resort Hotel</td>\n",
       "      <td>0</td>\n",
       "      <td>737</td>\n",
       "      <td>2015</td>\n",
       "      <td>July</td>\n",
       "      <td>27</td>\n",
       "      <td>1</td>\n",
       "      <td>0</td>\n",
       "      <td>0</td>\n",
       "      <td>2</td>\n",
       "      <td>...</td>\n",
       "      <td>No Deposit</td>\n",
       "      <td>NaN</td>\n",
       "      <td>NaN</td>\n",
       "      <td>0</td>\n",
       "      <td>Transient</td>\n",
       "      <td>0.0</td>\n",
       "      <td>0</td>\n",
       "      <td>0</td>\n",
       "      <td>Check-Out</td>\n",
       "      <td>2015-07-01</td>\n",
       "    </tr>\n",
       "    <tr>\n",
       "      <th>2</th>\n",
       "      <td>Resort Hotel</td>\n",
       "      <td>0</td>\n",
       "      <td>7</td>\n",
       "      <td>2015</td>\n",
       "      <td>July</td>\n",
       "      <td>27</td>\n",
       "      <td>1</td>\n",
       "      <td>0</td>\n",
       "      <td>1</td>\n",
       "      <td>1</td>\n",
       "      <td>...</td>\n",
       "      <td>No Deposit</td>\n",
       "      <td>NaN</td>\n",
       "      <td>NaN</td>\n",
       "      <td>0</td>\n",
       "      <td>Transient</td>\n",
       "      <td>75.0</td>\n",
       "      <td>0</td>\n",
       "      <td>0</td>\n",
       "      <td>Check-Out</td>\n",
       "      <td>2015-07-02</td>\n",
       "    </tr>\n",
       "    <tr>\n",
       "      <th>3</th>\n",
       "      <td>Resort Hotel</td>\n",
       "      <td>0</td>\n",
       "      <td>13</td>\n",
       "      <td>2015</td>\n",
       "      <td>July</td>\n",
       "      <td>27</td>\n",
       "      <td>1</td>\n",
       "      <td>0</td>\n",
       "      <td>1</td>\n",
       "      <td>1</td>\n",
       "      <td>...</td>\n",
       "      <td>No Deposit</td>\n",
       "      <td>304.0</td>\n",
       "      <td>NaN</td>\n",
       "      <td>0</td>\n",
       "      <td>Transient</td>\n",
       "      <td>75.0</td>\n",
       "      <td>0</td>\n",
       "      <td>0</td>\n",
       "      <td>Check-Out</td>\n",
       "      <td>2015-07-02</td>\n",
       "    </tr>\n",
       "    <tr>\n",
       "      <th>4</th>\n",
       "      <td>Resort Hotel</td>\n",
       "      <td>0</td>\n",
       "      <td>14</td>\n",
       "      <td>2015</td>\n",
       "      <td>July</td>\n",
       "      <td>27</td>\n",
       "      <td>1</td>\n",
       "      <td>0</td>\n",
       "      <td>2</td>\n",
       "      <td>2</td>\n",
       "      <td>...</td>\n",
       "      <td>No Deposit</td>\n",
       "      <td>240.0</td>\n",
       "      <td>NaN</td>\n",
       "      <td>0</td>\n",
       "      <td>Transient</td>\n",
       "      <td>98.0</td>\n",
       "      <td>0</td>\n",
       "      <td>1</td>\n",
       "      <td>Check-Out</td>\n",
       "      <td>2015-07-03</td>\n",
       "    </tr>\n",
       "  </tbody>\n",
       "</table>\n",
       "<p>5 rows × 32 columns</p>\n",
       "</div>"
      ],
      "text/plain": [
       "          hotel  is_canceled  lead_time  arrival_date_year arrival_date_month  \\\n",
       "0  Resort Hotel            0        342               2015               July   \n",
       "1  Resort Hotel            0        737               2015               July   \n",
       "2  Resort Hotel            0          7               2015               July   \n",
       "3  Resort Hotel            0         13               2015               July   \n",
       "4  Resort Hotel            0         14               2015               July   \n",
       "\n",
       "   arrival_date_week_number  arrival_date_day_of_month  \\\n",
       "0                        27                          1   \n",
       "1                        27                          1   \n",
       "2                        27                          1   \n",
       "3                        27                          1   \n",
       "4                        27                          1   \n",
       "\n",
       "   stays_in_weekend_nights  stays_in_week_nights  adults  ...  deposit_type  \\\n",
       "0                        0                     0       2  ...    No Deposit   \n",
       "1                        0                     0       2  ...    No Deposit   \n",
       "2                        0                     1       1  ...    No Deposit   \n",
       "3                        0                     1       1  ...    No Deposit   \n",
       "4                        0                     2       2  ...    No Deposit   \n",
       "\n",
       "   agent company days_in_waiting_list customer_type   adr  \\\n",
       "0    NaN     NaN                    0     Transient   0.0   \n",
       "1    NaN     NaN                    0     Transient   0.0   \n",
       "2    NaN     NaN                    0     Transient  75.0   \n",
       "3  304.0     NaN                    0     Transient  75.0   \n",
       "4  240.0     NaN                    0     Transient  98.0   \n",
       "\n",
       "   required_car_parking_spaces  total_of_special_requests  reservation_status  \\\n",
       "0                            0                          0           Check-Out   \n",
       "1                            0                          0           Check-Out   \n",
       "2                            0                          0           Check-Out   \n",
       "3                            0                          0           Check-Out   \n",
       "4                            0                          1           Check-Out   \n",
       "\n",
       "  reservation_status_date  \n",
       "0              2015-07-01  \n",
       "1              2015-07-01  \n",
       "2              2015-07-02  \n",
       "3              2015-07-02  \n",
       "4              2015-07-03  \n",
       "\n",
       "[5 rows x 32 columns]"
      ]
     },
     "execution_count": 2,
     "metadata": {},
     "output_type": "execute_result"
    }
   ],
   "source": [
    "## Importing Data\n",
    "data = pd.read_csv('Bookings.csv')\n",
    "\n",
    "## Show the first 5 rows of Data\n",
    "data.head()"
   ]
  },
  {
   "cell_type": "code",
   "execution_count": 3,
   "id": "49a751f8",
   "metadata": {},
   "outputs": [],
   "source": [
    "## Copy the dataset ( So that the original data remain unchanged)\n",
    "df = data.copy()"
   ]
  },
  {
   "cell_type": "code",
   "execution_count": 4,
   "id": "03bc7cf4",
   "metadata": {},
   "outputs": [
    {
     "data": {
      "text/plain": [
       "company                   112593\n",
       "agent                      16340\n",
       "country                      488\n",
       "children                       4\n",
       "reserved_room_type             0\n",
       "assigned_room_type             0\n",
       "booking_changes                0\n",
       "deposit_type                   0\n",
       "hotel                          0\n",
       "previous_cancellations         0\n",
       "dtype: int64"
      ]
     },
     "execution_count": 4,
     "metadata": {},
     "output_type": "execute_result"
    }
   ],
   "source": [
    "## Find the missing value, show the total null values for each column and sort it in descending order\n",
    "df.isnull().sum().sort_values(ascending=False)[:10]"
   ]
  },
  {
   "cell_type": "code",
   "execution_count": 5,
   "id": "320ee319",
   "metadata": {},
   "outputs": [],
   "source": [
    "# We have 4 features with missing values.\n",
    "# In the agent and the company column, we have id_number for each agent or company, \n",
    "# so for all the missing values, we will just replace it with 0."
   ]
  },
  {
   "cell_type": "code",
   "execution_count": 6,
   "id": "832801a9",
   "metadata": {},
   "outputs": [],
   "source": [
    "## If no id of agent or company is null, just replace it with 0\n",
    "df[['agent','company']] = df[['agent','company']].fillna(0.0)"
   ]
  },
  {
   "cell_type": "code",
   "execution_count": 7,
   "id": "9472fbf6",
   "metadata": {},
   "outputs": [],
   "source": [
    "# Children column contains the count of children, so we will replace all the missing values with the rounded mean value.\n",
    "# Country column contains country codes representing different countries. \n",
    "# Since it is categorical it is replace with the mode value or value that appears more than any other value. \n",
    "\n",
    "## For the missing values in the country column, replace it with mode \n",
    "df['country'].fillna(data.country.mode().to_string(), inplace=True)\n",
    "\n",
    "\n",
    "## for missing children value, replace it with rounded mean value\n",
    "df['children'].fillna(round(data.children.mean()), inplace=True)"
   ]
  },
  {
   "cell_type": "code",
   "execution_count": 8,
   "id": "094858ef",
   "metadata": {},
   "outputs": [
    {
     "data": {
      "text/plain": [
       "(180, 32)"
      ]
     },
     "execution_count": 8,
     "metadata": {},
     "output_type": "execute_result"
    }
   ],
   "source": [
    "# There are many rows that have zero guests including adults, children and babies. \n",
    "df[(df.adults+df.babies+df.children)==0].shape"
   ]
  },
  {
   "cell_type": "code",
   "execution_count": 9,
   "id": "06385431",
   "metadata": {},
   "outputs": [],
   "source": [
    "## Drop Rows where there is no adult, baby and child (180 rows)\n",
    "df = df.drop(df[(df.adults+df.babies+df.children)==0].index)"
   ]
  },
  {
   "cell_type": "markdown",
   "id": "b0607765",
   "metadata": {},
   "source": [
    "# Converting Datatype"
   ]
  },
  {
   "cell_type": "code",
   "execution_count": 10,
   "id": "539fac82",
   "metadata": {},
   "outputs": [
    {
     "name": "stdout",
     "output_type": "stream",
     "text": [
      "<class 'pandas.core.frame.DataFrame'>\n",
      "Int64Index: 119210 entries, 0 to 119389\n",
      "Data columns (total 32 columns):\n",
      " #   Column                          Non-Null Count   Dtype  \n",
      "---  ------                          --------------   -----  \n",
      " 0   hotel                           119210 non-null  object \n",
      " 1   is_canceled                     119210 non-null  int64  \n",
      " 2   lead_time                       119210 non-null  int64  \n",
      " 3   arrival_date_year               119210 non-null  int64  \n",
      " 4   arrival_date_month              119210 non-null  object \n",
      " 5   arrival_date_week_number        119210 non-null  int64  \n",
      " 6   arrival_date_day_of_month       119210 non-null  int64  \n",
      " 7   stays_in_weekend_nights         119210 non-null  int64  \n",
      " 8   stays_in_week_nights            119210 non-null  int64  \n",
      " 9   adults                          119210 non-null  int64  \n",
      " 10  children                        119210 non-null  float64\n",
      " 11  babies                          119210 non-null  int64  \n",
      " 12  meal                            119210 non-null  object \n",
      " 13  country                         119210 non-null  object \n",
      " 14  market_segment                  119210 non-null  object \n",
      " 15  distribution_channel            119210 non-null  object \n",
      " 16  is_repeated_guest               119210 non-null  int64  \n",
      " 17  previous_cancellations          119210 non-null  int64  \n",
      " 18  previous_bookings_not_canceled  119210 non-null  int64  \n",
      " 19  reserved_room_type              119210 non-null  object \n",
      " 20  assigned_room_type              119210 non-null  object \n",
      " 21  booking_changes                 119210 non-null  int64  \n",
      " 22  deposit_type                    119210 non-null  object \n",
      " 23  agent                           119210 non-null  float64\n",
      " 24  company                         119210 non-null  float64\n",
      " 25  days_in_waiting_list            119210 non-null  int64  \n",
      " 26  customer_type                   119210 non-null  object \n",
      " 27  adr                             119210 non-null  float64\n",
      " 28  required_car_parking_spaces     119210 non-null  int64  \n",
      " 29  total_of_special_requests       119210 non-null  int64  \n",
      " 30  reservation_status              119210 non-null  object \n",
      " 31  reservation_status_date         119210 non-null  object \n",
      "dtypes: float64(4), int64(16), object(12)\n",
      "memory usage: 30.0+ MB\n"
     ]
    }
   ],
   "source": [
    "df.info()"
   ]
  },
  {
   "cell_type": "code",
   "execution_count": 11,
   "id": "8c36f72f",
   "metadata": {},
   "outputs": [],
   "source": [
    "# We can see different data types for different columns.\n",
    "# There are some columns like children, company, and agent, that are float type but their values are only in integers.\n",
    "# So we will convert them to the integer type."
   ]
  },
  {
   "cell_type": "code",
   "execution_count": 12,
   "id": "dbd03978",
   "metadata": {},
   "outputs": [],
   "source": [
    "## convert datatype of these columns from float to integer\n",
    "df[['children', 'company', 'agent']] = df[['children', 'company', 'agent']].astype('int64')\n"
   ]
  },
  {
   "cell_type": "markdown",
   "id": "e4970afa",
   "metadata": {},
   "source": [
    "# Exploratory Data Analysis"
   ]
  },
  {
   "cell_type": "code",
   "execution_count": 13,
   "id": "15d9663e",
   "metadata": {},
   "outputs": [],
   "source": [
    "def get_count(series, limit=None):\n",
    "    \n",
    "    '''\n",
    "    INPUT:\n",
    "        series: Pandas Series (Single Column from DataFrame)\n",
    "        limit:  If value given, limit the output value to first limit samples.\n",
    "    OUTPUT:\n",
    "        x = Unique values\n",
    "        y = Count of unique values\n",
    "    '''\n",
    "    \n",
    "    if limit != None:\n",
    "        series = series.value_counts()[:limit]\n",
    "    else:\n",
    "        series = series.value_counts()\n",
    "    \n",
    "    x = series.index\n",
    "    y = series/series.sum()*100\n",
    "    \n",
    "    return x.values,y.values\n",
    "\n",
    "# This function takes a series or data frame column and returns the two arrays\n",
    "# x is our unique values\n",
    "# y is the percentage value of each unique value\n"
   ]
  },
  {
   "cell_type": "code",
   "execution_count": 14,
   "id": "066333df",
   "metadata": {},
   "outputs": [
    {
     "data": {
      "text/plain": [
       "(array([0, 1], dtype=int64), array([62.92341247, 37.07658753]))"
      ]
     },
     "execution_count": 14,
     "metadata": {},
     "output_type": "execute_result"
    }
   ],
   "source": [
    "x,y = get_count(df['is_canceled'])\n",
    "x,y"
   ]
  },
  {
   "cell_type": "code",
   "execution_count": 15,
   "id": "c61c8434",
   "metadata": {},
   "outputs": [],
   "source": [
    "# is_canceled have two unique values: 1 if booking got canceled, else 0."
   ]
  },
  {
   "cell_type": "code",
   "execution_count": 16,
   "id": "16b2058e",
   "metadata": {},
   "outputs": [],
   "source": [
    "import matplotlib.ticker as mtick\n",
    "\n",
    "def plot(x, y, x_label=None,y_label=None, title=None, figsize=(7,5), type='bar'):\n",
    "    \n",
    "    '''\n",
    "    INPUT:\n",
    "        x:        Array containing values for x-axis\n",
    "        y:        Array containing values for y-axis\n",
    "        x_lable:  String value for x-axis label\n",
    "        y_lable:  String value for y-axis label\n",
    "        title:    String value for plot title\n",
    "        figsize:  tuple value, for figure size\n",
    "        type:     type of plot (default is bar plot)\n",
    "        \n",
    "    OUTPUT:\n",
    "        Display the plot\n",
    "    '''\n",
    "    \n",
    "    sns.set_style('darkgrid')\n",
    "    \n",
    "    fig, ax = plt.subplots(figsize=figsize)\n",
    "    \n",
    "    ax.yaxis.set_major_formatter(mtick.PercentFormatter())\n",
    "    \n",
    "    if x_label != None:\n",
    "        ax.set_xlabel(x_label)\n",
    "    \n",
    "    if y_label != None:\n",
    "        ax.set_ylabel(y_label)\n",
    "        \n",
    "    if title != None:\n",
    "        ax.set_title(title)\n",
    "    \n",
    "    if type == 'bar':\n",
    "        sns.barplot(x,y, ax = ax)\n",
    "    elif type == 'line':\n",
    "        sns.lineplot(x,y, ax = ax, sort=False)\n",
    "        \n",
    "    \n",
    "    plt.show()\n",
    "    \n",
    "#This function takes two arrays, x, and y and displays the required diagram. \n",
    "# The default plot type is a bar plot, but it can also plot the line plot.\n",
    "# Optional arguments can be given to display title and labels.    "
   ]
  },
  {
   "cell_type": "code",
   "execution_count": 17,
   "id": "0da6fb13",
   "metadata": {},
   "outputs": [
    {
     "name": "stderr",
     "output_type": "stream",
     "text": [
      "C:\\Users\\Subir\\anaconda3\\lib\\site-packages\\seaborn\\_decorators.py:36: FutureWarning: Pass the following variables as keyword args: x, y. From version 0.12, the only valid positional argument will be `data`, and passing other arguments without an explicit keyword will result in an error or misinterpretation.\n",
      "  warnings.warn(\n"
     ]
    },
    {
     "data": {
      "image/png": "[encoded data removed]",
      "text/plain": [
       "<Figure size 504x360 with 1 Axes>"
      ]
     },
     "metadata": {},
     "output_type": "display_data"
    }
   ],
   "source": [
    "plot(x,y, x_label='Booking Cancelled (No = 0, Yes = 1)', y_label='Booking (%)')\n",
    "plt.show()    "
   ]
  },
  {
   "cell_type": "code",
   "execution_count": 18,
   "id": "396cc07a",
   "metadata": {},
   "outputs": [],
   "source": [
    "# Findings:\n",
    "# Bookings got canceled 37% of the time. \n",
    "# Did not cancel the booking almost 63% of the time."
   ]
  },
  {
   "cell_type": "code",
   "execution_count": 19,
   "id": "c5adf561",
   "metadata": {},
   "outputs": [],
   "source": [
    "# For further analysis, We will select only those bookings which did not get canceled\n",
    "\n",
    "df_not_canceled = df[df['is_canceled'] == 0]"
   ]
  },
  {
   "cell_type": "code",
   "execution_count": 20,
   "id": "202653b6",
   "metadata": {},
   "outputs": [
    {
     "name": "stderr",
     "output_type": "stream",
     "text": [
      "C:\\Users\\Subir\\anaconda3\\lib\\site-packages\\seaborn\\_decorators.py:36: FutureWarning: Pass the following variables as keyword args: x, y. From version 0.12, the only valid positional argument will be `data`, and passing other arguments without an explicit keyword will result in an error or misinterpretation.\n",
      "  warnings.warn(\n"
     ]
    },
    {
     "data": {
      "image/png": "[encoded data removed]",
      "text/plain": [
       "<Figure size 504x360 with 1 Axes>"
      ]
     },
     "metadata": {},
     "output_type": "display_data"
    }
   ],
   "source": [
    "# 2. What is the booking ratio between Resort Hotel and City Hotel?\n",
    "\n",
    "x,y = get_count(df_not_canceled['hotel'])\n",
    "plot(x,y, x_label='Hotels', y_label='Total Booking (%)', title='Hotel comparison')"
   ]
  },
  {
   "cell_type": "code",
   "execution_count": 21,
   "id": "af1b3b1a",
   "metadata": {},
   "outputs": [],
   "source": [
    "# More than 60% of the population booked the City hotel"
   ]
  },
  {
   "cell_type": "code",
   "execution_count": 22,
   "id": "0d17c3a7",
   "metadata": {},
   "outputs": [
    {
     "name": "stderr",
     "output_type": "stream",
     "text": [
      "C:\\Users\\Subir\\anaconda3\\lib\\site-packages\\seaborn\\_decorators.py:36: FutureWarning: Pass the following variables as keyword args: x, y. From version 0.12, the only valid positional argument will be `data`, and passing other arguments without an explicit keyword will result in an error or misinterpretation.\n",
      "  warnings.warn(\n"
     ]
    },
    {
     "data": {
      "image/png": "[encoded data removed]",
      "text/plain": [
       "<Figure size 504x360 with 1 Axes>"
      ]
     },
     "metadata": {},
     "output_type": "display_data"
    }
   ],
   "source": [
    "# 3. What is the percentage of booking for each year?\n",
    "\n",
    "x,y = get_count(df_not_canceled['arrival_date_year'])\n",
    "plot(x,y,x_label=\"Year\", y_label= \"Total Bookings\")"
   ]
  },
  {
   "cell_type": "code",
   "execution_count": 23,
   "id": "5dc96ccb",
   "metadata": {},
   "outputs": [],
   "source": [
    "# More than double bookings were made in 2016, compared to the previous year.\n",
    "# But the bookings decreased by almost 15% the next year."
   ]
  },
  {
   "cell_type": "code",
   "execution_count": 24,
   "id": "fd055bc8",
   "metadata": {},
   "outputs": [
    {
     "name": "stderr",
     "output_type": "stream",
     "text": [
      "C:\\Users\\Subir\\anaconda3\\lib\\site-packages\\seaborn\\_decorators.py:36: FutureWarning: Pass the following variables as keyword args: x, y. From version 0.12, the only valid positional argument will be `data`, and passing other arguments without an explicit keyword will result in an error or misinterpretation.\n",
      "  warnings.warn(\n"
     ]
    },
    {
     "data": {
      "image/png": "[encoded data removed]",
      "text/plain": [
       "<Figure size 504x360 with 1 Axes>"
      ]
     },
     "metadata": {},
     "output_type": "display_data"
    }
   ],
   "source": [
    "# \n",
    "x,y= get_count(df_not_canceled['customer_type'])\n",
    "plot(x,y,x_label='Type of customer' ,y_label='Hotels Booking(%)')"
   ]
  },
  {
   "cell_type": "code",
   "execution_count": 25,
   "id": "6439c84c",
   "metadata": {},
   "outputs": [
    {
     "data": {
      "text/plain": [
       "['hotel',\n",
       " 'arrival_date_month',\n",
       " 'meal',\n",
       " 'country',\n",
       " 'market_segment',\n",
       " 'distribution_channel',\n",
       " 'reserved_room_type',\n",
       " 'assigned_room_type',\n",
       " 'deposit_type',\n",
       " 'customer_type',\n",
       " 'reservation_status',\n",
       " 'reservation_status_date']"
      ]
     },
     "execution_count": 25,
     "metadata": {},
     "output_type": "execute_result"
    }
   ],
   "source": [
    "# Getting catgorical features in data\n",
    "df_cat = [col for col in df if df[col].dtype == \"O\"]\n",
    "df_cat"
   ]
  },
  {
   "cell_type": "code",
   "execution_count": 26,
   "id": "02f7315e",
   "metadata": {},
   "outputs": [
    {
     "name": "stderr",
     "output_type": "stream",
     "text": [
      "C:\\Users\\Subir\\anaconda3\\lib\\site-packages\\seaborn\\_decorators.py:36: FutureWarning: Pass the following variables as keyword args: x, y. From version 0.12, the only valid positional argument will be `data`, and passing other arguments without an explicit keyword will result in an error or misinterpretation.\n",
      "  warnings.warn(\n"
     ]
    },
    {
     "data": {
      "image/png": "[encoded data removed]",
      "text/plain": [
       "<Figure size 1440x360 with 1 Axes>"
      ]
     },
     "metadata": {},
     "output_type": "display_data"
    }
   ],
   "source": [
    "x,y = get_count(df_not_canceled['arrival_date_month'])\n",
    "plot(x,y, x_label='Arrival Month', y_label='Total Bookings(%)', figsize=(20,5))"
   ]
  },
  {
   "cell_type": "code",
   "execution_count": 27,
   "id": "92f2d68f",
   "metadata": {},
   "outputs": [
    {
     "name": "stderr",
     "output_type": "stream",
     "text": [
      "C:\\Users\\Subir\\anaconda3\\lib\\site-packages\\seaborn\\_decorators.py:36: FutureWarning: Pass the following variables as keyword args: x, y. From version 0.12, the only valid positional argument will be `data`, and passing other arguments without an explicit keyword will result in an error or misinterpretation.\n",
      "  warnings.warn(\n"
     ]
    },
    {
     "data": {
      "image/png": "[encoded data removed]",
      "text/plain": [
       "<Figure size 504x360 with 1 Axes>"
      ]
     },
     "metadata": {},
     "output_type": "display_data"
    }
   ],
   "source": [
    "x,y = get_count(df_not_canceled['meal'])\n",
    "plot(x,y, x_label='Meals', y_label='Total Bookings(%)')"
   ]
  },
  {
   "cell_type": "code",
   "execution_count": 28,
   "id": "9bbc6624",
   "metadata": {},
   "outputs": [
    {
     "name": "stderr",
     "output_type": "stream",
     "text": [
      "C:\\Users\\Subir\\anaconda3\\lib\\site-packages\\seaborn\\_decorators.py:36: FutureWarning: Pass the following variables as keyword args: x, y. From version 0.12, the only valid positional argument will be `data`, and passing other arguments without an explicit keyword will result in an error or misinterpretation.\n",
      "  warnings.warn(\n"
     ]
    },
    {
     "data": {
      "image/png": "[encoded data removed]",
      "text/plain": [
       "<Figure size 1440x360 with 1 Axes>"
      ]
     },
     "metadata": {},
     "output_type": "display_data"
    }
   ],
   "source": [
    "x,y = get_count(df_not_canceled['distribution_channel'])\n",
    "plot(x,y, x_label='Meals', y_label='Total Bookings(%)', figsize=(20,5))"
   ]
  },
  {
   "cell_type": "code",
   "execution_count": 29,
   "id": "b03cd2b8",
   "metadata": {},
   "outputs": [
    {
     "name": "stderr",
     "output_type": "stream",
     "text": [
      "C:\\Users\\Subir\\anaconda3\\lib\\site-packages\\seaborn\\_decorators.py:36: FutureWarning: Pass the following variables as keyword args: x, y. From version 0.12, the only valid positional argument will be `data`, and passing other arguments without an explicit keyword will result in an error or misinterpretation.\n",
      "  warnings.warn(\n"
     ]
    },
    {
     "data": {
      "image/png": "[encoded data removed]",
      "text/plain": [
       "<Figure size 504x360 with 1 Axes>"
      ]
     },
     "metadata": {},
     "output_type": "display_data"
    }
   ],
   "source": [
    "x,y = get_count(df_not_canceled['reserved_room_type'])\n",
    "plot(x,y, x_label='Reserved room type', y_label='Total Bookings(%)')"
   ]
  },
  {
   "cell_type": "code",
   "execution_count": 30,
   "id": "f941f189",
   "metadata": {},
   "outputs": [
    {
     "name": "stderr",
     "output_type": "stream",
     "text": [
      "C:\\Users\\Subir\\anaconda3\\lib\\site-packages\\seaborn\\_decorators.py:36: FutureWarning: Pass the following variables as keyword args: x, y. From version 0.12, the only valid positional argument will be `data`, and passing other arguments without an explicit keyword will result in an error or misinterpretation.\n",
      "  warnings.warn(\n"
     ]
    },
    {
     "data": {
      "image/png": "[encoded data removed]",
      "text/plain": [
       "<Figure size 504x360 with 1 Axes>"
      ]
     },
     "metadata": {},
     "output_type": "display_data"
    }
   ],
   "source": [
    "x,y = get_count(df_not_canceled['assigned_room_type'])\n",
    "plot(x,y, x_label='Assigned room type', y_label='Total Bookings(%)')"
   ]
  },
  {
   "cell_type": "code",
   "execution_count": 31,
   "id": "1d3cf23c",
   "metadata": {},
   "outputs": [
    {
     "name": "stderr",
     "output_type": "stream",
     "text": [
      "C:\\Users\\Subir\\anaconda3\\lib\\site-packages\\seaborn\\_decorators.py:36: FutureWarning: Pass the following variables as keyword args: x, y. From version 0.12, the only valid positional argument will be `data`, and passing other arguments without an explicit keyword will result in an error or misinterpretation.\n",
      "  warnings.warn(\n"
     ]
    },
    {
     "data": {
      "image/png": "[encoded data removed]",
      "text/plain": [
       "<Figure size 504x360 with 1 Axes>"
      ]
     },
     "metadata": {},
     "output_type": "display_data"
    }
   ],
   "source": [
    "x,y = get_count(df_not_canceled['deposit_type'])\n",
    "plot(x,y, x_label='Type of Deposit', y_label='Total Bookings(%)')"
   ]
  },
  {
   "cell_type": "code",
   "execution_count": 32,
   "id": "a787ee76",
   "metadata": {
    "scrolled": false
   },
   "outputs": [
    {
     "name": "stderr",
     "output_type": "stream",
     "text": [
      "C:\\Users\\Subir\\anaconda3\\lib\\site-packages\\seaborn\\_decorators.py:36: FutureWarning: Pass the following variables as keyword args: x, y. From version 0.12, the only valid positional argument will be `data`, and passing other arguments without an explicit keyword will result in an error or misinterpretation.\n",
      "  warnings.warn(\n"
     ]
    },
    {
     "data": {
      "image/png": "[encoded data removed]",
      "text/plain": [
       "<Figure size 504x360 with 1 Axes>"
      ]
     },
     "metadata": {},
     "output_type": "display_data"
    }
   ],
   "source": [
    "x,y = get_count(df_not_canceled['reservation_status'])\n",
    "plot(x,y, x_label='Reservation Status', y_label='Total Bookings(%)')"
   ]
  },
  {
   "cell_type": "code",
   "execution_count": 33,
   "id": "3388a4bb",
   "metadata": {},
   "outputs": [],
   "source": [
    "#from pandas_profiling import ProfileReport\n",
    "#profile = ProfileReport(df, title=\"Pandas Profiling Report\")\n",
    "#profile"
   ]
  },
  {
   "cell_type": "code",
   "execution_count": 34,
   "id": "54b9f473",
   "metadata": {},
   "outputs": [
    {
     "data": {
      "text/html": [
       "<div>\n",
       "<style scoped>\n",
       "    .dataframe tbody tr th:only-of-type {\n",
       "        vertical-align: middle;\n",
       "    }\n",
       "\n",
       "    .dataframe tbody tr th {\n",
       "        vertical-align: top;\n",
       "    }\n",
       "\n",
       "    .dataframe thead th {\n",
       "        text-align: right;\n",
       "    }\n",
       "</style>\n",
       "<table border=\"1\" class=\"dataframe\">\n",
       "  <thead>\n",
       "    <tr style=\"text-align: right;\">\n",
       "      <th></th>\n",
       "      <th>hotel</th>\n",
       "      <th>is_canceled</th>\n",
       "      <th>lead_time</th>\n",
       "      <th>arrival_date_year</th>\n",
       "      <th>arrival_date_month</th>\n",
       "      <th>arrival_date_week_number</th>\n",
       "      <th>arrival_date_day_of_month</th>\n",
       "      <th>stays_in_weekend_nights</th>\n",
       "      <th>stays_in_week_nights</th>\n",
       "      <th>adults</th>\n",
       "      <th>...</th>\n",
       "      <th>deposit_type</th>\n",
       "      <th>agent</th>\n",
       "      <th>company</th>\n",
       "      <th>days_in_waiting_list</th>\n",
       "      <th>customer_type</th>\n",
       "      <th>adr</th>\n",
       "      <th>required_car_parking_spaces</th>\n",
       "      <th>total_of_special_requests</th>\n",
       "      <th>reservation_status</th>\n",
       "      <th>reservation_status_date</th>\n",
       "    </tr>\n",
       "  </thead>\n",
       "  <tbody>\n",
       "    <tr>\n",
       "      <th>0</th>\n",
       "      <td>Resort Hotel</td>\n",
       "      <td>0</td>\n",
       "      <td>342</td>\n",
       "      <td>2015</td>\n",
       "      <td>July</td>\n",
       "      <td>27</td>\n",
       "      <td>1</td>\n",
       "      <td>0</td>\n",
       "      <td>0</td>\n",
       "      <td>2</td>\n",
       "      <td>...</td>\n",
       "      <td>No Deposit</td>\n",
       "      <td>0</td>\n",
       "      <td>0</td>\n",
       "      <td>0</td>\n",
       "      <td>Transient</td>\n",
       "      <td>0.00</td>\n",
       "      <td>0</td>\n",
       "      <td>0</td>\n",
       "      <td>Check-Out</td>\n",
       "      <td>2015-07-01</td>\n",
       "    </tr>\n",
       "    <tr>\n",
       "      <th>1</th>\n",
       "      <td>Resort Hotel</td>\n",
       "      <td>0</td>\n",
       "      <td>737</td>\n",
       "      <td>2015</td>\n",
       "      <td>July</td>\n",
       "      <td>27</td>\n",
       "      <td>1</td>\n",
       "      <td>0</td>\n",
       "      <td>0</td>\n",
       "      <td>2</td>\n",
       "      <td>...</td>\n",
       "      <td>No Deposit</td>\n",
       "      <td>0</td>\n",
       "      <td>0</td>\n",
       "      <td>0</td>\n",
       "      <td>Transient</td>\n",
       "      <td>0.00</td>\n",
       "      <td>0</td>\n",
       "      <td>0</td>\n",
       "      <td>Check-Out</td>\n",
       "      <td>2015-07-01</td>\n",
       "    </tr>\n",
       "    <tr>\n",
       "      <th>2</th>\n",
       "      <td>Resort Hotel</td>\n",
       "      <td>0</td>\n",
       "      <td>7</td>\n",
       "      <td>2015</td>\n",
       "      <td>July</td>\n",
       "      <td>27</td>\n",
       "      <td>1</td>\n",
       "      <td>0</td>\n",
       "      <td>1</td>\n",
       "      <td>1</td>\n",
       "      <td>...</td>\n",
       "      <td>No Deposit</td>\n",
       "      <td>0</td>\n",
       "      <td>0</td>\n",
       "      <td>0</td>\n",
       "      <td>Transient</td>\n",
       "      <td>75.00</td>\n",
       "      <td>0</td>\n",
       "      <td>0</td>\n",
       "      <td>Check-Out</td>\n",
       "      <td>2015-07-02</td>\n",
       "    </tr>\n",
       "    <tr>\n",
       "      <th>3</th>\n",
       "      <td>Resort Hotel</td>\n",
       "      <td>0</td>\n",
       "      <td>13</td>\n",
       "      <td>2015</td>\n",
       "      <td>July</td>\n",
       "      <td>27</td>\n",
       "      <td>1</td>\n",
       "      <td>0</td>\n",
       "      <td>1</td>\n",
       "      <td>1</td>\n",
       "      <td>...</td>\n",
       "      <td>No Deposit</td>\n",
       "      <td>304</td>\n",
       "      <td>0</td>\n",
       "      <td>0</td>\n",
       "      <td>Transient</td>\n",
       "      <td>75.00</td>\n",
       "      <td>0</td>\n",
       "      <td>0</td>\n",
       "      <td>Check-Out</td>\n",
       "      <td>2015-07-02</td>\n",
       "    </tr>\n",
       "    <tr>\n",
       "      <th>4</th>\n",
       "      <td>Resort Hotel</td>\n",
       "      <td>0</td>\n",
       "      <td>14</td>\n",
       "      <td>2015</td>\n",
       "      <td>July</td>\n",
       "      <td>27</td>\n",
       "      <td>1</td>\n",
       "      <td>0</td>\n",
       "      <td>2</td>\n",
       "      <td>2</td>\n",
       "      <td>...</td>\n",
       "      <td>No Deposit</td>\n",
       "      <td>240</td>\n",
       "      <td>0</td>\n",
       "      <td>0</td>\n",
       "      <td>Transient</td>\n",
       "      <td>98.00</td>\n",
       "      <td>0</td>\n",
       "      <td>1</td>\n",
       "      <td>Check-Out</td>\n",
       "      <td>2015-07-03</td>\n",
       "    </tr>\n",
       "    <tr>\n",
       "      <th>...</th>\n",
       "      <td>...</td>\n",
       "      <td>...</td>\n",
       "      <td>...</td>\n",
       "      <td>...</td>\n",
       "      <td>...</td>\n",
       "      <td>...</td>\n",
       "      <td>...</td>\n",
       "      <td>...</td>\n",
       "      <td>...</td>\n",
       "      <td>...</td>\n",
       "      <td>...</td>\n",
       "      <td>...</td>\n",
       "      <td>...</td>\n",
       "      <td>...</td>\n",
       "      <td>...</td>\n",
       "      <td>...</td>\n",
       "      <td>...</td>\n",
       "      <td>...</td>\n",
       "      <td>...</td>\n",
       "      <td>...</td>\n",
       "      <td>...</td>\n",
       "    </tr>\n",
       "    <tr>\n",
       "      <th>119385</th>\n",
       "      <td>City Hotel</td>\n",
       "      <td>0</td>\n",
       "      <td>23</td>\n",
       "      <td>2017</td>\n",
       "      <td>August</td>\n",
       "      <td>35</td>\n",
       "      <td>30</td>\n",
       "      <td>2</td>\n",
       "      <td>5</td>\n",
       "      <td>2</td>\n",
       "      <td>...</td>\n",
       "      <td>No Deposit</td>\n",
       "      <td>394</td>\n",
       "      <td>0</td>\n",
       "      <td>0</td>\n",
       "      <td>Transient</td>\n",
       "      <td>96.14</td>\n",
       "      <td>0</td>\n",
       "      <td>0</td>\n",
       "      <td>Check-Out</td>\n",
       "      <td>2017-09-06</td>\n",
       "    </tr>\n",
       "    <tr>\n",
       "      <th>119386</th>\n",
       "      <td>City Hotel</td>\n",
       "      <td>0</td>\n",
       "      <td>102</td>\n",
       "      <td>2017</td>\n",
       "      <td>August</td>\n",
       "      <td>35</td>\n",
       "      <td>31</td>\n",
       "      <td>2</td>\n",
       "      <td>5</td>\n",
       "      <td>3</td>\n",
       "      <td>...</td>\n",
       "      <td>No Deposit</td>\n",
       "      <td>9</td>\n",
       "      <td>0</td>\n",
       "      <td>0</td>\n",
       "      <td>Transient</td>\n",
       "      <td>225.43</td>\n",
       "      <td>0</td>\n",
       "      <td>2</td>\n",
       "      <td>Check-Out</td>\n",
       "      <td>2017-09-07</td>\n",
       "    </tr>\n",
       "    <tr>\n",
       "      <th>119387</th>\n",
       "      <td>City Hotel</td>\n",
       "      <td>0</td>\n",
       "      <td>34</td>\n",
       "      <td>2017</td>\n",
       "      <td>August</td>\n",
       "      <td>35</td>\n",
       "      <td>31</td>\n",
       "      <td>2</td>\n",
       "      <td>5</td>\n",
       "      <td>2</td>\n",
       "      <td>...</td>\n",
       "      <td>No Deposit</td>\n",
       "      <td>9</td>\n",
       "      <td>0</td>\n",
       "      <td>0</td>\n",
       "      <td>Transient</td>\n",
       "      <td>157.71</td>\n",
       "      <td>0</td>\n",
       "      <td>4</td>\n",
       "      <td>Check-Out</td>\n",
       "      <td>2017-09-07</td>\n",
       "    </tr>\n",
       "    <tr>\n",
       "      <th>119388</th>\n",
       "      <td>City Hotel</td>\n",
       "      <td>0</td>\n",
       "      <td>109</td>\n",
       "      <td>2017</td>\n",
       "      <td>August</td>\n",
       "      <td>35</td>\n",
       "      <td>31</td>\n",
       "      <td>2</td>\n",
       "      <td>5</td>\n",
       "      <td>2</td>\n",
       "      <td>...</td>\n",
       "      <td>No Deposit</td>\n",
       "      <td>89</td>\n",
       "      <td>0</td>\n",
       "      <td>0</td>\n",
       "      <td>Transient</td>\n",
       "      <td>104.40</td>\n",
       "      <td>0</td>\n",
       "      <td>0</td>\n",
       "      <td>Check-Out</td>\n",
       "      <td>2017-09-07</td>\n",
       "    </tr>\n",
       "    <tr>\n",
       "      <th>119389</th>\n",
       "      <td>City Hotel</td>\n",
       "      <td>0</td>\n",
       "      <td>205</td>\n",
       "      <td>2017</td>\n",
       "      <td>August</td>\n",
       "      <td>35</td>\n",
       "      <td>29</td>\n",
       "      <td>2</td>\n",
       "      <td>7</td>\n",
       "      <td>2</td>\n",
       "      <td>...</td>\n",
       "      <td>No Deposit</td>\n",
       "      <td>9</td>\n",
       "      <td>0</td>\n",
       "      <td>0</td>\n",
       "      <td>Transient</td>\n",
       "      <td>151.20</td>\n",
       "      <td>0</td>\n",
       "      <td>2</td>\n",
       "      <td>Check-Out</td>\n",
       "      <td>2017-09-07</td>\n",
       "    </tr>\n",
       "  </tbody>\n",
       "</table>\n",
       "<p>119210 rows × 32 columns</p>\n",
       "</div>"
      ],
      "text/plain": [
       "               hotel  is_canceled  lead_time  arrival_date_year  \\\n",
       "0       Resort Hotel            0        342               2015   \n",
       "1       Resort Hotel            0        737               2015   \n",
       "2       Resort Hotel            0          7               2015   \n",
       "3       Resort Hotel            0         13               2015   \n",
       "4       Resort Hotel            0         14               2015   \n",
       "...              ...          ...        ...                ...   \n",
       "119385    City Hotel            0         23               2017   \n",
       "119386    City Hotel            0        102               2017   \n",
       "119387    City Hotel            0         34               2017   \n",
       "119388    City Hotel            0        109               2017   \n",
       "119389    City Hotel            0        205               2017   \n",
       "\n",
       "       arrival_date_month  arrival_date_week_number  \\\n",
       "0                    July                        27   \n",
       "1                    July                        27   \n",
       "2                    July                        27   \n",
       "3                    July                        27   \n",
       "4                    July                        27   \n",
       "...                   ...                       ...   \n",
       "119385             August                        35   \n",
       "119386             August                        35   \n",
       "119387             August                        35   \n",
       "119388             August                        35   \n",
       "119389             August                        35   \n",
       "\n",
       "        arrival_date_day_of_month  stays_in_weekend_nights  \\\n",
       "0                               1                        0   \n",
       "1                               1                        0   \n",
       "2                               1                        0   \n",
       "3                               1                        0   \n",
       "4                               1                        0   \n",
       "...                           ...                      ...   \n",
       "119385                         30                        2   \n",
       "119386                         31                        2   \n",
       "119387                         31                        2   \n",
       "119388                         31                        2   \n",
       "119389                         29                        2   \n",
       "\n",
       "        stays_in_week_nights  adults  ...  deposit_type  agent company  \\\n",
       "0                          0       2  ...    No Deposit      0       0   \n",
       "1                          0       2  ...    No Deposit      0       0   \n",
       "2                          1       1  ...    No Deposit      0       0   \n",
       "3                          1       1  ...    No Deposit    304       0   \n",
       "4                          2       2  ...    No Deposit    240       0   \n",
       "...                      ...     ...  ...           ...    ...     ...   \n",
       "119385                     5       2  ...    No Deposit    394       0   \n",
       "119386                     5       3  ...    No Deposit      9       0   \n",
       "119387                     5       2  ...    No Deposit      9       0   \n",
       "119388                     5       2  ...    No Deposit     89       0   \n",
       "119389                     7       2  ...    No Deposit      9       0   \n",
       "\n",
       "       days_in_waiting_list customer_type     adr  \\\n",
       "0                         0     Transient    0.00   \n",
       "1                         0     Transient    0.00   \n",
       "2                         0     Transient   75.00   \n",
       "3                         0     Transient   75.00   \n",
       "4                         0     Transient   98.00   \n",
       "...                     ...           ...     ...   \n",
       "119385                    0     Transient   96.14   \n",
       "119386                    0     Transient  225.43   \n",
       "119387                    0     Transient  157.71   \n",
       "119388                    0     Transient  104.40   \n",
       "119389                    0     Transient  151.20   \n",
       "\n",
       "        required_car_parking_spaces  total_of_special_requests  \\\n",
       "0                                 0                          0   \n",
       "1                                 0                          0   \n",
       "2                                 0                          0   \n",
       "3                                 0                          0   \n",
       "4                                 0                          1   \n",
       "...                             ...                        ...   \n",
       "119385                            0                          0   \n",
       "119386                            0                          2   \n",
       "119387                            0                          4   \n",
       "119388                            0                          0   \n",
       "119389                            0                          2   \n",
       "\n",
       "        reservation_status reservation_status_date  \n",
       "0                Check-Out              2015-07-01  \n",
       "1                Check-Out              2015-07-01  \n",
       "2                Check-Out              2015-07-02  \n",
       "3                Check-Out              2015-07-02  \n",
       "4                Check-Out              2015-07-03  \n",
       "...                    ...                     ...  \n",
       "119385           Check-Out              2017-09-06  \n",
       "119386           Check-Out              2017-09-07  \n",
       "119387           Check-Out              2017-09-07  \n",
       "119388           Check-Out              2017-09-07  \n",
       "119389           Check-Out              2017-09-07  \n",
       "\n",
       "[119210 rows x 32 columns]"
      ]
     },
     "execution_count": 34,
     "metadata": {},
     "output_type": "execute_result"
    }
   ],
   "source": [
    "df"
   ]
  },
  {
   "cell_type": "code",
   "execution_count": 35,
   "id": "827f751a",
   "metadata": {},
   "outputs": [],
   "source": [
    "## Copy the dataframe\n",
    "df_subset = df.copy()"
   ]
  },
  {
   "cell_type": "code",
   "execution_count": 36,
   "id": "4ffa029d",
   "metadata": {},
   "outputs": [],
   "source": [
    "## Make the new column which contain 1 if guest received the same room which was reserved otherwise 0\n",
    "df_subset['Room'] = 0\n",
    "df_subset.loc[ df_subset['reserved_room_type'] == df_subset['assigned_room_type'] , 'Room'] = 1\n",
    "\n",
    "\n",
    "## Make the new column which contain 1 if the guest has cancelled more booking in the past\n",
    "## than the number of booking he did not cancel, otherwise 0\n",
    "\n",
    "df_subset['net_cancelled'] = 0\n",
    "df_subset.loc[ df_subset['previous_cancellations'] > df_subset['previous_bookings_not_canceled'] , 'net_cancelled'] = 1"
   ]
  },
  {
   "cell_type": "code",
   "execution_count": 37,
   "id": "cdea789c",
   "metadata": {},
   "outputs": [
    {
     "data": {
      "text/html": [
       "<div>\n",
       "<style scoped>\n",
       "    .dataframe tbody tr th:only-of-type {\n",
       "        vertical-align: middle;\n",
       "    }\n",
       "\n",
       "    .dataframe tbody tr th {\n",
       "        vertical-align: top;\n",
       "    }\n",
       "\n",
       "    .dataframe thead th {\n",
       "        text-align: right;\n",
       "    }\n",
       "</style>\n",
       "<table border=\"1\" class=\"dataframe\">\n",
       "  <thead>\n",
       "    <tr style=\"text-align: right;\">\n",
       "      <th></th>\n",
       "      <th>hotel</th>\n",
       "      <th>is_canceled</th>\n",
       "      <th>lead_time</th>\n",
       "      <th>arrival_date_year</th>\n",
       "      <th>arrival_date_month</th>\n",
       "      <th>arrival_date_week_number</th>\n",
       "      <th>arrival_date_day_of_month</th>\n",
       "      <th>stays_in_weekend_nights</th>\n",
       "      <th>stays_in_week_nights</th>\n",
       "      <th>adults</th>\n",
       "      <th>...</th>\n",
       "      <th>company</th>\n",
       "      <th>days_in_waiting_list</th>\n",
       "      <th>customer_type</th>\n",
       "      <th>adr</th>\n",
       "      <th>required_car_parking_spaces</th>\n",
       "      <th>total_of_special_requests</th>\n",
       "      <th>reservation_status</th>\n",
       "      <th>reservation_status_date</th>\n",
       "      <th>Room</th>\n",
       "      <th>net_cancelled</th>\n",
       "    </tr>\n",
       "  </thead>\n",
       "  <tbody>\n",
       "    <tr>\n",
       "      <th>0</th>\n",
       "      <td>Resort Hotel</td>\n",
       "      <td>0</td>\n",
       "      <td>342</td>\n",
       "      <td>2015</td>\n",
       "      <td>July</td>\n",
       "      <td>27</td>\n",
       "      <td>1</td>\n",
       "      <td>0</td>\n",
       "      <td>0</td>\n",
       "      <td>2</td>\n",
       "      <td>...</td>\n",
       "      <td>0</td>\n",
       "      <td>0</td>\n",
       "      <td>Transient</td>\n",
       "      <td>0.00</td>\n",
       "      <td>0</td>\n",
       "      <td>0</td>\n",
       "      <td>Check-Out</td>\n",
       "      <td>2015-07-01</td>\n",
       "      <td>1</td>\n",
       "      <td>0</td>\n",
       "    </tr>\n",
       "    <tr>\n",
       "      <th>1</th>\n",
       "      <td>Resort Hotel</td>\n",
       "      <td>0</td>\n",
       "      <td>737</td>\n",
       "      <td>2015</td>\n",
       "      <td>July</td>\n",
       "      <td>27</td>\n",
       "      <td>1</td>\n",
       "      <td>0</td>\n",
       "      <td>0</td>\n",
       "      <td>2</td>\n",
       "      <td>...</td>\n",
       "      <td>0</td>\n",
       "      <td>0</td>\n",
       "      <td>Transient</td>\n",
       "      <td>0.00</td>\n",
       "      <td>0</td>\n",
       "      <td>0</td>\n",
       "      <td>Check-Out</td>\n",
       "      <td>2015-07-01</td>\n",
       "      <td>1</td>\n",
       "      <td>0</td>\n",
       "    </tr>\n",
       "    <tr>\n",
       "      <th>2</th>\n",
       "      <td>Resort Hotel</td>\n",
       "      <td>0</td>\n",
       "      <td>7</td>\n",
       "      <td>2015</td>\n",
       "      <td>July</td>\n",
       "      <td>27</td>\n",
       "      <td>1</td>\n",
       "      <td>0</td>\n",
       "      <td>1</td>\n",
       "      <td>1</td>\n",
       "      <td>...</td>\n",
       "      <td>0</td>\n",
       "      <td>0</td>\n",
       "      <td>Transient</td>\n",
       "      <td>75.00</td>\n",
       "      <td>0</td>\n",
       "      <td>0</td>\n",
       "      <td>Check-Out</td>\n",
       "      <td>2015-07-02</td>\n",
       "      <td>0</td>\n",
       "      <td>0</td>\n",
       "    </tr>\n",
       "    <tr>\n",
       "      <th>3</th>\n",
       "      <td>Resort Hotel</td>\n",
       "      <td>0</td>\n",
       "      <td>13</td>\n",
       "      <td>2015</td>\n",
       "      <td>July</td>\n",
       "      <td>27</td>\n",
       "      <td>1</td>\n",
       "      <td>0</td>\n",
       "      <td>1</td>\n",
       "      <td>1</td>\n",
       "      <td>...</td>\n",
       "      <td>0</td>\n",
       "      <td>0</td>\n",
       "      <td>Transient</td>\n",
       "      <td>75.00</td>\n",
       "      <td>0</td>\n",
       "      <td>0</td>\n",
       "      <td>Check-Out</td>\n",
       "      <td>2015-07-02</td>\n",
       "      <td>1</td>\n",
       "      <td>0</td>\n",
       "    </tr>\n",
       "    <tr>\n",
       "      <th>4</th>\n",
       "      <td>Resort Hotel</td>\n",
       "      <td>0</td>\n",
       "      <td>14</td>\n",
       "      <td>2015</td>\n",
       "      <td>July</td>\n",
       "      <td>27</td>\n",
       "      <td>1</td>\n",
       "      <td>0</td>\n",
       "      <td>2</td>\n",
       "      <td>2</td>\n",
       "      <td>...</td>\n",
       "      <td>0</td>\n",
       "      <td>0</td>\n",
       "      <td>Transient</td>\n",
       "      <td>98.00</td>\n",
       "      <td>0</td>\n",
       "      <td>1</td>\n",
       "      <td>Check-Out</td>\n",
       "      <td>2015-07-03</td>\n",
       "      <td>1</td>\n",
       "      <td>0</td>\n",
       "    </tr>\n",
       "    <tr>\n",
       "      <th>...</th>\n",
       "      <td>...</td>\n",
       "      <td>...</td>\n",
       "      <td>...</td>\n",
       "      <td>...</td>\n",
       "      <td>...</td>\n",
       "      <td>...</td>\n",
       "      <td>...</td>\n",
       "      <td>...</td>\n",
       "      <td>...</td>\n",
       "      <td>...</td>\n",
       "      <td>...</td>\n",
       "      <td>...</td>\n",
       "      <td>...</td>\n",
       "      <td>...</td>\n",
       "      <td>...</td>\n",
       "      <td>...</td>\n",
       "      <td>...</td>\n",
       "      <td>...</td>\n",
       "      <td>...</td>\n",
       "      <td>...</td>\n",
       "      <td>...</td>\n",
       "    </tr>\n",
       "    <tr>\n",
       "      <th>119385</th>\n",
       "      <td>City Hotel</td>\n",
       "      <td>0</td>\n",
       "      <td>23</td>\n",
       "      <td>2017</td>\n",
       "      <td>August</td>\n",
       "      <td>35</td>\n",
       "      <td>30</td>\n",
       "      <td>2</td>\n",
       "      <td>5</td>\n",
       "      <td>2</td>\n",
       "      <td>...</td>\n",
       "      <td>0</td>\n",
       "      <td>0</td>\n",
       "      <td>Transient</td>\n",
       "      <td>96.14</td>\n",
       "      <td>0</td>\n",
       "      <td>0</td>\n",
       "      <td>Check-Out</td>\n",
       "      <td>2017-09-06</td>\n",
       "      <td>1</td>\n",
       "      <td>0</td>\n",
       "    </tr>\n",
       "    <tr>\n",
       "      <th>119386</th>\n",
       "      <td>City Hotel</td>\n",
       "      <td>0</td>\n",
       "      <td>102</td>\n",
       "      <td>2017</td>\n",
       "      <td>August</td>\n",
       "      <td>35</td>\n",
       "      <td>31</td>\n",
       "      <td>2</td>\n",
       "      <td>5</td>\n",
       "      <td>3</td>\n",
       "      <td>...</td>\n",
       "      <td>0</td>\n",
       "      <td>0</td>\n",
       "      <td>Transient</td>\n",
       "      <td>225.43</td>\n",
       "      <td>0</td>\n",
       "      <td>2</td>\n",
       "      <td>Check-Out</td>\n",
       "      <td>2017-09-07</td>\n",
       "      <td>1</td>\n",
       "      <td>0</td>\n",
       "    </tr>\n",
       "    <tr>\n",
       "      <th>119387</th>\n",
       "      <td>City Hotel</td>\n",
       "      <td>0</td>\n",
       "      <td>34</td>\n",
       "      <td>2017</td>\n",
       "      <td>August</td>\n",
       "      <td>35</td>\n",
       "      <td>31</td>\n",
       "      <td>2</td>\n",
       "      <td>5</td>\n",
       "      <td>2</td>\n",
       "      <td>...</td>\n",
       "      <td>0</td>\n",
       "      <td>0</td>\n",
       "      <td>Transient</td>\n",
       "      <td>157.71</td>\n",
       "      <td>0</td>\n",
       "      <td>4</td>\n",
       "      <td>Check-Out</td>\n",
       "      <td>2017-09-07</td>\n",
       "      <td>1</td>\n",
       "      <td>0</td>\n",
       "    </tr>\n",
       "    <tr>\n",
       "      <th>119388</th>\n",
       "      <td>City Hotel</td>\n",
       "      <td>0</td>\n",
       "      <td>109</td>\n",
       "      <td>2017</td>\n",
       "      <td>August</td>\n",
       "      <td>35</td>\n",
       "      <td>31</td>\n",
       "      <td>2</td>\n",
       "      <td>5</td>\n",
       "      <td>2</td>\n",
       "      <td>...</td>\n",
       "      <td>0</td>\n",
       "      <td>0</td>\n",
       "      <td>Transient</td>\n",
       "      <td>104.40</td>\n",
       "      <td>0</td>\n",
       "      <td>0</td>\n",
       "      <td>Check-Out</td>\n",
       "      <td>2017-09-07</td>\n",
       "      <td>1</td>\n",
       "      <td>0</td>\n",
       "    </tr>\n",
       "    <tr>\n",
       "      <th>119389</th>\n",
       "      <td>City Hotel</td>\n",
       "      <td>0</td>\n",
       "      <td>205</td>\n",
       "      <td>2017</td>\n",
       "      <td>August</td>\n",
       "      <td>35</td>\n",
       "      <td>29</td>\n",
       "      <td>2</td>\n",
       "      <td>7</td>\n",
       "      <td>2</td>\n",
       "      <td>...</td>\n",
       "      <td>0</td>\n",
       "      <td>0</td>\n",
       "      <td>Transient</td>\n",
       "      <td>151.20</td>\n",
       "      <td>0</td>\n",
       "      <td>2</td>\n",
       "      <td>Check-Out</td>\n",
       "      <td>2017-09-07</td>\n",
       "      <td>1</td>\n",
       "      <td>0</td>\n",
       "    </tr>\n",
       "  </tbody>\n",
       "</table>\n",
       "<p>119210 rows × 34 columns</p>\n",
       "</div>"
      ],
      "text/plain": [
       "               hotel  is_canceled  lead_time  arrival_date_year  \\\n",
       "0       Resort Hotel            0        342               2015   \n",
       "1       Resort Hotel            0        737               2015   \n",
       "2       Resort Hotel            0          7               2015   \n",
       "3       Resort Hotel            0         13               2015   \n",
       "4       Resort Hotel            0         14               2015   \n",
       "...              ...          ...        ...                ...   \n",
       "119385    City Hotel            0         23               2017   \n",
       "119386    City Hotel            0        102               2017   \n",
       "119387    City Hotel            0         34               2017   \n",
       "119388    City Hotel            0        109               2017   \n",
       "119389    City Hotel            0        205               2017   \n",
       "\n",
       "       arrival_date_month  arrival_date_week_number  \\\n",
       "0                    July                        27   \n",
       "1                    July                        27   \n",
       "2                    July                        27   \n",
       "3                    July                        27   \n",
       "4                    July                        27   \n",
       "...                   ...                       ...   \n",
       "119385             August                        35   \n",
       "119386             August                        35   \n",
       "119387             August                        35   \n",
       "119388             August                        35   \n",
       "119389             August                        35   \n",
       "\n",
       "        arrival_date_day_of_month  stays_in_weekend_nights  \\\n",
       "0                               1                        0   \n",
       "1                               1                        0   \n",
       "2                               1                        0   \n",
       "3                               1                        0   \n",
       "4                               1                        0   \n",
       "...                           ...                      ...   \n",
       "119385                         30                        2   \n",
       "119386                         31                        2   \n",
       "119387                         31                        2   \n",
       "119388                         31                        2   \n",
       "119389                         29                        2   \n",
       "\n",
       "        stays_in_week_nights  adults  ...  company  days_in_waiting_list  \\\n",
       "0                          0       2  ...        0                     0   \n",
       "1                          0       2  ...        0                     0   \n",
       "2                          1       1  ...        0                     0   \n",
       "3                          1       1  ...        0                     0   \n",
       "4                          2       2  ...        0                     0   \n",
       "...                      ...     ...  ...      ...                   ...   \n",
       "119385                     5       2  ...        0                     0   \n",
       "119386                     5       3  ...        0                     0   \n",
       "119387                     5       2  ...        0                     0   \n",
       "119388                     5       2  ...        0                     0   \n",
       "119389                     7       2  ...        0                     0   \n",
       "\n",
       "       customer_type     adr required_car_parking_spaces  \\\n",
       "0          Transient    0.00                           0   \n",
       "1          Transient    0.00                           0   \n",
       "2          Transient   75.00                           0   \n",
       "3          Transient   75.00                           0   \n",
       "4          Transient   98.00                           0   \n",
       "...              ...     ...                         ...   \n",
       "119385     Transient   96.14                           0   \n",
       "119386     Transient  225.43                           0   \n",
       "119387     Transient  157.71                           0   \n",
       "119388     Transient  104.40                           0   \n",
       "119389     Transient  151.20                           0   \n",
       "\n",
       "       total_of_special_requests  reservation_status  reservation_status_date  \\\n",
       "0                              0           Check-Out               2015-07-01   \n",
       "1                              0           Check-Out               2015-07-01   \n",
       "2                              0           Check-Out               2015-07-02   \n",
       "3                              0           Check-Out               2015-07-02   \n",
       "4                              1           Check-Out               2015-07-03   \n",
       "...                          ...                 ...                      ...   \n",
       "119385                         0           Check-Out               2017-09-06   \n",
       "119386                         2           Check-Out               2017-09-07   \n",
       "119387                         4           Check-Out               2017-09-07   \n",
       "119388                         0           Check-Out               2017-09-07   \n",
       "119389                         2           Check-Out               2017-09-07   \n",
       "\n",
       "        Room net_cancelled  \n",
       "0          1             0  \n",
       "1          1             0  \n",
       "2          0             0  \n",
       "3          1             0  \n",
       "4          1             0  \n",
       "...      ...           ...  \n",
       "119385     1             0  \n",
       "119386     1             0  \n",
       "119387     1             0  \n",
       "119388     1             0  \n",
       "119389     1             0  \n",
       "\n",
       "[119210 rows x 34 columns]"
      ]
     },
     "execution_count": 37,
     "metadata": {},
     "output_type": "execute_result"
    }
   ],
   "source": [
    "df_subset"
   ]
  },
  {
   "cell_type": "code",
   "execution_count": 38,
   "id": "f822eccc",
   "metadata": {},
   "outputs": [
    {
     "data": {
      "image/png": "[encoded data removed]",
      "text/plain": [
       "<Figure size 1440x720 with 22 Axes>"
      ]
     },
     "metadata": {},
     "output_type": "display_data"
    }
   ],
   "source": [
    "import warnings\n",
    "warnings.filterwarnings('ignore')\n",
    "plt.figure(figsize = (20, 10))\n",
    "x = 1 \n",
    "\n",
    "for column in df_subset.describe().columns:\n",
    "    plt.subplot(6,4,x)\n",
    "    sns.boxplot(df_subset[column])\n",
    "    x+=1\n",
    "    \n",
    "plt.tight_layout()"
   ]
  },
  {
   "cell_type": "code",
   "execution_count": 39,
   "id": "dfebd746",
   "metadata": {},
   "outputs": [
    {
     "data": {
      "text/plain": [
       "<AxesSubplot:xlabel='lead_time', ylabel='Density'>"
      ]
     },
     "execution_count": 39,
     "metadata": {},
     "output_type": "execute_result"
    },
    {
     "data": {
      "image/png": "[encoded data removed]",
      "text/plain": [
       "<Figure size 432x288 with 1 Axes>"
      ]
     },
     "metadata": {},
     "output_type": "display_data"
    }
   ],
   "source": [
    "sns.distplot(df_subset['lead_time'])"
   ]
  },
  {
   "cell_type": "code",
   "execution_count": 40,
   "id": "89ca8451",
   "metadata": {},
   "outputs": [
    {
     "data": {
      "text/plain": [
       "143.0"
      ]
     },
     "execution_count": 40,
     "metadata": {},
     "output_type": "execute_result"
    }
   ],
   "source": [
    "# Lets compute the Interquantile range to calculate the boundaries\n",
    "IQR=df_subset.lead_time.quantile(0.75)-df_subset.lead_time.quantile(0.25)\n",
    "IQR"
   ]
  },
  {
   "cell_type": "code",
   "execution_count": 41,
   "id": "386caa15",
   "metadata": {},
   "outputs": [
    {
     "name": "stdout",
     "output_type": "stream",
     "text": [
      "-196.5\n",
      "375.5\n"
     ]
    },
    {
     "data": {
      "text/plain": [
       "(None, None)"
      ]
     },
     "execution_count": 41,
     "metadata": {},
     "output_type": "execute_result"
    }
   ],
   "source": [
    "# Outliers which 1.5 standard deviation away\n",
    "lower_limit=df_subset['lead_time'].quantile(0.25)-(IQR*1.5)\n",
    "upper_limit=df_subset['lead_time'].quantile(0.75)+(IQR*1.5)\n",
    "print(lower_limit), print(upper_limit)"
   ]
  },
  {
   "cell_type": "code",
   "execution_count": 42,
   "id": "bf554a1b",
   "metadata": {},
   "outputs": [
    {
     "name": "stdout",
     "output_type": "stream",
     "text": [
      "-196.5\n",
      "375.5\n"
     ]
    },
    {
     "data": {
      "text/plain": [
       "(None, None)"
      ]
     },
     "execution_count": 42,
     "metadata": {},
     "output_type": "execute_result"
    }
   ],
   "source": [
    "print(lower_limit), print(upper_limit)"
   ]
  },
  {
   "cell_type": "code",
   "execution_count": 43,
   "id": "8f4410ec",
   "metadata": {},
   "outputs": [
    {
     "data": {
      "text/html": [
       "<div>\n",
       "<style scoped>\n",
       "    .dataframe tbody tr th:only-of-type {\n",
       "        vertical-align: middle;\n",
       "    }\n",
       "\n",
       "    .dataframe tbody tr th {\n",
       "        vertical-align: top;\n",
       "    }\n",
       "\n",
       "    .dataframe thead th {\n",
       "        text-align: right;\n",
       "    }\n",
       "</style>\n",
       "<table border=\"1\" class=\"dataframe\">\n",
       "  <thead>\n",
       "    <tr style=\"text-align: right;\">\n",
       "      <th></th>\n",
       "      <th>hotel</th>\n",
       "      <th>is_canceled</th>\n",
       "      <th>lead_time</th>\n",
       "      <th>arrival_date_year</th>\n",
       "      <th>arrival_date_month</th>\n",
       "      <th>arrival_date_week_number</th>\n",
       "      <th>arrival_date_day_of_month</th>\n",
       "      <th>stays_in_weekend_nights</th>\n",
       "      <th>stays_in_week_nights</th>\n",
       "      <th>adults</th>\n",
       "      <th>...</th>\n",
       "      <th>company</th>\n",
       "      <th>days_in_waiting_list</th>\n",
       "      <th>customer_type</th>\n",
       "      <th>adr</th>\n",
       "      <th>required_car_parking_spaces</th>\n",
       "      <th>total_of_special_requests</th>\n",
       "      <th>reservation_status</th>\n",
       "      <th>reservation_status_date</th>\n",
       "      <th>Room</th>\n",
       "      <th>net_cancelled</th>\n",
       "    </tr>\n",
       "  </thead>\n",
       "  <tbody>\n",
       "    <tr>\n",
       "      <th>1</th>\n",
       "      <td>Resort Hotel</td>\n",
       "      <td>0</td>\n",
       "      <td>737</td>\n",
       "      <td>2015</td>\n",
       "      <td>July</td>\n",
       "      <td>27</td>\n",
       "      <td>1</td>\n",
       "      <td>0</td>\n",
       "      <td>0</td>\n",
       "      <td>2</td>\n",
       "      <td>...</td>\n",
       "      <td>0</td>\n",
       "      <td>0</td>\n",
       "      <td>Transient</td>\n",
       "      <td>0.00</td>\n",
       "      <td>0</td>\n",
       "      <td>0</td>\n",
       "      <td>Check-Out</td>\n",
       "      <td>2015-07-01</td>\n",
       "      <td>1</td>\n",
       "      <td>0</td>\n",
       "    </tr>\n",
       "    <tr>\n",
       "      <th>225</th>\n",
       "      <td>Resort Hotel</td>\n",
       "      <td>0</td>\n",
       "      <td>394</td>\n",
       "      <td>2015</td>\n",
       "      <td>July</td>\n",
       "      <td>28</td>\n",
       "      <td>8</td>\n",
       "      <td>2</td>\n",
       "      <td>5</td>\n",
       "      <td>2</td>\n",
       "      <td>...</td>\n",
       "      <td>0</td>\n",
       "      <td>0</td>\n",
       "      <td>Contract</td>\n",
       "      <td>89.68</td>\n",
       "      <td>0</td>\n",
       "      <td>0</td>\n",
       "      <td>Check-Out</td>\n",
       "      <td>2015-07-15</td>\n",
       "      <td>1</td>\n",
       "      <td>0</td>\n",
       "    </tr>\n",
       "    <tr>\n",
       "      <th>890</th>\n",
       "      <td>Resort Hotel</td>\n",
       "      <td>0</td>\n",
       "      <td>460</td>\n",
       "      <td>2015</td>\n",
       "      <td>August</td>\n",
       "      <td>32</td>\n",
       "      <td>3</td>\n",
       "      <td>2</td>\n",
       "      <td>5</td>\n",
       "      <td>1</td>\n",
       "      <td>...</td>\n",
       "      <td>0</td>\n",
       "      <td>0</td>\n",
       "      <td>Contract</td>\n",
       "      <td>77.54</td>\n",
       "      <td>0</td>\n",
       "      <td>0</td>\n",
       "      <td>Check-Out</td>\n",
       "      <td>2015-08-10</td>\n",
       "      <td>1</td>\n",
       "      <td>0</td>\n",
       "    </tr>\n",
       "    <tr>\n",
       "      <th>1516</th>\n",
       "      <td>Resort Hotel</td>\n",
       "      <td>0</td>\n",
       "      <td>381</td>\n",
       "      <td>2015</td>\n",
       "      <td>September</td>\n",
       "      <td>36</td>\n",
       "      <td>1</td>\n",
       "      <td>4</td>\n",
       "      <td>10</td>\n",
       "      <td>2</td>\n",
       "      <td>...</td>\n",
       "      <td>0</td>\n",
       "      <td>0</td>\n",
       "      <td>Contract</td>\n",
       "      <td>82.88</td>\n",
       "      <td>0</td>\n",
       "      <td>0</td>\n",
       "      <td>Check-Out</td>\n",
       "      <td>2015-09-15</td>\n",
       "      <td>1</td>\n",
       "      <td>0</td>\n",
       "    </tr>\n",
       "    <tr>\n",
       "      <th>1672</th>\n",
       "      <td>Resort Hotel</td>\n",
       "      <td>0</td>\n",
       "      <td>382</td>\n",
       "      <td>2015</td>\n",
       "      <td>September</td>\n",
       "      <td>37</td>\n",
       "      <td>8</td>\n",
       "      <td>4</td>\n",
       "      <td>10</td>\n",
       "      <td>2</td>\n",
       "      <td>...</td>\n",
       "      <td>0</td>\n",
       "      <td>0</td>\n",
       "      <td>Contract</td>\n",
       "      <td>76.50</td>\n",
       "      <td>0</td>\n",
       "      <td>0</td>\n",
       "      <td>Check-Out</td>\n",
       "      <td>2015-09-22</td>\n",
       "      <td>1</td>\n",
       "      <td>0</td>\n",
       "    </tr>\n",
       "    <tr>\n",
       "      <th>...</th>\n",
       "      <td>...</td>\n",
       "      <td>...</td>\n",
       "      <td>...</td>\n",
       "      <td>...</td>\n",
       "      <td>...</td>\n",
       "      <td>...</td>\n",
       "      <td>...</td>\n",
       "      <td>...</td>\n",
       "      <td>...</td>\n",
       "      <td>...</td>\n",
       "      <td>...</td>\n",
       "      <td>...</td>\n",
       "      <td>...</td>\n",
       "      <td>...</td>\n",
       "      <td>...</td>\n",
       "      <td>...</td>\n",
       "      <td>...</td>\n",
       "      <td>...</td>\n",
       "      <td>...</td>\n",
       "      <td>...</td>\n",
       "      <td>...</td>\n",
       "    </tr>\n",
       "    <tr>\n",
       "      <th>119102</th>\n",
       "      <td>City Hotel</td>\n",
       "      <td>0</td>\n",
       "      <td>518</td>\n",
       "      <td>2017</td>\n",
       "      <td>August</td>\n",
       "      <td>34</td>\n",
       "      <td>26</td>\n",
       "      <td>2</td>\n",
       "      <td>1</td>\n",
       "      <td>1</td>\n",
       "      <td>...</td>\n",
       "      <td>0</td>\n",
       "      <td>0</td>\n",
       "      <td>Transient-Party</td>\n",
       "      <td>0.00</td>\n",
       "      <td>0</td>\n",
       "      <td>0</td>\n",
       "      <td>Check-Out</td>\n",
       "      <td>2017-08-29</td>\n",
       "      <td>1</td>\n",
       "      <td>0</td>\n",
       "    </tr>\n",
       "    <tr>\n",
       "      <th>119107</th>\n",
       "      <td>City Hotel</td>\n",
       "      <td>0</td>\n",
       "      <td>518</td>\n",
       "      <td>2017</td>\n",
       "      <td>August</td>\n",
       "      <td>34</td>\n",
       "      <td>26</td>\n",
       "      <td>2</td>\n",
       "      <td>1</td>\n",
       "      <td>2</td>\n",
       "      <td>...</td>\n",
       "      <td>0</td>\n",
       "      <td>0</td>\n",
       "      <td>Transient-Party</td>\n",
       "      <td>112.67</td>\n",
       "      <td>0</td>\n",
       "      <td>1</td>\n",
       "      <td>Check-Out</td>\n",
       "      <td>2017-08-29</td>\n",
       "      <td>1</td>\n",
       "      <td>0</td>\n",
       "    </tr>\n",
       "    <tr>\n",
       "      <th>119109</th>\n",
       "      <td>City Hotel</td>\n",
       "      <td>0</td>\n",
       "      <td>518</td>\n",
       "      <td>2017</td>\n",
       "      <td>August</td>\n",
       "      <td>34</td>\n",
       "      <td>26</td>\n",
       "      <td>2</td>\n",
       "      <td>1</td>\n",
       "      <td>2</td>\n",
       "      <td>...</td>\n",
       "      <td>0</td>\n",
       "      <td>0</td>\n",
       "      <td>Transient-Party</td>\n",
       "      <td>112.67</td>\n",
       "      <td>0</td>\n",
       "      <td>1</td>\n",
       "      <td>Check-Out</td>\n",
       "      <td>2017-08-29</td>\n",
       "      <td>1</td>\n",
       "      <td>0</td>\n",
       "    </tr>\n",
       "    <tr>\n",
       "      <th>119111</th>\n",
       "      <td>City Hotel</td>\n",
       "      <td>0</td>\n",
       "      <td>518</td>\n",
       "      <td>2017</td>\n",
       "      <td>August</td>\n",
       "      <td>34</td>\n",
       "      <td>26</td>\n",
       "      <td>2</td>\n",
       "      <td>1</td>\n",
       "      <td>2</td>\n",
       "      <td>...</td>\n",
       "      <td>0</td>\n",
       "      <td>0</td>\n",
       "      <td>Transient-Party</td>\n",
       "      <td>112.67</td>\n",
       "      <td>0</td>\n",
       "      <td>1</td>\n",
       "      <td>Check-Out</td>\n",
       "      <td>2017-08-29</td>\n",
       "      <td>1</td>\n",
       "      <td>0</td>\n",
       "    </tr>\n",
       "    <tr>\n",
       "      <th>119148</th>\n",
       "      <td>City Hotel</td>\n",
       "      <td>0</td>\n",
       "      <td>457</td>\n",
       "      <td>2017</td>\n",
       "      <td>August</td>\n",
       "      <td>34</td>\n",
       "      <td>25</td>\n",
       "      <td>2</td>\n",
       "      <td>3</td>\n",
       "      <td>2</td>\n",
       "      <td>...</td>\n",
       "      <td>0</td>\n",
       "      <td>0</td>\n",
       "      <td>Transient-Party</td>\n",
       "      <td>122.40</td>\n",
       "      <td>0</td>\n",
       "      <td>1</td>\n",
       "      <td>Check-Out</td>\n",
       "      <td>2017-08-30</td>\n",
       "      <td>1</td>\n",
       "      <td>0</td>\n",
       "    </tr>\n",
       "  </tbody>\n",
       "</table>\n",
       "<p>2981 rows × 34 columns</p>\n",
       "</div>"
      ],
      "text/plain": [
       "               hotel  is_canceled  lead_time  arrival_date_year  \\\n",
       "1       Resort Hotel            0        737               2015   \n",
       "225     Resort Hotel            0        394               2015   \n",
       "890     Resort Hotel            0        460               2015   \n",
       "1516    Resort Hotel            0        381               2015   \n",
       "1672    Resort Hotel            0        382               2015   \n",
       "...              ...          ...        ...                ...   \n",
       "119102    City Hotel            0        518               2017   \n",
       "119107    City Hotel            0        518               2017   \n",
       "119109    City Hotel            0        518               2017   \n",
       "119111    City Hotel            0        518               2017   \n",
       "119148    City Hotel            0        457               2017   \n",
       "\n",
       "       arrival_date_month  arrival_date_week_number  \\\n",
       "1                    July                        27   \n",
       "225                  July                        28   \n",
       "890                August                        32   \n",
       "1516            September                        36   \n",
       "1672            September                        37   \n",
       "...                   ...                       ...   \n",
       "119102             August                        34   \n",
       "119107             August                        34   \n",
       "119109             August                        34   \n",
       "119111             August                        34   \n",
       "119148             August                        34   \n",
       "\n",
       "        arrival_date_day_of_month  stays_in_weekend_nights  \\\n",
       "1                               1                        0   \n",
       "225                             8                        2   \n",
       "890                             3                        2   \n",
       "1516                            1                        4   \n",
       "1672                            8                        4   \n",
       "...                           ...                      ...   \n",
       "119102                         26                        2   \n",
       "119107                         26                        2   \n",
       "119109                         26                        2   \n",
       "119111                         26                        2   \n",
       "119148                         25                        2   \n",
       "\n",
       "        stays_in_week_nights  adults  ...  company  days_in_waiting_list  \\\n",
       "1                          0       2  ...        0                     0   \n",
       "225                        5       2  ...        0                     0   \n",
       "890                        5       1  ...        0                     0   \n",
       "1516                      10       2  ...        0                     0   \n",
       "1672                      10       2  ...        0                     0   \n",
       "...                      ...     ...  ...      ...                   ...   \n",
       "119102                     1       1  ...        0                     0   \n",
       "119107                     1       2  ...        0                     0   \n",
       "119109                     1       2  ...        0                     0   \n",
       "119111                     1       2  ...        0                     0   \n",
       "119148                     3       2  ...        0                     0   \n",
       "\n",
       "          customer_type     adr required_car_parking_spaces  \\\n",
       "1             Transient    0.00                           0   \n",
       "225            Contract   89.68                           0   \n",
       "890            Contract   77.54                           0   \n",
       "1516           Contract   82.88                           0   \n",
       "1672           Contract   76.50                           0   \n",
       "...                 ...     ...                         ...   \n",
       "119102  Transient-Party    0.00                           0   \n",
       "119107  Transient-Party  112.67                           0   \n",
       "119109  Transient-Party  112.67                           0   \n",
       "119111  Transient-Party  112.67                           0   \n",
       "119148  Transient-Party  122.40                           0   \n",
       "\n",
       "       total_of_special_requests  reservation_status  reservation_status_date  \\\n",
       "1                              0           Check-Out               2015-07-01   \n",
       "225                            0           Check-Out               2015-07-15   \n",
       "890                            0           Check-Out               2015-08-10   \n",
       "1516                           0           Check-Out               2015-09-15   \n",
       "1672                           0           Check-Out               2015-09-22   \n",
       "...                          ...                 ...                      ...   \n",
       "119102                         0           Check-Out               2017-08-29   \n",
       "119107                         1           Check-Out               2017-08-29   \n",
       "119109                         1           Check-Out               2017-08-29   \n",
       "119111                         1           Check-Out               2017-08-29   \n",
       "119148                         1           Check-Out               2017-08-30   \n",
       "\n",
       "        Room net_cancelled  \n",
       "1          1             0  \n",
       "225        1             0  \n",
       "890        1             0  \n",
       "1516       1             0  \n",
       "1672       1             0  \n",
       "...      ...           ...  \n",
       "119102     1             0  \n",
       "119107     1             0  \n",
       "119109     1             0  \n",
       "119111     1             0  \n",
       "119148     1             0  \n",
       "\n",
       "[2981 rows x 34 columns]"
      ]
     },
     "execution_count": 43,
     "metadata": {},
     "output_type": "execute_result"
    }
   ],
   "source": [
    "df_subset[df_subset['lead_time']>upper_limit]"
   ]
  },
  {
   "cell_type": "code",
   "execution_count": 44,
   "id": "a0064be1",
   "metadata": {},
   "outputs": [
    {
     "data": {
      "text/plain": [
       "(2981, 34)"
      ]
     },
     "execution_count": 44,
     "metadata": {},
     "output_type": "execute_result"
    }
   ],
   "source": [
    "df_subset[df_subset['lead_time']>upper_limit].shape"
   ]
  },
  {
   "cell_type": "code",
   "execution_count": 45,
   "id": "518badc1",
   "metadata": {},
   "outputs": [],
   "source": [
    "df_subset['lead_time']=np.where(df_subset['lead_time']>upper_limit,upper_limit,df_subset['lead_time'])"
   ]
  },
  {
   "cell_type": "code",
   "execution_count": 46,
   "id": "c39a3a21",
   "metadata": {},
   "outputs": [
    {
     "data": {
      "text/plain": [
       "<AxesSubplot:xlabel='lead_time'>"
      ]
     },
     "execution_count": 46,
     "metadata": {},
     "output_type": "execute_result"
    },
    {
     "data": {
      "image/png": "[encoded data removed]",
      "text/plain": [
       "<Figure size 432x288 with 1 Axes>"
      ]
     },
     "metadata": {},
     "output_type": "display_data"
    }
   ],
   "source": [
    "sns.boxplot(df_subset['lead_time'])"
   ]
  },
  {
   "cell_type": "code",
   "execution_count": 47,
   "id": "098b83a9",
   "metadata": {},
   "outputs": [
    {
     "data": {
      "text/plain": [
       "<AxesSubplot:xlabel='stays_in_weekend_nights', ylabel='Density'>"
      ]
     },
     "execution_count": 47,
     "metadata": {},
     "output_type": "execute_result"
    },
    {
     "data": {
      "image/png": "[encoded data removed]",
      "text/plain": [
       "<Figure size 432x288 with 1 Axes>"
      ]
     },
     "metadata": {},
     "output_type": "display_data"
    }
   ],
   "source": [
    "sns.distplot(df_subset['stays_in_weekend_nights'])\n"
   ]
  },
  {
   "cell_type": "code",
   "execution_count": 48,
   "id": "dae0f9ca",
   "metadata": {},
   "outputs": [
    {
     "name": "stdout",
     "output_type": "stream",
     "text": [
      "-3.0\n",
      "5.0\n"
     ]
    },
    {
     "data": {
      "text/plain": [
       "(258, 34)"
      ]
     },
     "execution_count": 48,
     "metadata": {},
     "output_type": "execute_result"
    }
   ],
   "source": [
    "# Lets compute the Interquantile range to calculate the boundaries\n",
    "IQR=df_subset.stays_in_weekend_nights.quantile(0.75)-df_subset.stays_in_weekend_nights.quantile(0.25)\n",
    "IQR\n",
    "\n",
    "# Outliers which 1.5 standard deviation away\n",
    "lower_limit=df_subset['stays_in_weekend_nights'].quantile(0.25)-(IQR*1.5)\n",
    "upper_limit=df_subset['stays_in_weekend_nights'].quantile(0.75)+(IQR*1.5)\n",
    "print(lower_limit), print(upper_limit)\n",
    "\n",
    "df_subset[df_subset['stays_in_weekend_nights']>upper_limit].shape\n",
    "\n"
   ]
  },
  {
   "cell_type": "code",
   "execution_count": 49,
   "id": "de739a70",
   "metadata": {},
   "outputs": [],
   "source": [
    "df_subset['stays_in_weekend_nights']=np.where(df_subset['stays_in_weekend_nights']>upper_limit,upper_limit,df_subset['stays_in_weekend_nights'])"
   ]
  },
  {
   "cell_type": "code",
   "execution_count": 50,
   "id": "273f8cd1",
   "metadata": {
    "scrolled": true
   },
   "outputs": [
    {
     "data": {
      "text/plain": [
       "<AxesSubplot:xlabel='stays_in_weekend_nights', ylabel='Density'>"
      ]
     },
     "execution_count": 50,
     "metadata": {},
     "output_type": "execute_result"
    },
    {
     "data": {
      "image/png": "[encoded data removed]",
      "text/plain": [
       "<Figure size 432x288 with 1 Axes>"
      ]
     },
     "metadata": {},
     "output_type": "display_data"
    }
   ],
   "source": [
    "sns.distplot(df_subset['stays_in_weekend_nights'])"
   ]
  },
  {
   "cell_type": "code",
   "execution_count": 51,
   "id": "3d9fb674",
   "metadata": {},
   "outputs": [
    {
     "data": {
      "text/plain": [
       "<AxesSubplot:xlabel='stays_in_weekend_nights'>"
      ]
     },
     "execution_count": 51,
     "metadata": {},
     "output_type": "execute_result"
    },
    {
     "data": {
      "image/png": "[encoded data removed]",
      "text/plain": [
       "<Figure size 432x288 with 1 Axes>"
      ]
     },
     "metadata": {},
     "output_type": "display_data"
    }
   ],
   "source": [
    "sns.boxplot(df_subset['stays_in_weekend_nights'])"
   ]
  },
  {
   "cell_type": "code",
   "execution_count": 52,
   "id": "dd28e34a",
   "metadata": {},
   "outputs": [
    {
     "name": "stdout",
     "output_type": "stream",
     "text": [
      "-2.0\n",
      "6.0\n"
     ]
    },
    {
     "data": {
      "text/plain": [
       "(0, 34)"
      ]
     },
     "execution_count": 52,
     "metadata": {},
     "output_type": "execute_result"
    }
   ],
   "source": [
    "IQR=df_subset.stays_in_week_nights.quantile(0.75)-df_subset.stays_in_week_nights.quantile(0.25)\n",
    "IQR\n",
    "\n",
    "# Outliers which 1.5 standard deviation away\n",
    "lower_limit=df_subset['stays_in_week_nights'].quantile(0.25)-(IQR*1.5)\n",
    "upper_limit=df_subset['stays_in_week_nights'].quantile(0.75)+(IQR*1.5)\n",
    "print(lower_limit), print(upper_limit)\n",
    "\n",
    "df_subset[df_subset['stays_in_weekend_nights']>upper_limit].shape\n",
    "\n"
   ]
  },
  {
   "cell_type": "code",
   "execution_count": 53,
   "id": "c2e40272",
   "metadata": {},
   "outputs": [],
   "source": [
    "df_subset['stays_in_week_nights']=np.where(df_subset['stays_in_week_nights']>upper_limit,upper_limit,df_subset['stays_in_week_nights'])"
   ]
  },
  {
   "cell_type": "code",
   "execution_count": 54,
   "id": "ef0332d1",
   "metadata": {},
   "outputs": [
    {
     "data": {
      "text/plain": [
       "<AxesSubplot:xlabel='stays_in_week_nights', ylabel='Density'>"
      ]
     },
     "execution_count": 54,
     "metadata": {},
     "output_type": "execute_result"
    },
    {
     "data": {
      "image/png": "[encoded data removed]",
      "text/plain": [
       "<Figure size 432x288 with 1 Axes>"
      ]
     },
     "metadata": {},
     "output_type": "display_data"
    }
   ],
   "source": [
    "sns.distplot(df_subset['stays_in_week_nights'])"
   ]
  },
  {
   "cell_type": "code",
   "execution_count": 55,
   "id": "51e878e5",
   "metadata": {},
   "outputs": [
    {
     "data": {
      "text/plain": [
       "<AxesSubplot:xlabel='stays_in_week_nights'>"
      ]
     },
     "execution_count": 55,
     "metadata": {},
     "output_type": "execute_result"
    },
    {
     "data": {
      "image/png": "[encoded data removed]",
      "text/plain": [
       "<Figure size 432x288 with 1 Axes>"
      ]
     },
     "metadata": {},
     "output_type": "display_data"
    }
   ],
   "source": [
    "sns.boxplot(df_subset['stays_in_week_nights'])"
   ]
  },
  {
   "cell_type": "code",
   "execution_count": 56,
   "id": "f15d8ca6",
   "metadata": {},
   "outputs": [
    {
     "data": {
      "text/plain": [
       "<AxesSubplot:xlabel='adults', ylabel='Density'>"
      ]
     },
     "execution_count": 56,
     "metadata": {},
     "output_type": "execute_result"
    },
    {
     "data": {
      "image/png": "[encoded data removed]",
      "text/plain": [
       "<Figure size 432x288 with 1 Axes>"
      ]
     },
     "metadata": {},
     "output_type": "display_data"
    }
   ],
   "source": [
    "sns.distplot(df_subset['adults'])"
   ]
  },
  {
   "cell_type": "code",
   "execution_count": 57,
   "id": "93662e05",
   "metadata": {},
   "outputs": [
    {
     "name": "stdout",
     "output_type": "stream",
     "text": [
      "2.0\n",
      "2.0\n"
     ]
    },
    {
     "data": {
      "text/plain": [
       "(6280, 34)"
      ]
     },
     "execution_count": 57,
     "metadata": {},
     "output_type": "execute_result"
    }
   ],
   "source": [
    "# \"adults\"\n",
    "IQR=df_subset.adults.quantile(0.75)-df_subset.adults.quantile(0.25)\n",
    "IQR\n",
    "\n",
    "# Outliers which 1.5 standard deviation away\n",
    "upper_limit=df_subset['adults'].quantile(0.75)+(IQR*1.5)\n",
    "lower_limit=df_subset['adults'].quantile(0.25)-(IQR*1.5)\n",
    "upper_limit=df_subset['adults'].quantile(0.75)+(IQR*1.5)\n",
    "print(lower_limit), print(upper_limit)\n",
    "\n",
    "df_subset[df_subset['adults']>upper_limit].shape\n",
    "\n"
   ]
  },
  {
   "cell_type": "code",
   "execution_count": 58,
   "id": "da05654b",
   "metadata": {},
   "outputs": [],
   "source": [
    "df_subset['adults']=np.where(df_subset['adults']>upper_limit,upper_limit,df_subset['adults'])\n",
    "df_subset['adults']=np.where(df_subset['adults']<lower_limit,lower_limit,df_subset['adults'])"
   ]
  },
  {
   "cell_type": "code",
   "execution_count": 59,
   "id": "17572cec",
   "metadata": {},
   "outputs": [
    {
     "data": {
      "text/plain": [
       "<AxesSubplot:xlabel='adults', ylabel='Density'>"
      ]
     },
     "execution_count": 59,
     "metadata": {},
     "output_type": "execute_result"
    },
    {
     "data": {
      "image/png": "[encoded data removed]",
      "text/plain": [
       "<Figure size 432x288 with 1 Axes>"
      ]
     },
     "metadata": {},
     "output_type": "display_data"
    }
   ],
   "source": [
    "sns.distplot(df_subset['adults'])"
   ]
  },
  {
   "cell_type": "code",
   "execution_count": 60,
   "id": "7773c618",
   "metadata": {},
   "outputs": [
    {
     "data": {
      "image/png": "[encoded data removed]",
      "text/plain": [
       "<Figure size 432x288 with 1 Axes>"
      ]
     },
     "metadata": {},
     "output_type": "display_data"
    }
   ],
   "source": [
    "s1 = sns.boxplot(df_subset['adults'])"
   ]
  },
  {
   "cell_type": "code",
   "execution_count": 61,
   "id": "e1411c13",
   "metadata": {},
   "outputs": [
    {
     "data": {
      "text/plain": [
       "<AxesSubplot:xlabel='children', ylabel='Density'>"
      ]
     },
     "execution_count": 61,
     "metadata": {},
     "output_type": "execute_result"
    },
    {
     "data": {
      "image/png": "[encoded data removed]",
      "text/plain": [
       "<Figure size 432x288 with 1 Axes>"
      ]
     },
     "metadata": {},
     "output_type": "display_data"
    }
   ],
   "source": [
    "sns.distplot(df_subset['children'])"
   ]
  },
  {
   "cell_type": "code",
   "execution_count": 62,
   "id": "533a955c",
   "metadata": {},
   "outputs": [
    {
     "data": {
      "image/png": "[encoded data removed]",
      "text/plain": [
       "<Figure size 432x288 with 1 Axes>"
      ]
     },
     "metadata": {},
     "output_type": "display_data"
    }
   ],
   "source": [
    "s3 = sns.boxplot(df_subset['children'])"
   ]
  },
  {
   "cell_type": "code",
   "execution_count": 63,
   "id": "a0a9028b",
   "metadata": {},
   "outputs": [
    {
     "data": {
      "image/png": "[encoded data removed]",
      "text/plain": [
       "<Figure size 432x288 with 1 Axes>"
      ]
     },
     "metadata": {},
     "output_type": "display_data"
    }
   ],
   "source": [
    "\n",
    "s3 = sns.boxplot(df_subset['babies'])"
   ]
  },
  {
   "cell_type": "code",
   "execution_count": 64,
   "id": "d84457c8",
   "metadata": {},
   "outputs": [
    {
     "name": "stdout",
     "output_type": "stream",
     "text": [
      "0.0\n",
      "0.0\n"
     ]
    },
    {
     "data": {
      "text/plain": [
       "(119210, 34)"
      ]
     },
     "execution_count": 64,
     "metadata": {},
     "output_type": "execute_result"
    }
   ],
   "source": [
    "# \"children\"\n",
    "IQR=df_subset.children.quantile(0.75)-df_subset.children.quantile(0.25)\n",
    "IQR\n",
    "\n",
    "# Outliers which 1.5 standard deviation away\n",
    "upper_limit=df_subset['children'].quantile(0.75)+(IQR*1.5)\n",
    "lower_limit=df_subset['children'].quantile(0.25)-(IQR*1.5)\n",
    "upper_limit=df_subset['children'].quantile(0.75)+(IQR*1.5)\n",
    "print(lower_limit), print(upper_limit)\n",
    "\n",
    "df_subset[df_subset['adults']>upper_limit].shape"
   ]
  },
  {
   "cell_type": "code",
   "execution_count": 65,
   "id": "1e25a3d7",
   "metadata": {},
   "outputs": [],
   "source": [
    "df_subset['children']=np.where(df_subset['children']>upper_limit,upper_limit,df_subset['children'])"
   ]
  },
  {
   "cell_type": "code",
   "execution_count": 66,
   "id": "bc1629b8",
   "metadata": {},
   "outputs": [
    {
     "data": {
      "text/plain": [
       "<AxesSubplot:xlabel='children', ylabel='Density'>"
      ]
     },
     "execution_count": 66,
     "metadata": {},
     "output_type": "execute_result"
    },
    {
     "data": {
      "image/png": "[encoded data removed]",
      "text/plain": [
       "<Figure size 432x288 with 1 Axes>"
      ]
     },
     "metadata": {},
     "output_type": "display_data"
    }
   ],
   "source": [
    "sns.distplot(df_subset['children'])"
   ]
  },
  {
   "cell_type": "code",
   "execution_count": 67,
   "id": "96eef508",
   "metadata": {},
   "outputs": [
    {
     "name": "stdout",
     "output_type": "stream",
     "text": [
      "0.0\n",
      "0.0\n"
     ]
    },
    {
     "data": {
      "text/plain": [
       "(917, 34)"
      ]
     },
     "execution_count": 67,
     "metadata": {},
     "output_type": "execute_result"
    }
   ],
   "source": [
    "# \"babies\"\n",
    "IQR=df_subset.children.quantile(0.75)-df_subset.children.quantile(0.25)\n",
    "IQR\n",
    "\n",
    "# Outliers which 1.5 standard deviation away\n",
    "upper_limit=df_subset['babies'].quantile(0.75)+(IQR*1.5)\n",
    "lower_limit=df_subset['babies'].quantile(0.25)-(IQR*1.5)\n",
    "upper_limit=df_subset['babies'].quantile(0.75)+(IQR*1.5)\n",
    "print(lower_limit), print(upper_limit)\n",
    "\n",
    "df_subset[df_subset['babies']>upper_limit].shape"
   ]
  },
  {
   "cell_type": "code",
   "execution_count": 68,
   "id": "dcb1ad3f",
   "metadata": {},
   "outputs": [],
   "source": [
    "df_subset['babies']=np.where(df_subset['babies']>upper_limit,upper_limit,df_subset['babies'])"
   ]
  },
  {
   "cell_type": "code",
   "execution_count": 69,
   "id": "d472f85e",
   "metadata": {},
   "outputs": [
    {
     "data": {
      "text/plain": [
       "<AxesSubplot:xlabel='babies', ylabel='Density'>"
      ]
     },
     "execution_count": 69,
     "metadata": {},
     "output_type": "execute_result"
    },
    {
     "data": {
      "image/png": "[encoded data removed]",
      "text/plain": [
       "<Figure size 432x288 with 1 Axes>"
      ]
     },
     "metadata": {},
     "output_type": "display_data"
    }
   ],
   "source": [
    "sns.distplot(df_subset['babies'])"
   ]
  },
  {
   "cell_type": "code",
   "execution_count": 70,
   "id": "365d475b",
   "metadata": {},
   "outputs": [
    {
     "data": {
      "text/plain": [
       "<AxesSubplot:xlabel='adr', ylabel='Density'>"
      ]
     },
     "execution_count": 70,
     "metadata": {},
     "output_type": "execute_result"
    },
    {
     "data": {
      "image/png": "[encoded data removed]",
      "text/plain": [
       "<Figure size 432x288 with 1 Axes>"
      ]
     },
     "metadata": {},
     "output_type": "display_data"
    }
   ],
   "source": [
    "sns.distplot(df_subset['adr'])"
   ]
  },
  {
   "cell_type": "code",
   "execution_count": 71,
   "id": "7a392988",
   "metadata": {},
   "outputs": [
    {
     "name": "stdout",
     "output_type": "stream",
     "text": [
      "-15.25\n",
      "210.75\n"
     ]
    },
    {
     "data": {
      "text/plain": [
       "(3864, 34)"
      ]
     },
     "execution_count": 71,
     "metadata": {},
     "output_type": "execute_result"
    }
   ],
   "source": [
    "# \"adr\"\n",
    "IQR=df_subset.adr.quantile(0.75)-df_subset.adr.quantile(0.25)\n",
    "IQR\n",
    "\n",
    "# Outliers which 1.5 standard deviation away\n",
    "upper_limit=df_subset['adr'].quantile(0.75)+(IQR*1.5)\n",
    "lower_limit=df_subset['adr'].quantile(0.25)-(IQR*1.5)\n",
    "upper_limit=df_subset['adr'].quantile(0.75)+(IQR*1.5)\n",
    "print(lower_limit), print(upper_limit)\n",
    "\n",
    "df_subset[df_subset['adr']>upper_limit].shape"
   ]
  },
  {
   "cell_type": "code",
   "execution_count": 72,
   "id": "89dac707",
   "metadata": {},
   "outputs": [],
   "source": [
    "df_subset['adr']=np.where(df_subset['adr']>upper_limit,upper_limit,df_subset['adr'])"
   ]
  },
  {
   "cell_type": "code",
   "execution_count": 73,
   "id": "e3f56bf7",
   "metadata": {},
   "outputs": [
    {
     "data": {
      "text/plain": [
       "(0, 34)"
      ]
     },
     "execution_count": 73,
     "metadata": {},
     "output_type": "execute_result"
    }
   ],
   "source": [
    "df_subset[df_subset['adr']>upper_limit].shape"
   ]
  },
  {
   "cell_type": "code",
   "execution_count": 74,
   "id": "8291e298",
   "metadata": {},
   "outputs": [
    {
     "data": {
      "text/plain": [
       "<AxesSubplot:xlabel='adr', ylabel='Density'>"
      ]
     },
     "execution_count": 74,
     "metadata": {},
     "output_type": "execute_result"
    },
    {
     "data": {
      "image/png": "[encoded data removed]",
      "text/plain": [
       "<Figure size 432x288 with 1 Axes>"
      ]
     },
     "metadata": {},
     "output_type": "display_data"
    }
   ],
   "source": [
    "sns.distplot(df_subset['adr'])"
   ]
  },
  {
   "cell_type": "code",
   "execution_count": 75,
   "id": "22510374",
   "metadata": {},
   "outputs": [
    {
     "data": {
      "text/plain": [
       "<AxesSubplot:xlabel='adr'>"
      ]
     },
     "execution_count": 75,
     "metadata": {},
     "output_type": "execute_result"
    },
    {
     "data": {
      "image/png": "[encoded data removed]",
      "text/plain": [
       "<Figure size 432x288 with 1 Axes>"
      ]
     },
     "metadata": {},
     "output_type": "display_data"
    }
   ],
   "source": [
    "sns.boxplot(df_subset['adr'])"
   ]
  },
  {
   "cell_type": "markdown",
   "id": "f10416eb",
   "metadata": {},
   "source": [
    "# FEATURE ENGINEERING\n"
   ]
  },
  {
   "cell_type": "code",
   "execution_count": 76,
   "id": "e13adf88",
   "metadata": {},
   "outputs": [],
   "source": [
    "# 1. Converting Categorical variables to Numerical\n",
    "# Let’s convert categorical values into numerical form.\n",
    "# We will use LabelEncoder from Sklearn"
   ]
  },
  {
   "cell_type": "code",
   "execution_count": 77,
   "id": "e8f3805e",
   "metadata": {},
   "outputs": [],
   "source": [
    "categorical= [i for i in df_subset.columns if df_subset[i].dtypes == \"O\"]"
   ]
  },
  {
   "cell_type": "code",
   "execution_count": 78,
   "id": "2958de9a",
   "metadata": {},
   "outputs": [
    {
     "data": {
      "text/plain": [
       "['hotel',\n",
       " 'arrival_date_month',\n",
       " 'meal',\n",
       " 'country',\n",
       " 'market_segment',\n",
       " 'distribution_channel',\n",
       " 'reserved_room_type',\n",
       " 'assigned_room_type',\n",
       " 'deposit_type',\n",
       " 'customer_type',\n",
       " 'reservation_status',\n",
       " 'reservation_status_date']"
      ]
     },
     "execution_count": 78,
     "metadata": {},
     "output_type": "execute_result"
    }
   ],
   "source": [
    "categorical"
   ]
  },
  {
   "cell_type": "code",
   "execution_count": 79,
   "id": "24f4cc0e",
   "metadata": {},
   "outputs": [
    {
     "name": "stdout",
     "output_type": "stream",
     "text": [
      " hotel : 2\n",
      " arrival_date_month : 12\n",
      " meal : 5\n",
      " country : 178\n",
      " market_segment : 8\n",
      " distribution_channel : 5\n",
      " reserved_room_type : 9\n",
      " assigned_room_type : 11\n",
      " deposit_type : 3\n",
      " customer_type : 4\n",
      " reservation_status : 3\n",
      " reservation_status_date : 926\n"
     ]
    }
   ],
   "source": [
    "#to check the length of the unique values in the categorical data \n",
    "for feature in categorical:\n",
    "    print(f\" {feature} : {len(df_subset[feature].unique())}\")"
   ]
  },
  {
   "cell_type": "code",
   "execution_count": 80,
   "id": "41126cc6",
   "metadata": {
    "scrolled": true
   },
   "outputs": [
    {
     "name": "stdout",
     "output_type": "stream",
     "text": [
      "City Hotel      79163\n",
      "Resort Hotel    40047\n",
      "Name: hotel, dtype: int64\n",
      "\n",
      " \n",
      "\n",
      "August       13861\n",
      "July         12644\n",
      "May          11780\n",
      "October      11147\n",
      "April        11078\n",
      "June         10929\n",
      "September    10500\n",
      "March         9768\n",
      "February      8052\n",
      "November      6771\n",
      "December      6759\n",
      "January       5921\n",
      "Name: arrival_date_month, dtype: int64\n",
      "\n",
      " \n",
      "\n",
      "BB           92236\n",
      "HB           14458\n",
      "SC           10549\n",
      "Undefined     1169\n",
      "FB             798\n",
      "Name: meal, dtype: int64\n",
      "\n",
      " \n",
      "\n",
      "PRT    48483\n",
      "GBR    12120\n",
      "FRA    10401\n",
      "ESP     8560\n",
      "DEU     7285\n",
      "       ...  \n",
      "MMR        1\n",
      "DJI        1\n",
      "SLE        1\n",
      "NCL        1\n",
      "FJI        1\n",
      "Name: country, Length: 178, dtype: int64\n",
      "\n",
      " \n",
      "\n",
      "Online TA        56408\n",
      "Offline TA/TO    24182\n",
      "Groups           19791\n",
      "Direct           12582\n",
      "Corporate         5282\n",
      "Complementary      728\n",
      "Aviation           235\n",
      "Undefined            2\n",
      "Name: market_segment, dtype: int64\n",
      "\n",
      " \n",
      "\n",
      "TA/TO        97750\n",
      "Direct       14611\n",
      "Corporate     6651\n",
      "GDS            193\n",
      "Undefined        5\n",
      "Name: distribution_channel, dtype: int64\n",
      "\n",
      " \n",
      "\n",
      "A    85873\n",
      "D    19179\n",
      "E     6519\n",
      "F     2894\n",
      "G     2092\n",
      "B     1115\n",
      "C      931\n",
      "H      601\n",
      "L        6\n",
      "Name: reserved_room_type, dtype: int64\n",
      "\n",
      " \n",
      "\n",
      "A    74020\n",
      "D    25309\n",
      "E     7798\n",
      "F     3751\n",
      "G     2549\n",
      "C     2370\n",
      "B     2154\n",
      "H      712\n",
      "I      359\n",
      "K      187\n",
      "L        1\n",
      "Name: assigned_room_type, dtype: int64\n",
      "\n",
      " \n",
      "\n",
      "No Deposit    104461\n",
      "Non Refund     14587\n",
      "Refundable       162\n",
      "Name: deposit_type, dtype: int64\n",
      "\n",
      " \n",
      "\n",
      "Transient          89476\n",
      "Transient-Party    25088\n",
      "Contract            4072\n",
      "Group                574\n",
      "Name: customer_type, dtype: int64\n",
      "\n",
      " \n",
      "\n",
      "Check-Out    75011\n",
      "Canceled     42993\n",
      "No-Show       1206\n",
      "Name: reservation_status, dtype: int64\n",
      "\n",
      " \n",
      "\n",
      "2015-10-21    1460\n",
      "2015-07-06     805\n",
      "2016-11-25     790\n",
      "2015-01-01     763\n",
      "2016-01-18     625\n",
      "              ... \n",
      "2017-09-12       1\n",
      "2015-04-27       1\n",
      "2014-11-18       1\n",
      "2015-04-21       1\n",
      "2015-01-28       1\n",
      "Name: reservation_status_date, Length: 926, dtype: int64\n",
      "\n",
      " \n",
      "\n"
     ]
    }
   ],
   "source": [
    "# To check the frequencies of the unique values present in the categorical data \n",
    "for feature in categorical:\n",
    "    print(df_subset[feature].value_counts())\n",
    "    print(\"\\n \\n\")"
   ]
  },
  {
   "cell_type": "code",
   "execution_count": 81,
   "id": "c1116975",
   "metadata": {},
   "outputs": [
    {
     "data": {
      "text/plain": [
       "Index(['hotel', 'is_canceled', 'lead_time', 'arrival_date_year',\n",
       "       'arrival_date_month', 'arrival_date_week_number',\n",
       "       'arrival_date_day_of_month', 'stays_in_weekend_nights',\n",
       "       'stays_in_week_nights', 'adults', 'children', 'babies', 'meal',\n",
       "       'country', 'market_segment', 'distribution_channel',\n",
       "       'is_repeated_guest', 'previous_cancellations',\n",
       "       'previous_bookings_not_canceled', 'reserved_room_type',\n",
       "       'assigned_room_type', 'booking_changes', 'deposit_type', 'agent',\n",
       "       'company', 'days_in_waiting_list', 'customer_type', 'adr',\n",
       "       'required_car_parking_spaces', 'total_of_special_requests',\n",
       "       'reservation_status', 'reservation_status_date', 'Room',\n",
       "       'net_cancelled'],\n",
       "      dtype='object')"
      ]
     },
     "execution_count": 81,
     "metadata": {},
     "output_type": "execute_result"
    }
   ],
   "source": [
    "df_subset.columns"
   ]
  },
  {
   "cell_type": "code",
   "execution_count": 82,
   "id": "f55db43a",
   "metadata": {
    "scrolled": true
   },
   "outputs": [
    {
     "data": {
      "text/html": [
       "<div>\n",
       "<style scoped>\n",
       "    .dataframe tbody tr th:only-of-type {\n",
       "        vertical-align: middle;\n",
       "    }\n",
       "\n",
       "    .dataframe tbody tr th {\n",
       "        vertical-align: top;\n",
       "    }\n",
       "\n",
       "    .dataframe thead th {\n",
       "        text-align: right;\n",
       "    }\n",
       "</style>\n",
       "<table border=\"1\" class=\"dataframe\">\n",
       "  <thead>\n",
       "    <tr style=\"text-align: right;\">\n",
       "      <th></th>\n",
       "      <th>hotel</th>\n",
       "      <th>is_canceled</th>\n",
       "      <th>lead_time</th>\n",
       "      <th>arrival_date_year</th>\n",
       "      <th>arrival_date_month</th>\n",
       "      <th>arrival_date_week_number</th>\n",
       "      <th>arrival_date_day_of_month</th>\n",
       "      <th>stays_in_weekend_nights</th>\n",
       "      <th>stays_in_week_nights</th>\n",
       "      <th>adults</th>\n",
       "      <th>...</th>\n",
       "      <th>company</th>\n",
       "      <th>days_in_waiting_list</th>\n",
       "      <th>customer_type</th>\n",
       "      <th>adr</th>\n",
       "      <th>required_car_parking_spaces</th>\n",
       "      <th>total_of_special_requests</th>\n",
       "      <th>reservation_status</th>\n",
       "      <th>reservation_status_date</th>\n",
       "      <th>Room</th>\n",
       "      <th>net_cancelled</th>\n",
       "    </tr>\n",
       "  </thead>\n",
       "  <tbody>\n",
       "    <tr>\n",
       "      <th>0</th>\n",
       "      <td>Resort Hotel</td>\n",
       "      <td>0</td>\n",
       "      <td>342.0</td>\n",
       "      <td>2015</td>\n",
       "      <td>July</td>\n",
       "      <td>27</td>\n",
       "      <td>1</td>\n",
       "      <td>0.0</td>\n",
       "      <td>0.0</td>\n",
       "      <td>2.0</td>\n",
       "      <td>...</td>\n",
       "      <td>0</td>\n",
       "      <td>0</td>\n",
       "      <td>Transient</td>\n",
       "      <td>0.00</td>\n",
       "      <td>0</td>\n",
       "      <td>0</td>\n",
       "      <td>Check-Out</td>\n",
       "      <td>2015-07-01</td>\n",
       "      <td>1</td>\n",
       "      <td>0</td>\n",
       "    </tr>\n",
       "    <tr>\n",
       "      <th>1</th>\n",
       "      <td>Resort Hotel</td>\n",
       "      <td>0</td>\n",
       "      <td>375.5</td>\n",
       "      <td>2015</td>\n",
       "      <td>July</td>\n",
       "      <td>27</td>\n",
       "      <td>1</td>\n",
       "      <td>0.0</td>\n",
       "      <td>0.0</td>\n",
       "      <td>2.0</td>\n",
       "      <td>...</td>\n",
       "      <td>0</td>\n",
       "      <td>0</td>\n",
       "      <td>Transient</td>\n",
       "      <td>0.00</td>\n",
       "      <td>0</td>\n",
       "      <td>0</td>\n",
       "      <td>Check-Out</td>\n",
       "      <td>2015-07-01</td>\n",
       "      <td>1</td>\n",
       "      <td>0</td>\n",
       "    </tr>\n",
       "    <tr>\n",
       "      <th>2</th>\n",
       "      <td>Resort Hotel</td>\n",
       "      <td>0</td>\n",
       "      <td>7.0</td>\n",
       "      <td>2015</td>\n",
       "      <td>July</td>\n",
       "      <td>27</td>\n",
       "      <td>1</td>\n",
       "      <td>0.0</td>\n",
       "      <td>1.0</td>\n",
       "      <td>2.0</td>\n",
       "      <td>...</td>\n",
       "      <td>0</td>\n",
       "      <td>0</td>\n",
       "      <td>Transient</td>\n",
       "      <td>75.00</td>\n",
       "      <td>0</td>\n",
       "      <td>0</td>\n",
       "      <td>Check-Out</td>\n",
       "      <td>2015-07-02</td>\n",
       "      <td>0</td>\n",
       "      <td>0</td>\n",
       "    </tr>\n",
       "    <tr>\n",
       "      <th>3</th>\n",
       "      <td>Resort Hotel</td>\n",
       "      <td>0</td>\n",
       "      <td>13.0</td>\n",
       "      <td>2015</td>\n",
       "      <td>July</td>\n",
       "      <td>27</td>\n",
       "      <td>1</td>\n",
       "      <td>0.0</td>\n",
       "      <td>1.0</td>\n",
       "      <td>2.0</td>\n",
       "      <td>...</td>\n",
       "      <td>0</td>\n",
       "      <td>0</td>\n",
       "      <td>Transient</td>\n",
       "      <td>75.00</td>\n",
       "      <td>0</td>\n",
       "      <td>0</td>\n",
       "      <td>Check-Out</td>\n",
       "      <td>2015-07-02</td>\n",
       "      <td>1</td>\n",
       "      <td>0</td>\n",
       "    </tr>\n",
       "    <tr>\n",
       "      <th>4</th>\n",
       "      <td>Resort Hotel</td>\n",
       "      <td>0</td>\n",
       "      <td>14.0</td>\n",
       "      <td>2015</td>\n",
       "      <td>July</td>\n",
       "      <td>27</td>\n",
       "      <td>1</td>\n",
       "      <td>0.0</td>\n",
       "      <td>2.0</td>\n",
       "      <td>2.0</td>\n",
       "      <td>...</td>\n",
       "      <td>0</td>\n",
       "      <td>0</td>\n",
       "      <td>Transient</td>\n",
       "      <td>98.00</td>\n",
       "      <td>0</td>\n",
       "      <td>1</td>\n",
       "      <td>Check-Out</td>\n",
       "      <td>2015-07-03</td>\n",
       "      <td>1</td>\n",
       "      <td>0</td>\n",
       "    </tr>\n",
       "    <tr>\n",
       "      <th>...</th>\n",
       "      <td>...</td>\n",
       "      <td>...</td>\n",
       "      <td>...</td>\n",
       "      <td>...</td>\n",
       "      <td>...</td>\n",
       "      <td>...</td>\n",
       "      <td>...</td>\n",
       "      <td>...</td>\n",
       "      <td>...</td>\n",
       "      <td>...</td>\n",
       "      <td>...</td>\n",
       "      <td>...</td>\n",
       "      <td>...</td>\n",
       "      <td>...</td>\n",
       "      <td>...</td>\n",
       "      <td>...</td>\n",
       "      <td>...</td>\n",
       "      <td>...</td>\n",
       "      <td>...</td>\n",
       "      <td>...</td>\n",
       "      <td>...</td>\n",
       "    </tr>\n",
       "    <tr>\n",
       "      <th>119385</th>\n",
       "      <td>City Hotel</td>\n",
       "      <td>0</td>\n",
       "      <td>23.0</td>\n",
       "      <td>2017</td>\n",
       "      <td>August</td>\n",
       "      <td>35</td>\n",
       "      <td>30</td>\n",
       "      <td>2.0</td>\n",
       "      <td>5.0</td>\n",
       "      <td>2.0</td>\n",
       "      <td>...</td>\n",
       "      <td>0</td>\n",
       "      <td>0</td>\n",
       "      <td>Transient</td>\n",
       "      <td>96.14</td>\n",
       "      <td>0</td>\n",
       "      <td>0</td>\n",
       "      <td>Check-Out</td>\n",
       "      <td>2017-09-06</td>\n",
       "      <td>1</td>\n",
       "      <td>0</td>\n",
       "    </tr>\n",
       "    <tr>\n",
       "      <th>119386</th>\n",
       "      <td>City Hotel</td>\n",
       "      <td>0</td>\n",
       "      <td>102.0</td>\n",
       "      <td>2017</td>\n",
       "      <td>August</td>\n",
       "      <td>35</td>\n",
       "      <td>31</td>\n",
       "      <td>2.0</td>\n",
       "      <td>5.0</td>\n",
       "      <td>2.0</td>\n",
       "      <td>...</td>\n",
       "      <td>0</td>\n",
       "      <td>0</td>\n",
       "      <td>Transient</td>\n",
       "      <td>210.75</td>\n",
       "      <td>0</td>\n",
       "      <td>2</td>\n",
       "      <td>Check-Out</td>\n",
       "      <td>2017-09-07</td>\n",
       "      <td>1</td>\n",
       "      <td>0</td>\n",
       "    </tr>\n",
       "    <tr>\n",
       "      <th>119387</th>\n",
       "      <td>City Hotel</td>\n",
       "      <td>0</td>\n",
       "      <td>34.0</td>\n",
       "      <td>2017</td>\n",
       "      <td>August</td>\n",
       "      <td>35</td>\n",
       "      <td>31</td>\n",
       "      <td>2.0</td>\n",
       "      <td>5.0</td>\n",
       "      <td>2.0</td>\n",
       "      <td>...</td>\n",
       "      <td>0</td>\n",
       "      <td>0</td>\n",
       "      <td>Transient</td>\n",
       "      <td>157.71</td>\n",
       "      <td>0</td>\n",
       "      <td>4</td>\n",
       "      <td>Check-Out</td>\n",
       "      <td>2017-09-07</td>\n",
       "      <td>1</td>\n",
       "      <td>0</td>\n",
       "    </tr>\n",
       "    <tr>\n",
       "      <th>119388</th>\n",
       "      <td>City Hotel</td>\n",
       "      <td>0</td>\n",
       "      <td>109.0</td>\n",
       "      <td>2017</td>\n",
       "      <td>August</td>\n",
       "      <td>35</td>\n",
       "      <td>31</td>\n",
       "      <td>2.0</td>\n",
       "      <td>5.0</td>\n",
       "      <td>2.0</td>\n",
       "      <td>...</td>\n",
       "      <td>0</td>\n",
       "      <td>0</td>\n",
       "      <td>Transient</td>\n",
       "      <td>104.40</td>\n",
       "      <td>0</td>\n",
       "      <td>0</td>\n",
       "      <td>Check-Out</td>\n",
       "      <td>2017-09-07</td>\n",
       "      <td>1</td>\n",
       "      <td>0</td>\n",
       "    </tr>\n",
       "    <tr>\n",
       "      <th>119389</th>\n",
       "      <td>City Hotel</td>\n",
       "      <td>0</td>\n",
       "      <td>205.0</td>\n",
       "      <td>2017</td>\n",
       "      <td>August</td>\n",
       "      <td>35</td>\n",
       "      <td>29</td>\n",
       "      <td>2.0</td>\n",
       "      <td>6.0</td>\n",
       "      <td>2.0</td>\n",
       "      <td>...</td>\n",
       "      <td>0</td>\n",
       "      <td>0</td>\n",
       "      <td>Transient</td>\n",
       "      <td>151.20</td>\n",
       "      <td>0</td>\n",
       "      <td>2</td>\n",
       "      <td>Check-Out</td>\n",
       "      <td>2017-09-07</td>\n",
       "      <td>1</td>\n",
       "      <td>0</td>\n",
       "    </tr>\n",
       "  </tbody>\n",
       "</table>\n",
       "<p>119210 rows × 29 columns</p>\n",
       "</div>"
      ],
      "text/plain": [
       "               hotel  is_canceled  lead_time  arrival_date_year  \\\n",
       "0       Resort Hotel            0      342.0               2015   \n",
       "1       Resort Hotel            0      375.5               2015   \n",
       "2       Resort Hotel            0        7.0               2015   \n",
       "3       Resort Hotel            0       13.0               2015   \n",
       "4       Resort Hotel            0       14.0               2015   \n",
       "...              ...          ...        ...                ...   \n",
       "119385    City Hotel            0       23.0               2017   \n",
       "119386    City Hotel            0      102.0               2017   \n",
       "119387    City Hotel            0       34.0               2017   \n",
       "119388    City Hotel            0      109.0               2017   \n",
       "119389    City Hotel            0      205.0               2017   \n",
       "\n",
       "       arrival_date_month  arrival_date_week_number  \\\n",
       "0                    July                        27   \n",
       "1                    July                        27   \n",
       "2                    July                        27   \n",
       "3                    July                        27   \n",
       "4                    July                        27   \n",
       "...                   ...                       ...   \n",
       "119385             August                        35   \n",
       "119386             August                        35   \n",
       "119387             August                        35   \n",
       "119388             August                        35   \n",
       "119389             August                        35   \n",
       "\n",
       "        arrival_date_day_of_month  stays_in_weekend_nights  \\\n",
       "0                               1                      0.0   \n",
       "1                               1                      0.0   \n",
       "2                               1                      0.0   \n",
       "3                               1                      0.0   \n",
       "4                               1                      0.0   \n",
       "...                           ...                      ...   \n",
       "119385                         30                      2.0   \n",
       "119386                         31                      2.0   \n",
       "119387                         31                      2.0   \n",
       "119388                         31                      2.0   \n",
       "119389                         29                      2.0   \n",
       "\n",
       "        stays_in_week_nights  adults  ...  company  days_in_waiting_list  \\\n",
       "0                        0.0     2.0  ...        0                     0   \n",
       "1                        0.0     2.0  ...        0                     0   \n",
       "2                        1.0     2.0  ...        0                     0   \n",
       "3                        1.0     2.0  ...        0                     0   \n",
       "4                        2.0     2.0  ...        0                     0   \n",
       "...                      ...     ...  ...      ...                   ...   \n",
       "119385                   5.0     2.0  ...        0                     0   \n",
       "119386                   5.0     2.0  ...        0                     0   \n",
       "119387                   5.0     2.0  ...        0                     0   \n",
       "119388                   5.0     2.0  ...        0                     0   \n",
       "119389                   6.0     2.0  ...        0                     0   \n",
       "\n",
       "       customer_type     adr required_car_parking_spaces  \\\n",
       "0          Transient    0.00                           0   \n",
       "1          Transient    0.00                           0   \n",
       "2          Transient   75.00                           0   \n",
       "3          Transient   75.00                           0   \n",
       "4          Transient   98.00                           0   \n",
       "...              ...     ...                         ...   \n",
       "119385     Transient   96.14                           0   \n",
       "119386     Transient  210.75                           0   \n",
       "119387     Transient  157.71                           0   \n",
       "119388     Transient  104.40                           0   \n",
       "119389     Transient  151.20                           0   \n",
       "\n",
       "        total_of_special_requests  reservation_status reservation_status_date  \\\n",
       "0                               0           Check-Out              2015-07-01   \n",
       "1                               0           Check-Out              2015-07-01   \n",
       "2                               0           Check-Out              2015-07-02   \n",
       "3                               0           Check-Out              2015-07-02   \n",
       "4                               1           Check-Out              2015-07-03   \n",
       "...                           ...                 ...                     ...   \n",
       "119385                          0           Check-Out              2017-09-06   \n",
       "119386                          2           Check-Out              2017-09-07   \n",
       "119387                          4           Check-Out              2017-09-07   \n",
       "119388                          0           Check-Out              2017-09-07   \n",
       "119389                          2           Check-Out              2017-09-07   \n",
       "\n",
       "        Room  net_cancelled  \n",
       "0          1              0  \n",
       "1          1              0  \n",
       "2          0              0  \n",
       "3          1              0  \n",
       "4          1              0  \n",
       "...      ...            ...  \n",
       "119385     1              0  \n",
       "119386     1              0  \n",
       "119387     1              0  \n",
       "119388     1              0  \n",
       "119389     1              0  \n",
       "\n",
       "[119210 rows x 29 columns]"
      ]
     },
     "execution_count": 82,
     "metadata": {},
     "output_type": "execute_result"
    }
   ],
   "source": [
    "df_subset.drop(['previous_cancellations','previous_bookings_not_canceled','reserved_room_type','assigned_room_type','country'], axis=1)"
   ]
  },
  {
   "cell_type": "code",
   "execution_count": 83,
   "id": "872112fe",
   "metadata": {},
   "outputs": [
    {
     "data": {
      "text/plain": [
       "Index(['hotel', 'is_canceled', 'lead_time', 'arrival_date_year',\n",
       "       'arrival_date_month', 'arrival_date_week_number',\n",
       "       'arrival_date_day_of_month', 'stays_in_weekend_nights',\n",
       "       'stays_in_week_nights', 'adults', 'children', 'babies', 'meal',\n",
       "       'country', 'market_segment', 'distribution_channel',\n",
       "       'is_repeated_guest', 'previous_cancellations',\n",
       "       'previous_bookings_not_canceled', 'reserved_room_type',\n",
       "       'assigned_room_type', 'booking_changes', 'deposit_type', 'agent',\n",
       "       'company', 'days_in_waiting_list', 'customer_type', 'adr',\n",
       "       'required_car_parking_spaces', 'total_of_special_requests',\n",
       "       'reservation_status', 'reservation_status_date', 'Room',\n",
       "       'net_cancelled'],\n",
       "      dtype='object')"
      ]
     },
     "execution_count": 83,
     "metadata": {},
     "output_type": "execute_result"
    }
   ],
   "source": [
    "df_subset.columns"
   ]
  },
  {
   "cell_type": "code",
   "execution_count": 84,
   "id": "746a5a22",
   "metadata": {
    "scrolled": true
   },
   "outputs": [
    {
     "data": {
      "text/html": [
       "<div>\n",
       "<style scoped>\n",
       "    .dataframe tbody tr th:only-of-type {\n",
       "        vertical-align: middle;\n",
       "    }\n",
       "\n",
       "    .dataframe tbody tr th {\n",
       "        vertical-align: top;\n",
       "    }\n",
       "\n",
       "    .dataframe thead th {\n",
       "        text-align: right;\n",
       "    }\n",
       "</style>\n",
       "<table border=\"1\" class=\"dataframe\">\n",
       "  <thead>\n",
       "    <tr style=\"text-align: right;\">\n",
       "      <th></th>\n",
       "      <th>hotel</th>\n",
       "      <th>is_canceled</th>\n",
       "      <th>lead_time</th>\n",
       "      <th>arrival_date_year</th>\n",
       "      <th>arrival_date_month</th>\n",
       "      <th>arrival_date_week_number</th>\n",
       "      <th>arrival_date_day_of_month</th>\n",
       "      <th>stays_in_weekend_nights</th>\n",
       "      <th>stays_in_week_nights</th>\n",
       "      <th>adults</th>\n",
       "      <th>...</th>\n",
       "      <th>company</th>\n",
       "      <th>days_in_waiting_list</th>\n",
       "      <th>customer_type</th>\n",
       "      <th>adr</th>\n",
       "      <th>required_car_parking_spaces</th>\n",
       "      <th>total_of_special_requests</th>\n",
       "      <th>reservation_status</th>\n",
       "      <th>reservation_status_date</th>\n",
       "      <th>Room</th>\n",
       "      <th>net_cancelled</th>\n",
       "    </tr>\n",
       "  </thead>\n",
       "  <tbody>\n",
       "    <tr>\n",
       "      <th>0</th>\n",
       "      <td>1</td>\n",
       "      <td>0</td>\n",
       "      <td>342</td>\n",
       "      <td>0</td>\n",
       "      <td>5</td>\n",
       "      <td>26</td>\n",
       "      <td>0</td>\n",
       "      <td>0</td>\n",
       "      <td>0</td>\n",
       "      <td>0</td>\n",
       "      <td>...</td>\n",
       "      <td>0</td>\n",
       "      <td>0</td>\n",
       "      <td>2</td>\n",
       "      <td>1</td>\n",
       "      <td>0</td>\n",
       "      <td>0</td>\n",
       "      <td>1</td>\n",
       "      <td>121</td>\n",
       "      <td>1</td>\n",
       "      <td>0</td>\n",
       "    </tr>\n",
       "    <tr>\n",
       "      <th>1</th>\n",
       "      <td>1</td>\n",
       "      <td>0</td>\n",
       "      <td>375</td>\n",
       "      <td>0</td>\n",
       "      <td>5</td>\n",
       "      <td>26</td>\n",
       "      <td>0</td>\n",
       "      <td>0</td>\n",
       "      <td>0</td>\n",
       "      <td>0</td>\n",
       "      <td>...</td>\n",
       "      <td>0</td>\n",
       "      <td>0</td>\n",
       "      <td>2</td>\n",
       "      <td>1</td>\n",
       "      <td>0</td>\n",
       "      <td>0</td>\n",
       "      <td>1</td>\n",
       "      <td>121</td>\n",
       "      <td>1</td>\n",
       "      <td>0</td>\n",
       "    </tr>\n",
       "    <tr>\n",
       "      <th>2</th>\n",
       "      <td>1</td>\n",
       "      <td>0</td>\n",
       "      <td>7</td>\n",
       "      <td>0</td>\n",
       "      <td>5</td>\n",
       "      <td>26</td>\n",
       "      <td>0</td>\n",
       "      <td>0</td>\n",
       "      <td>1</td>\n",
       "      <td>0</td>\n",
       "      <td>...</td>\n",
       "      <td>0</td>\n",
       "      <td>0</td>\n",
       "      <td>2</td>\n",
       "      <td>2124</td>\n",
       "      <td>0</td>\n",
       "      <td>0</td>\n",
       "      <td>1</td>\n",
       "      <td>122</td>\n",
       "      <td>0</td>\n",
       "      <td>0</td>\n",
       "    </tr>\n",
       "    <tr>\n",
       "      <th>3</th>\n",
       "      <td>1</td>\n",
       "      <td>0</td>\n",
       "      <td>13</td>\n",
       "      <td>0</td>\n",
       "      <td>5</td>\n",
       "      <td>26</td>\n",
       "      <td>0</td>\n",
       "      <td>0</td>\n",
       "      <td>1</td>\n",
       "      <td>0</td>\n",
       "      <td>...</td>\n",
       "      <td>0</td>\n",
       "      <td>0</td>\n",
       "      <td>2</td>\n",
       "      <td>2124</td>\n",
       "      <td>0</td>\n",
       "      <td>0</td>\n",
       "      <td>1</td>\n",
       "      <td>122</td>\n",
       "      <td>1</td>\n",
       "      <td>0</td>\n",
       "    </tr>\n",
       "    <tr>\n",
       "      <th>4</th>\n",
       "      <td>1</td>\n",
       "      <td>0</td>\n",
       "      <td>14</td>\n",
       "      <td>0</td>\n",
       "      <td>5</td>\n",
       "      <td>26</td>\n",
       "      <td>0</td>\n",
       "      <td>0</td>\n",
       "      <td>2</td>\n",
       "      <td>0</td>\n",
       "      <td>...</td>\n",
       "      <td>0</td>\n",
       "      <td>0</td>\n",
       "      <td>2</td>\n",
       "      <td>3523</td>\n",
       "      <td>0</td>\n",
       "      <td>1</td>\n",
       "      <td>1</td>\n",
       "      <td>123</td>\n",
       "      <td>1</td>\n",
       "      <td>0</td>\n",
       "    </tr>\n",
       "  </tbody>\n",
       "</table>\n",
       "<p>5 rows × 34 columns</p>\n",
       "</div>"
      ],
      "text/plain": [
       "   hotel  is_canceled  lead_time  arrival_date_year  arrival_date_month  \\\n",
       "0      1            0        342                  0                   5   \n",
       "1      1            0        375                  0                   5   \n",
       "2      1            0          7                  0                   5   \n",
       "3      1            0         13                  0                   5   \n",
       "4      1            0         14                  0                   5   \n",
       "\n",
       "   arrival_date_week_number  arrival_date_day_of_month  \\\n",
       "0                        26                          0   \n",
       "1                        26                          0   \n",
       "2                        26                          0   \n",
       "3                        26                          0   \n",
       "4                        26                          0   \n",
       "\n",
       "   stays_in_weekend_nights  stays_in_week_nights  adults  ...  company  \\\n",
       "0                        0                     0       0  ...        0   \n",
       "1                        0                     0       0  ...        0   \n",
       "2                        0                     1       0  ...        0   \n",
       "3                        0                     1       0  ...        0   \n",
       "4                        0                     2       0  ...        0   \n",
       "\n",
       "   days_in_waiting_list  customer_type   adr  required_car_parking_spaces  \\\n",
       "0                     0              2     1                            0   \n",
       "1                     0              2     1                            0   \n",
       "2                     0              2  2124                            0   \n",
       "3                     0              2  2124                            0   \n",
       "4                     0              2  3523                            0   \n",
       "\n",
       "   total_of_special_requests  reservation_status  reservation_status_date  \\\n",
       "0                          0                   1                      121   \n",
       "1                          0                   1                      121   \n",
       "2                          0                   1                      122   \n",
       "3                          0                   1                      122   \n",
       "4                          1                   1                      123   \n",
       "\n",
       "   Room  net_cancelled  \n",
       "0     1              0  \n",
       "1     1              0  \n",
       "2     0              0  \n",
       "3     1              0  \n",
       "4     1              0  \n",
       "\n",
       "[5 rows x 34 columns]"
      ]
     },
     "execution_count": 84,
     "metadata": {},
     "output_type": "execute_result"
    }
   ],
   "source": [
    "# Label Encoder\n",
    "from sklearn.preprocessing import LabelEncoder\n",
    "df2 = df_subset.apply(LabelEncoder().fit_transform)\n",
    "df2.head()\n"
   ]
  },
  {
   "cell_type": "code",
   "execution_count": 85,
   "id": "80546279",
   "metadata": {},
   "outputs": [],
   "source": [
    "## Remove the less important features\n",
    "df2 = df2.drop(['arrival_date_year','arrival_date_week_number','arrival_date_day_of_month',\n",
    "                            'arrival_date_month','assigned_room_type','reserved_room_type',\n",
    "                            'previous_cancellations','previous_bookings_not_canceled'],axis=1)\n"
   ]
  },
  {
   "cell_type": "code",
   "execution_count": 86,
   "id": "04abf6e5",
   "metadata": {
    "scrolled": true
   },
   "outputs": [
    {
     "data": {
      "text/html": [
       "<div>\n",
       "<style scoped>\n",
       "    .dataframe tbody tr th:only-of-type {\n",
       "        vertical-align: middle;\n",
       "    }\n",
       "\n",
       "    .dataframe tbody tr th {\n",
       "        vertical-align: top;\n",
       "    }\n",
       "\n",
       "    .dataframe thead th {\n",
       "        text-align: right;\n",
       "    }\n",
       "</style>\n",
       "<table border=\"1\" class=\"dataframe\">\n",
       "  <thead>\n",
       "    <tr style=\"text-align: right;\">\n",
       "      <th></th>\n",
       "      <th>hotel</th>\n",
       "      <th>is_canceled</th>\n",
       "      <th>lead_time</th>\n",
       "      <th>stays_in_weekend_nights</th>\n",
       "      <th>stays_in_week_nights</th>\n",
       "      <th>adults</th>\n",
       "      <th>children</th>\n",
       "      <th>babies</th>\n",
       "      <th>meal</th>\n",
       "      <th>country</th>\n",
       "      <th>...</th>\n",
       "      <th>company</th>\n",
       "      <th>days_in_waiting_list</th>\n",
       "      <th>customer_type</th>\n",
       "      <th>adr</th>\n",
       "      <th>required_car_parking_spaces</th>\n",
       "      <th>total_of_special_requests</th>\n",
       "      <th>reservation_status</th>\n",
       "      <th>reservation_status_date</th>\n",
       "      <th>Room</th>\n",
       "      <th>net_cancelled</th>\n",
       "    </tr>\n",
       "  </thead>\n",
       "  <tbody>\n",
       "    <tr>\n",
       "      <th>0</th>\n",
       "      <td>1</td>\n",
       "      <td>0</td>\n",
       "      <td>342</td>\n",
       "      <td>0</td>\n",
       "      <td>0</td>\n",
       "      <td>0</td>\n",
       "      <td>0</td>\n",
       "      <td>0</td>\n",
       "      <td>0</td>\n",
       "      <td>136</td>\n",
       "      <td>...</td>\n",
       "      <td>0</td>\n",
       "      <td>0</td>\n",
       "      <td>2</td>\n",
       "      <td>1</td>\n",
       "      <td>0</td>\n",
       "      <td>0</td>\n",
       "      <td>1</td>\n",
       "      <td>121</td>\n",
       "      <td>1</td>\n",
       "      <td>0</td>\n",
       "    </tr>\n",
       "    <tr>\n",
       "      <th>1</th>\n",
       "      <td>1</td>\n",
       "      <td>0</td>\n",
       "      <td>375</td>\n",
       "      <td>0</td>\n",
       "      <td>0</td>\n",
       "      <td>0</td>\n",
       "      <td>0</td>\n",
       "      <td>0</td>\n",
       "      <td>0</td>\n",
       "      <td>136</td>\n",
       "      <td>...</td>\n",
       "      <td>0</td>\n",
       "      <td>0</td>\n",
       "      <td>2</td>\n",
       "      <td>1</td>\n",
       "      <td>0</td>\n",
       "      <td>0</td>\n",
       "      <td>1</td>\n",
       "      <td>121</td>\n",
       "      <td>1</td>\n",
       "      <td>0</td>\n",
       "    </tr>\n",
       "    <tr>\n",
       "      <th>2</th>\n",
       "      <td>1</td>\n",
       "      <td>0</td>\n",
       "      <td>7</td>\n",
       "      <td>0</td>\n",
       "      <td>1</td>\n",
       "      <td>0</td>\n",
       "      <td>0</td>\n",
       "      <td>0</td>\n",
       "      <td>0</td>\n",
       "      <td>60</td>\n",
       "      <td>...</td>\n",
       "      <td>0</td>\n",
       "      <td>0</td>\n",
       "      <td>2</td>\n",
       "      <td>2124</td>\n",
       "      <td>0</td>\n",
       "      <td>0</td>\n",
       "      <td>1</td>\n",
       "      <td>122</td>\n",
       "      <td>0</td>\n",
       "      <td>0</td>\n",
       "    </tr>\n",
       "    <tr>\n",
       "      <th>3</th>\n",
       "      <td>1</td>\n",
       "      <td>0</td>\n",
       "      <td>13</td>\n",
       "      <td>0</td>\n",
       "      <td>1</td>\n",
       "      <td>0</td>\n",
       "      <td>0</td>\n",
       "      <td>0</td>\n",
       "      <td>0</td>\n",
       "      <td>60</td>\n",
       "      <td>...</td>\n",
       "      <td>0</td>\n",
       "      <td>0</td>\n",
       "      <td>2</td>\n",
       "      <td>2124</td>\n",
       "      <td>0</td>\n",
       "      <td>0</td>\n",
       "      <td>1</td>\n",
       "      <td>122</td>\n",
       "      <td>1</td>\n",
       "      <td>0</td>\n",
       "    </tr>\n",
       "    <tr>\n",
       "      <th>4</th>\n",
       "      <td>1</td>\n",
       "      <td>0</td>\n",
       "      <td>14</td>\n",
       "      <td>0</td>\n",
       "      <td>2</td>\n",
       "      <td>0</td>\n",
       "      <td>0</td>\n",
       "      <td>0</td>\n",
       "      <td>0</td>\n",
       "      <td>60</td>\n",
       "      <td>...</td>\n",
       "      <td>0</td>\n",
       "      <td>0</td>\n",
       "      <td>2</td>\n",
       "      <td>3523</td>\n",
       "      <td>0</td>\n",
       "      <td>1</td>\n",
       "      <td>1</td>\n",
       "      <td>123</td>\n",
       "      <td>1</td>\n",
       "      <td>0</td>\n",
       "    </tr>\n",
       "    <tr>\n",
       "      <th>...</th>\n",
       "      <td>...</td>\n",
       "      <td>...</td>\n",
       "      <td>...</td>\n",
       "      <td>...</td>\n",
       "      <td>...</td>\n",
       "      <td>...</td>\n",
       "      <td>...</td>\n",
       "      <td>...</td>\n",
       "      <td>...</td>\n",
       "      <td>...</td>\n",
       "      <td>...</td>\n",
       "      <td>...</td>\n",
       "      <td>...</td>\n",
       "      <td>...</td>\n",
       "      <td>...</td>\n",
       "      <td>...</td>\n",
       "      <td>...</td>\n",
       "      <td>...</td>\n",
       "      <td>...</td>\n",
       "      <td>...</td>\n",
       "      <td>...</td>\n",
       "    </tr>\n",
       "    <tr>\n",
       "      <th>119385</th>\n",
       "      <td>0</td>\n",
       "      <td>0</td>\n",
       "      <td>23</td>\n",
       "      <td>2</td>\n",
       "      <td>5</td>\n",
       "      <td>0</td>\n",
       "      <td>0</td>\n",
       "      <td>0</td>\n",
       "      <td>0</td>\n",
       "      <td>16</td>\n",
       "      <td>...</td>\n",
       "      <td>0</td>\n",
       "      <td>0</td>\n",
       "      <td>2</td>\n",
       "      <td>3425</td>\n",
       "      <td>0</td>\n",
       "      <td>0</td>\n",
       "      <td>1</td>\n",
       "      <td>919</td>\n",
       "      <td>1</td>\n",
       "      <td>0</td>\n",
       "    </tr>\n",
       "    <tr>\n",
       "      <th>119386</th>\n",
       "      <td>0</td>\n",
       "      <td>0</td>\n",
       "      <td>102</td>\n",
       "      <td>2</td>\n",
       "      <td>5</td>\n",
       "      <td>0</td>\n",
       "      <td>0</td>\n",
       "      <td>0</td>\n",
       "      <td>0</td>\n",
       "      <td>57</td>\n",
       "      <td>...</td>\n",
       "      <td>0</td>\n",
       "      <td>0</td>\n",
       "      <td>2</td>\n",
       "      <td>7841</td>\n",
       "      <td>0</td>\n",
       "      <td>2</td>\n",
       "      <td>1</td>\n",
       "      <td>920</td>\n",
       "      <td>1</td>\n",
       "      <td>0</td>\n",
       "    </tr>\n",
       "    <tr>\n",
       "      <th>119387</th>\n",
       "      <td>0</td>\n",
       "      <td>0</td>\n",
       "      <td>34</td>\n",
       "      <td>2</td>\n",
       "      <td>5</td>\n",
       "      <td>0</td>\n",
       "      <td>0</td>\n",
       "      <td>0</td>\n",
       "      <td>0</td>\n",
       "      <td>44</td>\n",
       "      <td>...</td>\n",
       "      <td>0</td>\n",
       "      <td>0</td>\n",
       "      <td>2</td>\n",
       "      <td>6392</td>\n",
       "      <td>0</td>\n",
       "      <td>4</td>\n",
       "      <td>1</td>\n",
       "      <td>920</td>\n",
       "      <td>1</td>\n",
       "      <td>0</td>\n",
       "    </tr>\n",
       "    <tr>\n",
       "      <th>119388</th>\n",
       "      <td>0</td>\n",
       "      <td>0</td>\n",
       "      <td>109</td>\n",
       "      <td>2</td>\n",
       "      <td>5</td>\n",
       "      <td>0</td>\n",
       "      <td>0</td>\n",
       "      <td>0</td>\n",
       "      <td>0</td>\n",
       "      <td>60</td>\n",
       "      <td>...</td>\n",
       "      <td>0</td>\n",
       "      <td>0</td>\n",
       "      <td>2</td>\n",
       "      <td>3909</td>\n",
       "      <td>0</td>\n",
       "      <td>0</td>\n",
       "      <td>1</td>\n",
       "      <td>920</td>\n",
       "      <td>1</td>\n",
       "      <td>0</td>\n",
       "    </tr>\n",
       "    <tr>\n",
       "      <th>119389</th>\n",
       "      <td>0</td>\n",
       "      <td>0</td>\n",
       "      <td>205</td>\n",
       "      <td>2</td>\n",
       "      <td>6</td>\n",
       "      <td>0</td>\n",
       "      <td>0</td>\n",
       "      <td>0</td>\n",
       "      <td>2</td>\n",
       "      <td>44</td>\n",
       "      <td>...</td>\n",
       "      <td>0</td>\n",
       "      <td>0</td>\n",
       "      <td>2</td>\n",
       "      <td>6147</td>\n",
       "      <td>0</td>\n",
       "      <td>2</td>\n",
       "      <td>1</td>\n",
       "      <td>920</td>\n",
       "      <td>1</td>\n",
       "      <td>0</td>\n",
       "    </tr>\n",
       "  </tbody>\n",
       "</table>\n",
       "<p>119210 rows × 26 columns</p>\n",
       "</div>"
      ],
      "text/plain": [
       "        hotel  is_canceled  lead_time  stays_in_weekend_nights  \\\n",
       "0           1            0        342                        0   \n",
       "1           1            0        375                        0   \n",
       "2           1            0          7                        0   \n",
       "3           1            0         13                        0   \n",
       "4           1            0         14                        0   \n",
       "...       ...          ...        ...                      ...   \n",
       "119385      0            0         23                        2   \n",
       "119386      0            0        102                        2   \n",
       "119387      0            0         34                        2   \n",
       "119388      0            0        109                        2   \n",
       "119389      0            0        205                        2   \n",
       "\n",
       "        stays_in_week_nights  adults  children  babies  meal  country  ...  \\\n",
       "0                          0       0         0       0     0      136  ...   \n",
       "1                          0       0         0       0     0      136  ...   \n",
       "2                          1       0         0       0     0       60  ...   \n",
       "3                          1       0         0       0     0       60  ...   \n",
       "4                          2       0         0       0     0       60  ...   \n",
       "...                      ...     ...       ...     ...   ...      ...  ...   \n",
       "119385                     5       0         0       0     0       16  ...   \n",
       "119386                     5       0         0       0     0       57  ...   \n",
       "119387                     5       0         0       0     0       44  ...   \n",
       "119388                     5       0         0       0     0       60  ...   \n",
       "119389                     6       0         0       0     2       44  ...   \n",
       "\n",
       "        company  days_in_waiting_list  customer_type   adr  \\\n",
       "0             0                     0              2     1   \n",
       "1             0                     0              2     1   \n",
       "2             0                     0              2  2124   \n",
       "3             0                     0              2  2124   \n",
       "4             0                     0              2  3523   \n",
       "...         ...                   ...            ...   ...   \n",
       "119385        0                     0              2  3425   \n",
       "119386        0                     0              2  7841   \n",
       "119387        0                     0              2  6392   \n",
       "119388        0                     0              2  3909   \n",
       "119389        0                     0              2  6147   \n",
       "\n",
       "        required_car_parking_spaces  total_of_special_requests  \\\n",
       "0                                 0                          0   \n",
       "1                                 0                          0   \n",
       "2                                 0                          0   \n",
       "3                                 0                          0   \n",
       "4                                 0                          1   \n",
       "...                             ...                        ...   \n",
       "119385                            0                          0   \n",
       "119386                            0                          2   \n",
       "119387                            0                          4   \n",
       "119388                            0                          0   \n",
       "119389                            0                          2   \n",
       "\n",
       "        reservation_status  reservation_status_date  Room  net_cancelled  \n",
       "0                        1                      121     1              0  \n",
       "1                        1                      121     1              0  \n",
       "2                        1                      122     0              0  \n",
       "3                        1                      122     1              0  \n",
       "4                        1                      123     1              0  \n",
       "...                    ...                      ...   ...            ...  \n",
       "119385                   1                      919     1              0  \n",
       "119386                   1                      920     1              0  \n",
       "119387                   1                      920     1              0  \n",
       "119388                   1                      920     1              0  \n",
       "119389                   1                      920     1              0  \n",
       "\n",
       "[119210 rows x 26 columns]"
      ]
     },
     "execution_count": 86,
     "metadata": {},
     "output_type": "execute_result"
    }
   ],
   "source": [
    "df2"
   ]
  },
  {
   "cell_type": "code",
   "execution_count": 87,
   "id": "e6a5a6c0",
   "metadata": {},
   "outputs": [],
   "source": [
    "m = df2.iloc[1001:5000,:]"
   ]
  },
  {
   "cell_type": "code",
   "execution_count": 88,
   "id": "d07b449b",
   "metadata": {
    "scrolled": true
   },
   "outputs": [
    {
     "data": {
      "text/html": [
       "<div>\n",
       "<style scoped>\n",
       "    .dataframe tbody tr th:only-of-type {\n",
       "        vertical-align: middle;\n",
       "    }\n",
       "\n",
       "    .dataframe tbody tr th {\n",
       "        vertical-align: top;\n",
       "    }\n",
       "\n",
       "    .dataframe thead th {\n",
       "        text-align: right;\n",
       "    }\n",
       "</style>\n",
       "<table border=\"1\" class=\"dataframe\">\n",
       "  <thead>\n",
       "    <tr style=\"text-align: right;\">\n",
       "      <th></th>\n",
       "      <th>hotel</th>\n",
       "      <th>is_canceled</th>\n",
       "      <th>lead_time</th>\n",
       "      <th>stays_in_weekend_nights</th>\n",
       "      <th>stays_in_week_nights</th>\n",
       "      <th>adults</th>\n",
       "      <th>children</th>\n",
       "      <th>babies</th>\n",
       "      <th>meal</th>\n",
       "      <th>country</th>\n",
       "      <th>...</th>\n",
       "      <th>company</th>\n",
       "      <th>days_in_waiting_list</th>\n",
       "      <th>customer_type</th>\n",
       "      <th>adr</th>\n",
       "      <th>required_car_parking_spaces</th>\n",
       "      <th>total_of_special_requests</th>\n",
       "      <th>reservation_status</th>\n",
       "      <th>reservation_status_date</th>\n",
       "      <th>Room</th>\n",
       "      <th>net_cancelled</th>\n",
       "    </tr>\n",
       "  </thead>\n",
       "  <tbody>\n",
       "    <tr>\n",
       "      <th>1001</th>\n",
       "      <td>1</td>\n",
       "      <td>1</td>\n",
       "      <td>68</td>\n",
       "      <td>2</td>\n",
       "      <td>5</td>\n",
       "      <td>0</td>\n",
       "      <td>0</td>\n",
       "      <td>0</td>\n",
       "      <td>0</td>\n",
       "      <td>136</td>\n",
       "      <td>...</td>\n",
       "      <td>0</td>\n",
       "      <td>0</td>\n",
       "      <td>2</td>\n",
       "      <td>7841</td>\n",
       "      <td>0</td>\n",
       "      <td>0</td>\n",
       "      <td>0</td>\n",
       "      <td>96</td>\n",
       "      <td>1</td>\n",
       "      <td>0</td>\n",
       "    </tr>\n",
       "    <tr>\n",
       "      <th>1002</th>\n",
       "      <td>1</td>\n",
       "      <td>0</td>\n",
       "      <td>81</td>\n",
       "      <td>2</td>\n",
       "      <td>5</td>\n",
       "      <td>0</td>\n",
       "      <td>0</td>\n",
       "      <td>0</td>\n",
       "      <td>2</td>\n",
       "      <td>60</td>\n",
       "      <td>...</td>\n",
       "      <td>0</td>\n",
       "      <td>0</td>\n",
       "      <td>2</td>\n",
       "      <td>5258</td>\n",
       "      <td>0</td>\n",
       "      <td>0</td>\n",
       "      <td>1</td>\n",
       "      <td>167</td>\n",
       "      <td>1</td>\n",
       "      <td>0</td>\n",
       "    </tr>\n",
       "    <tr>\n",
       "      <th>1003</th>\n",
       "      <td>1</td>\n",
       "      <td>1</td>\n",
       "      <td>72</td>\n",
       "      <td>2</td>\n",
       "      <td>5</td>\n",
       "      <td>0</td>\n",
       "      <td>0</td>\n",
       "      <td>0</td>\n",
       "      <td>0</td>\n",
       "      <td>136</td>\n",
       "      <td>...</td>\n",
       "      <td>0</td>\n",
       "      <td>0</td>\n",
       "      <td>2</td>\n",
       "      <td>6255</td>\n",
       "      <td>0</td>\n",
       "      <td>0</td>\n",
       "      <td>0</td>\n",
       "      <td>100</td>\n",
       "      <td>1</td>\n",
       "      <td>0</td>\n",
       "    </tr>\n",
       "    <tr>\n",
       "      <th>1004</th>\n",
       "      <td>1</td>\n",
       "      <td>0</td>\n",
       "      <td>68</td>\n",
       "      <td>2</td>\n",
       "      <td>5</td>\n",
       "      <td>0</td>\n",
       "      <td>0</td>\n",
       "      <td>0</td>\n",
       "      <td>0</td>\n",
       "      <td>60</td>\n",
       "      <td>...</td>\n",
       "      <td>0</td>\n",
       "      <td>0</td>\n",
       "      <td>2</td>\n",
       "      <td>4029</td>\n",
       "      <td>0</td>\n",
       "      <td>0</td>\n",
       "      <td>1</td>\n",
       "      <td>167</td>\n",
       "      <td>1</td>\n",
       "      <td>0</td>\n",
       "    </tr>\n",
       "    <tr>\n",
       "      <th>1005</th>\n",
       "      <td>1</td>\n",
       "      <td>1</td>\n",
       "      <td>127</td>\n",
       "      <td>4</td>\n",
       "      <td>6</td>\n",
       "      <td>0</td>\n",
       "      <td>0</td>\n",
       "      <td>0</td>\n",
       "      <td>2</td>\n",
       "      <td>136</td>\n",
       "      <td>...</td>\n",
       "      <td>0</td>\n",
       "      <td>0</td>\n",
       "      <td>3</td>\n",
       "      <td>5401</td>\n",
       "      <td>0</td>\n",
       "      <td>1</td>\n",
       "      <td>0</td>\n",
       "      <td>96</td>\n",
       "      <td>1</td>\n",
       "      <td>0</td>\n",
       "    </tr>\n",
       "    <tr>\n",
       "      <th>...</th>\n",
       "      <td>...</td>\n",
       "      <td>...</td>\n",
       "      <td>...</td>\n",
       "      <td>...</td>\n",
       "      <td>...</td>\n",
       "      <td>...</td>\n",
       "      <td>...</td>\n",
       "      <td>...</td>\n",
       "      <td>...</td>\n",
       "      <td>...</td>\n",
       "      <td>...</td>\n",
       "      <td>...</td>\n",
       "      <td>...</td>\n",
       "      <td>...</td>\n",
       "      <td>...</td>\n",
       "      <td>...</td>\n",
       "      <td>...</td>\n",
       "      <td>...</td>\n",
       "      <td>...</td>\n",
       "      <td>...</td>\n",
       "      <td>...</td>\n",
       "    </tr>\n",
       "    <tr>\n",
       "      <th>5001</th>\n",
       "      <td>1</td>\n",
       "      <td>0</td>\n",
       "      <td>187</td>\n",
       "      <td>3</td>\n",
       "      <td>6</td>\n",
       "      <td>0</td>\n",
       "      <td>0</td>\n",
       "      <td>0</td>\n",
       "      <td>2</td>\n",
       "      <td>60</td>\n",
       "      <td>...</td>\n",
       "      <td>0</td>\n",
       "      <td>0</td>\n",
       "      <td>2</td>\n",
       "      <td>4114</td>\n",
       "      <td>0</td>\n",
       "      <td>2</td>\n",
       "      <td>1</td>\n",
       "      <td>416</td>\n",
       "      <td>1</td>\n",
       "      <td>0</td>\n",
       "    </tr>\n",
       "    <tr>\n",
       "      <th>5002</th>\n",
       "      <td>1</td>\n",
       "      <td>1</td>\n",
       "      <td>212</td>\n",
       "      <td>2</td>\n",
       "      <td>5</td>\n",
       "      <td>0</td>\n",
       "      <td>0</td>\n",
       "      <td>0</td>\n",
       "      <td>2</td>\n",
       "      <td>136</td>\n",
       "      <td>...</td>\n",
       "      <td>0</td>\n",
       "      <td>0</td>\n",
       "      <td>2</td>\n",
       "      <td>2187</td>\n",
       "      <td>0</td>\n",
       "      <td>0</td>\n",
       "      <td>0</td>\n",
       "      <td>228</td>\n",
       "      <td>1</td>\n",
       "      <td>0</td>\n",
       "    </tr>\n",
       "    <tr>\n",
       "      <th>5003</th>\n",
       "      <td>1</td>\n",
       "      <td>1</td>\n",
       "      <td>212</td>\n",
       "      <td>2</td>\n",
       "      <td>5</td>\n",
       "      <td>0</td>\n",
       "      <td>0</td>\n",
       "      <td>0</td>\n",
       "      <td>2</td>\n",
       "      <td>136</td>\n",
       "      <td>...</td>\n",
       "      <td>0</td>\n",
       "      <td>0</td>\n",
       "      <td>2</td>\n",
       "      <td>2187</td>\n",
       "      <td>0</td>\n",
       "      <td>0</td>\n",
       "      <td>0</td>\n",
       "      <td>228</td>\n",
       "      <td>1</td>\n",
       "      <td>0</td>\n",
       "    </tr>\n",
       "    <tr>\n",
       "      <th>5004</th>\n",
       "      <td>1</td>\n",
       "      <td>1</td>\n",
       "      <td>168</td>\n",
       "      <td>0</td>\n",
       "      <td>2</td>\n",
       "      <td>0</td>\n",
       "      <td>0</td>\n",
       "      <td>0</td>\n",
       "      <td>2</td>\n",
       "      <td>136</td>\n",
       "      <td>...</td>\n",
       "      <td>0</td>\n",
       "      <td>0</td>\n",
       "      <td>2</td>\n",
       "      <td>2794</td>\n",
       "      <td>0</td>\n",
       "      <td>0</td>\n",
       "      <td>0</td>\n",
       "      <td>309</td>\n",
       "      <td>1</td>\n",
       "      <td>0</td>\n",
       "    </tr>\n",
       "    <tr>\n",
       "      <th>5005</th>\n",
       "      <td>1</td>\n",
       "      <td>1</td>\n",
       "      <td>168</td>\n",
       "      <td>0</td>\n",
       "      <td>2</td>\n",
       "      <td>0</td>\n",
       "      <td>0</td>\n",
       "      <td>0</td>\n",
       "      <td>2</td>\n",
       "      <td>136</td>\n",
       "      <td>...</td>\n",
       "      <td>0</td>\n",
       "      <td>0</td>\n",
       "      <td>2</td>\n",
       "      <td>2794</td>\n",
       "      <td>0</td>\n",
       "      <td>0</td>\n",
       "      <td>0</td>\n",
       "      <td>309</td>\n",
       "      <td>1</td>\n",
       "      <td>0</td>\n",
       "    </tr>\n",
       "  </tbody>\n",
       "</table>\n",
       "<p>3999 rows × 26 columns</p>\n",
       "</div>"
      ],
      "text/plain": [
       "      hotel  is_canceled  lead_time  stays_in_weekend_nights  \\\n",
       "1001      1            1         68                        2   \n",
       "1002      1            0         81                        2   \n",
       "1003      1            1         72                        2   \n",
       "1004      1            0         68                        2   \n",
       "1005      1            1        127                        4   \n",
       "...     ...          ...        ...                      ...   \n",
       "5001      1            0        187                        3   \n",
       "5002      1            1        212                        2   \n",
       "5003      1            1        212                        2   \n",
       "5004      1            1        168                        0   \n",
       "5005      1            1        168                        0   \n",
       "\n",
       "      stays_in_week_nights  adults  children  babies  meal  country  ...  \\\n",
       "1001                     5       0         0       0     0      136  ...   \n",
       "1002                     5       0         0       0     2       60  ...   \n",
       "1003                     5       0         0       0     0      136  ...   \n",
       "1004                     5       0         0       0     0       60  ...   \n",
       "1005                     6       0         0       0     2      136  ...   \n",
       "...                    ...     ...       ...     ...   ...      ...  ...   \n",
       "5001                     6       0         0       0     2       60  ...   \n",
       "5002                     5       0         0       0     2      136  ...   \n",
       "5003                     5       0         0       0     2      136  ...   \n",
       "5004                     2       0         0       0     2      136  ...   \n",
       "5005                     2       0         0       0     2      136  ...   \n",
       "\n",
       "      company  days_in_waiting_list  customer_type   adr  \\\n",
       "1001        0                     0              2  7841   \n",
       "1002        0                     0              2  5258   \n",
       "1003        0                     0              2  6255   \n",
       "1004        0                     0              2  4029   \n",
       "1005        0                     0              3  5401   \n",
       "...       ...                   ...            ...   ...   \n",
       "5001        0                     0              2  4114   \n",
       "5002        0                     0              2  2187   \n",
       "5003        0                     0              2  2187   \n",
       "5004        0                     0              2  2794   \n",
       "5005        0                     0              2  2794   \n",
       "\n",
       "      required_car_parking_spaces  total_of_special_requests  \\\n",
       "1001                            0                          0   \n",
       "1002                            0                          0   \n",
       "1003                            0                          0   \n",
       "1004                            0                          0   \n",
       "1005                            0                          1   \n",
       "...                           ...                        ...   \n",
       "5001                            0                          2   \n",
       "5002                            0                          0   \n",
       "5003                            0                          0   \n",
       "5004                            0                          0   \n",
       "5005                            0                          0   \n",
       "\n",
       "      reservation_status  reservation_status_date  Room  net_cancelled  \n",
       "1001                   0                       96     1              0  \n",
       "1002                   1                      167     1              0  \n",
       "1003                   0                      100     1              0  \n",
       "1004                   1                      167     1              0  \n",
       "1005                   0                       96     1              0  \n",
       "...                  ...                      ...   ...            ...  \n",
       "5001                   1                      416     1              0  \n",
       "5002                   0                      228     1              0  \n",
       "5003                   0                      228     1              0  \n",
       "5004                   0                      309     1              0  \n",
       "5005                   0                      309     1              0  \n",
       "\n",
       "[3999 rows x 26 columns]"
      ]
     },
     "execution_count": 88,
     "metadata": {},
     "output_type": "execute_result"
    }
   ],
   "source": [
    "m"
   ]
  },
  {
   "cell_type": "code",
   "execution_count": 89,
   "id": "483e4ebe",
   "metadata": {},
   "outputs": [],
   "source": [
    "n = df2.iloc[1001:5000,9:]"
   ]
  },
  {
   "cell_type": "code",
   "execution_count": 90,
   "id": "225b17df",
   "metadata": {},
   "outputs": [
    {
     "data": {
      "text/html": [
       "<div>\n",
       "<style scoped>\n",
       "    .dataframe tbody tr th:only-of-type {\n",
       "        vertical-align: middle;\n",
       "    }\n",
       "\n",
       "    .dataframe tbody tr th {\n",
       "        vertical-align: top;\n",
       "    }\n",
       "\n",
       "    .dataframe thead th {\n",
       "        text-align: right;\n",
       "    }\n",
       "</style>\n",
       "<table border=\"1\" class=\"dataframe\">\n",
       "  <thead>\n",
       "    <tr style=\"text-align: right;\">\n",
       "      <th></th>\n",
       "      <th>country</th>\n",
       "      <th>market_segment</th>\n",
       "      <th>distribution_channel</th>\n",
       "      <th>is_repeated_guest</th>\n",
       "      <th>booking_changes</th>\n",
       "      <th>deposit_type</th>\n",
       "      <th>agent</th>\n",
       "      <th>company</th>\n",
       "      <th>days_in_waiting_list</th>\n",
       "      <th>customer_type</th>\n",
       "      <th>adr</th>\n",
       "      <th>required_car_parking_spaces</th>\n",
       "      <th>total_of_special_requests</th>\n",
       "      <th>reservation_status</th>\n",
       "      <th>reservation_status_date</th>\n",
       "      <th>Room</th>\n",
       "      <th>net_cancelled</th>\n",
       "    </tr>\n",
       "  </thead>\n",
       "  <tbody>\n",
       "    <tr>\n",
       "      <th>1001</th>\n",
       "      <td>136</td>\n",
       "      <td>6</td>\n",
       "      <td>3</td>\n",
       "      <td>0</td>\n",
       "      <td>0</td>\n",
       "      <td>0</td>\n",
       "      <td>174</td>\n",
       "      <td>0</td>\n",
       "      <td>0</td>\n",
       "      <td>2</td>\n",
       "      <td>7841</td>\n",
       "      <td>0</td>\n",
       "      <td>0</td>\n",
       "      <td>0</td>\n",
       "      <td>96</td>\n",
       "      <td>1</td>\n",
       "      <td>0</td>\n",
       "    </tr>\n",
       "    <tr>\n",
       "      <th>1002</th>\n",
       "      <td>60</td>\n",
       "      <td>5</td>\n",
       "      <td>3</td>\n",
       "      <td>0</td>\n",
       "      <td>0</td>\n",
       "      <td>0</td>\n",
       "      <td>177</td>\n",
       "      <td>0</td>\n",
       "      <td>0</td>\n",
       "      <td>2</td>\n",
       "      <td>5258</td>\n",
       "      <td>0</td>\n",
       "      <td>0</td>\n",
       "      <td>1</td>\n",
       "      <td>167</td>\n",
       "      <td>1</td>\n",
       "      <td>0</td>\n",
       "    </tr>\n",
       "    <tr>\n",
       "      <th>1003</th>\n",
       "      <td>136</td>\n",
       "      <td>6</td>\n",
       "      <td>3</td>\n",
       "      <td>0</td>\n",
       "      <td>0</td>\n",
       "      <td>0</td>\n",
       "      <td>174</td>\n",
       "      <td>0</td>\n",
       "      <td>0</td>\n",
       "      <td>2</td>\n",
       "      <td>6255</td>\n",
       "      <td>0</td>\n",
       "      <td>0</td>\n",
       "      <td>0</td>\n",
       "      <td>100</td>\n",
       "      <td>1</td>\n",
       "      <td>0</td>\n",
       "    </tr>\n",
       "    <tr>\n",
       "      <th>1004</th>\n",
       "      <td>60</td>\n",
       "      <td>5</td>\n",
       "      <td>3</td>\n",
       "      <td>0</td>\n",
       "      <td>0</td>\n",
       "      <td>0</td>\n",
       "      <td>25</td>\n",
       "      <td>0</td>\n",
       "      <td>0</td>\n",
       "      <td>2</td>\n",
       "      <td>4029</td>\n",
       "      <td>0</td>\n",
       "      <td>0</td>\n",
       "      <td>1</td>\n",
       "      <td>167</td>\n",
       "      <td>1</td>\n",
       "      <td>0</td>\n",
       "    </tr>\n",
       "    <tr>\n",
       "      <th>1005</th>\n",
       "      <td>136</td>\n",
       "      <td>5</td>\n",
       "      <td>3</td>\n",
       "      <td>0</td>\n",
       "      <td>0</td>\n",
       "      <td>0</td>\n",
       "      <td>28</td>\n",
       "      <td>0</td>\n",
       "      <td>0</td>\n",
       "      <td>3</td>\n",
       "      <td>5401</td>\n",
       "      <td>0</td>\n",
       "      <td>1</td>\n",
       "      <td>0</td>\n",
       "      <td>96</td>\n",
       "      <td>1</td>\n",
       "      <td>0</td>\n",
       "    </tr>\n",
       "    <tr>\n",
       "      <th>...</th>\n",
       "      <td>...</td>\n",
       "      <td>...</td>\n",
       "      <td>...</td>\n",
       "      <td>...</td>\n",
       "      <td>...</td>\n",
       "      <td>...</td>\n",
       "      <td>...</td>\n",
       "      <td>...</td>\n",
       "      <td>...</td>\n",
       "      <td>...</td>\n",
       "      <td>...</td>\n",
       "      <td>...</td>\n",
       "      <td>...</td>\n",
       "      <td>...</td>\n",
       "      <td>...</td>\n",
       "      <td>...</td>\n",
       "      <td>...</td>\n",
       "    </tr>\n",
       "    <tr>\n",
       "      <th>5001</th>\n",
       "      <td>60</td>\n",
       "      <td>6</td>\n",
       "      <td>3</td>\n",
       "      <td>0</td>\n",
       "      <td>1</td>\n",
       "      <td>0</td>\n",
       "      <td>174</td>\n",
       "      <td>0</td>\n",
       "      <td>0</td>\n",
       "      <td>2</td>\n",
       "      <td>4114</td>\n",
       "      <td>0</td>\n",
       "      <td>2</td>\n",
       "      <td>1</td>\n",
       "      <td>416</td>\n",
       "      <td>1</td>\n",
       "      <td>0</td>\n",
       "    </tr>\n",
       "    <tr>\n",
       "      <th>5002</th>\n",
       "      <td>136</td>\n",
       "      <td>4</td>\n",
       "      <td>1</td>\n",
       "      <td>0</td>\n",
       "      <td>0</td>\n",
       "      <td>1</td>\n",
       "      <td>197</td>\n",
       "      <td>0</td>\n",
       "      <td>0</td>\n",
       "      <td>2</td>\n",
       "      <td>2187</td>\n",
       "      <td>0</td>\n",
       "      <td>0</td>\n",
       "      <td>0</td>\n",
       "      <td>228</td>\n",
       "      <td>1</td>\n",
       "      <td>0</td>\n",
       "    </tr>\n",
       "    <tr>\n",
       "      <th>5003</th>\n",
       "      <td>136</td>\n",
       "      <td>4</td>\n",
       "      <td>1</td>\n",
       "      <td>0</td>\n",
       "      <td>0</td>\n",
       "      <td>1</td>\n",
       "      <td>197</td>\n",
       "      <td>0</td>\n",
       "      <td>0</td>\n",
       "      <td>2</td>\n",
       "      <td>2187</td>\n",
       "      <td>0</td>\n",
       "      <td>0</td>\n",
       "      <td>0</td>\n",
       "      <td>228</td>\n",
       "      <td>1</td>\n",
       "      <td>0</td>\n",
       "    </tr>\n",
       "    <tr>\n",
       "      <th>5004</th>\n",
       "      <td>136</td>\n",
       "      <td>4</td>\n",
       "      <td>3</td>\n",
       "      <td>0</td>\n",
       "      <td>0</td>\n",
       "      <td>1</td>\n",
       "      <td>179</td>\n",
       "      <td>0</td>\n",
       "      <td>0</td>\n",
       "      <td>2</td>\n",
       "      <td>2794</td>\n",
       "      <td>0</td>\n",
       "      <td>0</td>\n",
       "      <td>0</td>\n",
       "      <td>309</td>\n",
       "      <td>1</td>\n",
       "      <td>0</td>\n",
       "    </tr>\n",
       "    <tr>\n",
       "      <th>5005</th>\n",
       "      <td>136</td>\n",
       "      <td>4</td>\n",
       "      <td>3</td>\n",
       "      <td>0</td>\n",
       "      <td>0</td>\n",
       "      <td>1</td>\n",
       "      <td>179</td>\n",
       "      <td>0</td>\n",
       "      <td>0</td>\n",
       "      <td>2</td>\n",
       "      <td>2794</td>\n",
       "      <td>0</td>\n",
       "      <td>0</td>\n",
       "      <td>0</td>\n",
       "      <td>309</td>\n",
       "      <td>1</td>\n",
       "      <td>0</td>\n",
       "    </tr>\n",
       "  </tbody>\n",
       "</table>\n",
       "<p>3999 rows × 17 columns</p>\n",
       "</div>"
      ],
      "text/plain": [
       "      country  market_segment  distribution_channel  is_repeated_guest  \\\n",
       "1001      136               6                     3                  0   \n",
       "1002       60               5                     3                  0   \n",
       "1003      136               6                     3                  0   \n",
       "1004       60               5                     3                  0   \n",
       "1005      136               5                     3                  0   \n",
       "...       ...             ...                   ...                ...   \n",
       "5001       60               6                     3                  0   \n",
       "5002      136               4                     1                  0   \n",
       "5003      136               4                     1                  0   \n",
       "5004      136               4                     3                  0   \n",
       "5005      136               4                     3                  0   \n",
       "\n",
       "      booking_changes  deposit_type  agent  company  days_in_waiting_list  \\\n",
       "1001                0             0    174        0                     0   \n",
       "1002                0             0    177        0                     0   \n",
       "1003                0             0    174        0                     0   \n",
       "1004                0             0     25        0                     0   \n",
       "1005                0             0     28        0                     0   \n",
       "...               ...           ...    ...      ...                   ...   \n",
       "5001                1             0    174        0                     0   \n",
       "5002                0             1    197        0                     0   \n",
       "5003                0             1    197        0                     0   \n",
       "5004                0             1    179        0                     0   \n",
       "5005                0             1    179        0                     0   \n",
       "\n",
       "      customer_type   adr  required_car_parking_spaces  \\\n",
       "1001              2  7841                            0   \n",
       "1002              2  5258                            0   \n",
       "1003              2  6255                            0   \n",
       "1004              2  4029                            0   \n",
       "1005              3  5401                            0   \n",
       "...             ...   ...                          ...   \n",
       "5001              2  4114                            0   \n",
       "5002              2  2187                            0   \n",
       "5003              2  2187                            0   \n",
       "5004              2  2794                            0   \n",
       "5005              2  2794                            0   \n",
       "\n",
       "      total_of_special_requests  reservation_status  reservation_status_date  \\\n",
       "1001                          0                   0                       96   \n",
       "1002                          0                   1                      167   \n",
       "1003                          0                   0                      100   \n",
       "1004                          0                   1                      167   \n",
       "1005                          1                   0                       96   \n",
       "...                         ...                 ...                      ...   \n",
       "5001                          2                   1                      416   \n",
       "5002                          0                   0                      228   \n",
       "5003                          0                   0                      228   \n",
       "5004                          0                   0                      309   \n",
       "5005                          0                   0                      309   \n",
       "\n",
       "      Room  net_cancelled  \n",
       "1001     1              0  \n",
       "1002     1              0  \n",
       "1003     1              0  \n",
       "1004     1              0  \n",
       "1005     1              0  \n",
       "...    ...            ...  \n",
       "5001     1              0  \n",
       "5002     1              0  \n",
       "5003     1              0  \n",
       "5004     1              0  \n",
       "5005     1              0  \n",
       "\n",
       "[3999 rows x 17 columns]"
      ]
     },
     "execution_count": 90,
     "metadata": {},
     "output_type": "execute_result"
    }
   ],
   "source": [
    "n"
   ]
  },
  {
   "cell_type": "code",
   "execution_count": 91,
   "id": "ff4d1c89",
   "metadata": {},
   "outputs": [],
   "source": [
    "#Spliting the data into X and Y \n",
    "X = df2.drop('is_canceled', axis = 1)\n",
    "Y = df2[\"is_canceled\"]"
   ]
  },
  {
   "cell_type": "code",
   "execution_count": 92,
   "id": "89cf6ddc",
   "metadata": {
    "scrolled": false
   },
   "outputs": [
    {
     "data": {
      "text/plain": [
       "Index(['hotel', 'lead_time', 'stays_in_weekend_nights', 'stays_in_week_nights',\n",
       "       'adults', 'children', 'babies', 'meal', 'country', 'market_segment',\n",
       "       'distribution_channel', 'is_repeated_guest', 'booking_changes',\n",
       "       'deposit_type', 'agent', 'company', 'days_in_waiting_list',\n",
       "       'customer_type', 'adr', 'required_car_parking_spaces',\n",
       "       'total_of_special_requests', 'reservation_status',\n",
       "       'reservation_status_date', 'Room', 'net_cancelled'],\n",
       "      dtype='object')"
      ]
     },
     "execution_count": 92,
     "metadata": {},
     "output_type": "execute_result"
    }
   ],
   "source": [
    "X.columns"
   ]
  },
  {
   "cell_type": "code",
   "execution_count": 93,
   "id": "9c6cee02",
   "metadata": {},
   "outputs": [
    {
     "data": {
      "text/plain": [
       "(119210, 25)"
      ]
     },
     "execution_count": 93,
     "metadata": {},
     "output_type": "execute_result"
    }
   ],
   "source": [
    "X.shape"
   ]
  },
  {
   "cell_type": "code",
   "execution_count": 94,
   "id": "c3cae831",
   "metadata": {
    "scrolled": false
   },
   "outputs": [
    {
     "data": {
      "text/plain": [
       "(119210,)"
      ]
     },
     "execution_count": 94,
     "metadata": {},
     "output_type": "execute_result"
    }
   ],
   "source": [
    "Y.shape"
   ]
  },
  {
   "cell_type": "code",
   "execution_count": 95,
   "id": "6bd0f047",
   "metadata": {},
   "outputs": [
    {
     "name": "stdout",
     "output_type": "stream",
     "text": [
      " hotel : [1, 0]\n",
      " lead_time : [342, 375, 7, 13, 14, 0, 9, 85, 75, 23, 35, 68, 18, 37, 12, 72, 127, 78, 48, 60, 77, 99, 118, 95, 96, 69, 45, 40, 15, 36, 43, 70, 16, 107, 47, 113, 90, 50, 93, 76, 3, 1, 10, 5, 17, 51, 71, 63, 62, 101, 2, 81, 368, 364, 324, 79, 21, 109, 102, 4, 98, 92, 26, 73, 115, 86, 52, 29, 30, 33, 32, 8, 100, 44, 80, 97, 64, 39, 34, 27, 82, 94, 110, 111, 84, 66, 104, 28, 258, 112, 65, 67, 55, 88, 54, 292, 83, 105, 280, 24, 103, 366, 249, 22, 91, 11, 108, 106, 31, 87, 41, 304, 117, 59, 53, 58, 116, 42, 321, 38, 56, 49, 317, 6, 57, 19, 25, 315, 123, 46, 89, 61, 312, 299, 130, 74, 298, 119, 20, 286, 136, 129, 124, 327, 131, 140, 114, 139, 122, 137, 126, 120, 128, 135, 150, 143, 151, 132, 125, 157, 147, 138, 156, 164, 346, 159, 160, 161, 333, 149, 154, 297, 163, 314, 155, 323, 340, 356, 142, 328, 144, 336, 248, 302, 175, 344, 146, 170, 166, 338, 167, 310, 148, 165, 172, 171, 145, 121, 178, 305, 173, 152, 354, 347, 158, 185, 349, 183, 352, 177, 200, 192, 361, 207, 174, 330, 134, 350, 334, 283, 153, 197, 133, 241, 193, 235, 194, 261, 260, 216, 169, 209, 238, 215, 141, 189, 187, 223, 284, 214, 202, 211, 168, 230, 203, 188, 232, 219, 162, 196, 190, 259, 228, 176, 250, 201, 186, 199, 180, 206, 205, 224, 222, 182, 210, 275, 212, 229, 218, 208, 191, 181, 179, 246, 255, 226, 288, 253, 252, 262, 236, 256, 234, 254, 213, 237, 198, 195, 239, 263, 265, 274, 217, 220, 307, 221, 233, 257, 227, 276, 225, 264, 311, 277, 204, 290, 266, 270, 294, 319, 282, 251, 322, 291, 269, 240, 271, 184, 231, 268, 247, 273, 300, 301, 267, 244, 306, 293, 309, 272, 242, 295, 285, 243, 308, 303, 245, 279, 331, 281, 339, 357, 325, 329, 278, 332, 343, 345, 360, 348, 367, 353, 372, 373, 326, 316, 341, 320, 355, 363, 358, 296, 335, 369, 374, 289, 359, 337, 362, 365, 313, 351, 287, 318, 371, 370]\n",
      " stays_in_weekend_nights : [0, 1, 2, 4, 3, 5]\n",
      " stays_in_week_nights : [0, 1, 2, 3, 4, 5, 6]\n",
      " adults : [0]\n",
      " children : [0]\n",
      " babies : [0]\n",
      " meal : [0, 1, 2, 3, 4]\n",
      " country : [136, 60, 170, 52, 77, 57, 0, 140, 125, 128, 7, 134, 44, 16, 30, 35, 67, 82, 124, 47, 141, 155, 12, 53, 43, 26, 55, 114, 28, 101, 154, 4, 76, 32, 108, 104, 167, 149, 102, 135, 150, 31, 13, 24, 100, 163, 175, 2, 81, 41, 176, 38, 177, 49, 92, 39, 73, 6, 162, 83, 72, 70, 78, 61, 5, 64, 169, 84, 29, 42, 36, 62, 93, 122, 107, 172, 153, 56, 87, 129, 74, 95, 132, 145, 156, 14, 21, 127, 159, 48, 109, 118, 8, 86, 99, 40, 34, 23, 116, 37, 152, 166, 20, 33, 85, 157, 146, 15, 143, 174, 133, 139, 51, 131, 111, 117, 50, 106, 80, 171, 126, 22, 103, 158, 164, 45, 151, 91, 54, 79, 71, 142, 89, 105, 19, 75, 160, 123, 17, 173, 165, 59, 63, 161, 65, 88, 98, 66, 113, 168, 119, 58, 112, 130, 18, 96, 110, 120, 25, 137, 27, 1, 3, 148, 46, 138, 69, 97, 10, 68, 9, 115, 121, 90, 144, 11, 147, 94]\n",
      " market_segment : [3, 2, 6, 5, 1, 4, 7, 0]\n",
      " distribution_channel : [1, 0, 3, 4, 2]\n",
      " is_repeated_guest : [0, 1]\n",
      " booking_changes : [3, 4, 0, 1, 2, 5, 17, 6, 8, 7, 10, 16, 9, 13, 12, 14, 15, 18, 11]\n",
      " deposit_type : [0, 2, 1]\n",
      " agent : [0, 221, 174, 220, 15, 175, 8, 183, 97, 5, 140, 109, 127, 177, 176, 3, 90, 39, 118, 223, 147, 85, 2, 104, 84, 117, 9, 141, 6, 115, 178, 120, 134, 217, 137, 222, 59, 154, 123, 114, 191, 89, 35, 25, 28, 190, 93, 63, 144, 77, 184, 198, 61, 181, 158, 188, 228, 103, 202, 197, 186, 148, 237, 241, 236, 234, 230, 232, 227, 37, 126, 60, 242, 225, 239, 83, 249, 226, 245, 263, 58, 235, 267, 215, 80, 179, 266, 189, 271, 135, 276, 182, 229, 67, 105, 224, 11, 295, 1, 156, 146, 167, 260, 243, 211, 309, 280, 319, 10, 125, 311, 279, 269, 297, 324, 322, 323, 294, 51, 332, 284, 320, 330, 313, 289, 16, 300, 33, 69, 112, 185, 196, 44, 96, 218, 152, 145, 110, 250, 153, 251, 253, 130, 257, 265, 256, 238, 259, 57, 277, 132, 281, 240, 288, 291, 290, 287, 296, 293, 283, 298, 203, 292, 64, 302, 143, 305, 306, 53, 303, 187, 254, 312, 133, 310, 329, 244, 316, 326, 331, 317, 327, 333, 219, 325, 149, 13, 7, 26, 14, 21, 17, 27, 41, 19, 18, 43, 36, 55, 38, 20, 23, 40, 45, 29, 48, 46, 12, 42, 30, 73, 31, 56, 54, 49, 50, 78, 76, 99, 75, 74, 159, 162, 106, 142, 111, 139, 136, 124, 82, 122, 100, 34, 138, 52, 47, 108, 70, 172, 151, 150, 173, 131, 163, 128, 207, 107, 171, 86, 68, 88, 92, 192, 166, 101, 157, 264, 22, 214, 210, 169, 32, 206, 199, 286, 321, 231, 274, 165, 272, 328, 94, 285, 4, 62, 72, 71, 66, 81, 87, 79, 95, 98, 91, 119, 129, 116, 160, 161, 164, 170, 121, 194, 168, 180, 200, 201, 205, 209, 195, 213, 193, 208, 102, 212, 233, 246, 247, 248, 255, 204, 258, 261, 262, 24, 113, 270, 273, 282, 275, 216, 155, 65, 252, 299, 278, 308, 268, 304, 307, 314, 315, 318, 301]\n",
      " company : [0, 70, 72, 161, 104, 143, 94, 88, 185, 159, 33, 118, 189, 193, 57, 165, 103, 113, 132, 192, 170, 75, 31, 173, 6, 26, 198, 209, 235, 233, 52, 48, 127, 53, 14, 253, 248, 260, 202, 229, 10, 49, 269, 29, 251, 62, 16, 50, 223, 250, 300, 241, 304, 309, 71, 316, 274, 3, 186, 82, 133, 328, 160, 220, 325, 246, 333, 117, 157, 308, 339, 102, 335, 290, 206, 149, 280, 178, 245, 80, 148, 219, 151, 348, 344, 342, 35, 76, 22, 47, 74, 343, 63, 20, 8, 55, 34, 327, 99, 177, 176, 23, 199, 111, 68, 115, 305, 174, 180, 319, 312, 119, 171, 285, 134, 200, 163, 12, 44, 207, 41, 147, 194, 89, 96, 240, 197, 331, 261, 168, 46, 259, 255, 7, 83, 210, 211, 212, 214, 175, 216, 218, 32, 59, 222, 224, 225, 228, 234, 227, 167, 69, 237, 239, 11, 238, 201, 226, 257, 138, 152, 243, 100, 122, 334, 247, 256, 236, 258, 252, 182, 254, 1, 232, 231, 263, 101, 64, 262, 267, 90, 4, 204, 272, 268, 277, 278, 276, 275, 283, 286, 287, 293, 288, 297, 289, 30, 302, 301, 299, 303, 292, 307, 306, 314, 108, 315, 15, 317, 320, 322, 112, 336, 323, 326, 13, 45, 338, 330, 329, 332, 78, 36, 144, 337, 340, 346, 345, 284, 341, 347, 21, 298, 264, 24, 19, 28, 27, 38, 39, 37, 54, 18, 2, 105, 120, 128, 130, 135, 93, 110, 150, 116, 125, 166, 139, 169, 187, 196, 56, 191, 51, 67, 215, 205, 213, 92, 42, 244, 271, 114, 294, 296, 73, 25, 43, 58, 60, 65, 61, 77, 5, 84, 86, 79, 87, 85, 91, 98, 97, 106, 142, 107, 131, 109, 126, 124, 123, 141, 137, 140, 17, 146, 95, 154, 155, 156, 265, 153, 162, 9, 66, 121, 164, 40, 172, 181, 184, 179, 158, 188, 183, 190, 195, 203, 208, 217, 145, 242, 230, 249, 81, 129, 266, 273, 279, 270, 281, 282, 291, 221, 310, 313, 318, 136, 311, 324, 295, 321]\n",
      " days_in_waiting_list : [0, 49, 46, 63, 100, 71, 89, 104, 101, 14, 58, 33, 88, 22, 99, 59, 38, 5, 1, 8, 91, 42, 50, 2, 11, 102, 96, 13, 43, 85, 77, 4, 95, 18, 20, 115, 83, 93, 6, 36, 90, 105, 62, 87, 37, 47, 32, 73, 21, 75, 57, 39, 56, 81, 51, 48, 65, 80, 82, 55, 94, 74, 86, 79, 61, 15, 3, 40, 121, 30, 54, 116, 112, 67, 53, 84, 122, 123, 118, 119, 106, 98, 29, 31, 27, 60, 24, 92, 103, 125, 66, 34, 113, 124, 120, 110, 107, 126, 64, 117, 10, 72, 16, 28, 9, 108, 17, 25, 45, 7, 78, 111, 114, 23, 97, 12, 52, 26, 69, 44, 19, 41, 68, 76, 70, 109, 35]\n",
      " customer_type : [2, 0, 3, 1]\n",
      " adr : [1, 2124, 3523, 4062, 3820, 2556, 3971, 4916, 5898, 3467, 6282, 3333, 3495, 2927, 4082, 6213, 3482, 2720, 3620, 3347, 1439, 2405, 3295, 2874, 1354, 1453, 4134, 1546, 4165, 5575, 4651, 4274, 1209, 2612, 2578, 4729, 1656, 1059, 5975, 4658, 5490, 5401, 5554, 4264, 4252, 2050, 3140, 4470, 3099, 4866, 2786, 1040, 4969, 4296, 5479, 3201, 4162, 5307, 4606, 7517, 3600, 3101, 3214, 1899, 3443, 2783, 3434, 6564, 6861, 5657, 1634, 4576, 6060, 3948, 4386, 2742, 2978, 2443, 3699, 6694, 7841, 2769, 6608, 4444, 3550, 6943, 4986, 2068, 5449, 6841, 7828, 4650, 4637, 7219, 1865, 661, 6140, 4801, 6367, 3130, 1994, 3272, 2647, 7235, 4221, 7480, 7426, 6096, 5089, 5937, 1312, 3930, 1597, 2313, 4333, 3017, 6290, 5264, 3645, 3951, 1540, 2152, 4724, 4669, 4764, 7526, 6633, 6074, 4053, 6500, 5464, 5875, 6178, 5035, 5442, 6458, 4341, 4269, 3997, 3367, 4166, 6254, 3085, 5091, 5874, 3612, 5673, 3040, 5895, 3638, 3927, 6665, 4299, 7029, 4440, 5219, 6766, 3236, 5370, 4618, 6618, 3986, 5056, 6035, 5017, 5258, 5410, 2360, 3088, 4775, 5155, 5261, 3877, 7502, 6968, 4749, 3688, 1460, 4233, 5390, 5868, 4071, 6595, 3555, 5285, 7208, 7120, 3650, 5456, 2626, 5447, 23, 5547, 3755, 5103, 6516, 1558, 7087, 6750, 4099, 3460, 2021, 4228, 7290, 5377, 4058, 5353, 7364, 3569, 6030, 4927, 7549, 3854, 5519, 7191, 6152, 4833, 6105, 2151, 6463, 5117, 6600, 5877, 6304, 4094, 5439, 2727, 5008, 5371, 3173, 7479, 4688, 7404, 5169, 5072, 6255, 5536, 4567, 5999, 6741, 5604, 5384, 6364, 5380, 3524, 6887, 7261, 3351, 6999, 6246, 4499, 5105, 5168, 4988, 6271, 4265, 6415, 5327, 4643, 4654, 4598, 5213, 5496, 7061, 4314, 3886, 5411, 5749, 4821, 6713, 6191, 6038, 6886, 7412, 4298, 5760, 7597, 7753, 6576, 6171, 3384, 4336, 3831, 4752, 6719, 7041, 7455, 3732, 4356, 6085, 6508, 6441, 6574, 4865, 4661, 6427, 5776, 6973, 5342, 3050, 4456, 2948, 3352, 7806, 6913, 4975, 6532, 5412, 6702, 7174, 6453, 3804, 4491, 5651, 4520, 4149, 6649, 7303, 7246, 5761, 3596, 4118, 6047, 5962, 5606, 5051, 5093, 6284, 4330, 1136, 6394, 6809, 4664, 7634, 7309, 7003, 5145, 7459, 5878, 7433, 6933, 5515, 5864, 6549, 7818, 7491, 6583, 7094, 6936, 6435, 3917, 5890, 7708, 6536, 2280, 7300, 6858, 6031, 7161, 6756, 6067, 7126, 7136, 7381, 5428, 6268, 4836, 7778, 7112, 6386, 7610, 5614, 6658, 5122, 7831, 5912, 3715, 7068, 4029, 5998, 5208, 5980, 6621, 7353, 7236, 6543, 6353, 7609, 5788, 5224, 6366, 5413, 6900, 7202, 6403, 4451, 6760, 7039, 2915, 7282, 7034, 7655, 7053, 6707, 7498, 7150, 6413, 5319, 7810, 6344, 5927, 7565, 3743, 7321, 7137, 6118, 6969, 6638, 7814, 5313, 7275, 2914, 6876, 7058, 4841, 6988, 7081, 7253, 6572, 6993, 6578, 6991, 4918, 6934, 4697, 5231, 7080, 6476, 5947, 6509, 7489, 6542, 7014, 6174, 6176, 7399, 7617, 6614, 7573, 6321, 5345, 7726, 7626, 5650, 4411, 7584, 6135, 5218, 5440, 7540, 7613, 5269, 7346, 7250, 6412, 7744, 5602, 5212, 7407, 7651, 4300, 6389, 4349, 6877, 4778, 4680, 2158, 3065, 6327, 4786, 7104, 5139, 4450, 4428, 6677, 3708, 5289, 4224, 5762, 3561, 6669, 6129, 3508, 7350, 4922, 3936, 5799, 2276, 5714, 6895, 4909, 5302, 5221, 4510, 1911, 4051, 1908, 4348, 4409, 6511, 6728, 3823, 3225, 2469, 4782, 5276, 3436, 4653, 4894, 3730, 4794, 5071, 2904, 4416, 5477, 5601, 4292, 4711, 4176, 3242, 3700, 4807, 2600, 4275, 4453, 2856, 6262, 1107, 5328, 3066, 2435, 4204, 3136, 1377, 4971, 5824, 4596, 6149, 6733, 6173, 5847, 6829, 6328, 5675, 6259, 4087, 5004, 4310, 2659, 3156, 7784, 3880, 1579, 3629, 4332, 5665, 2630, 2285, 1477, 4622, 2183, 2709, 3738, 3497, 2216, 1711, 2838, 4984, 2294, 1211, 4518, 4114, 2862, 1863, 2582, 1133, 4789, 4018, 1835, 2736, 728, 2029, 3735, 4675, 778, 4353, 5636, 1129, 2254, 3522, 852, 5755, 254, 1221, 1609, 1161, 3407, 1708, 5315, 1947, 910, 5142, 4278, 3105, 4903, 5641, 1817, 3249, 1185, 5359, 4768, 2258, 6493, 2225, 3667, 3855, 1705, 1048, 3582, 4873, 3051, 1740, 2096, 1906, 2063, 2372, 1512, 1003, 2794, 2620, 2297, 6108, 2764, 1874, 2525, 4015, 2723, 1225, 4217, 3067, 2475, 610, 2532, 2506, 2877, 2130, 1792, 3817, 1519, 3432, 5001, 5629, 5045, 4547, 3375, 3695, 2121, 1210, 1207, 3835, 486, 1038, 78, 3042, 1930, 1212, 2984, 943, 4469, 2062, 1554, 2150, 2296, 5724, 4155, 2163, 4167, 1106, 2112, 2912, 2155, 3477, 2203, 2108, 1026, 714, 2666, 541, 4146, 5560, 3444, 2979, 1939, 3072, 942, 2441, 2015, 2606, 5177, 1008, 3289, 1754, 2939, 3322, 2347, 2741, 3261, 259, 1589, 3090, 328, 4022, 2077, 3248, 2658, 474, 1713, 2799, 1413, 2099, 1287, 1773, 1027, 565, 4121, 1685, 2318, 1836, 1618, 359, 725, 977, 1085, 1213, 6023, 2523, 2541, 726, 4002, 3049, 1031, 1049, 1651, 36, 1479, 2427, 3657, 1927, 896, 1189, 691, 1374, 553, 2858, 704, 1058, 1574, 2087, 2078, 2249, 1799, 1126, 279, 1408, 650, 789, 2185, 2315, 1238, 1306, 1635, 1456, 256, 479, 1625, 1158, 322, 391, 1231, 2073, 421, 575, 662, 2624, 2882, 1693, 5567, 834, 3210, 1442, 1707, 1282, 2323, 429, 390, 4083, 1140, 1432, 1279, 1333, 2920, 1104, 982, 991, 2653, 1543, 1907, 287, 872, 508, 1393, 3450, 515, 1590, 734, 448, 722, 1739, 388, 2039, 771, 2038, 582, 435, 923, 715, 2271, 4944, 1376, 464, 3926, 4403, 1980, 961, 1425, 2640, 2358, 1044, 1896, 1827, 2040, 2206, 743, 3792, 1327, 12, 2384, 630, 309, 1075, 1082, 1170, 1794, 3216, 906, 1325, 2080, 2018, 1488, 504, 188, 1805, 1149, 1717, 994, 596, 774, 2828, 1680, 1012, 2516, 404, 350, 396, 2234, 1180, 2413, 308, 284, 1654, 1630, 2955, 1264, 216, 463, 595, 1598, 4346, 1338, 2495, 1823, 347, 4735, 884, 765, 3417, 960, 466, 867, 213, 1451, 716, 512, 1963, 2270, 1448, 1789, 1526, 226, 425, 1060, 438, 667, 655, 600, 301, 762, 733, 343, 357, 612, 1744, 209, 855, 636, 296, 675, 223, 642, 71, 547, 1004, 1064, 1350, 66, 794, 110, 1770, 436, 79, 224, 56, 729, 65, 488, 1002, 2264, 1378, 880, 126, 175, 1360, 334, 172, 280, 998, 1883, 1949, 1458, 2261, 1322, 677, 2005, 100, 1402, 1611, 755, 2253, 1529, 818, 1167, 418, 1684, 1396, 1009, 1528, 598, 114, 664, 212, 102, 43, 82, 141, 1592, 271, 1174, 162, 544, 962, 5982, 332, 748, 627, 4125, 165, 1696, 1056, 2888, 751, 2678, 3179, 249, 353, 2821, 708, 1055, 3158, 1446, 386, 564, 813, 70, 1196, 1090, 104, 143, 51, 87, 341, 617, 297, 588, 866, 787, 192, 399, 265, 574, 671, 1186, 623, 160, 145, 805, 988, 1467, 72, 1550, 218, 2161, 2512, 490, 524, 2747, 2135, 329, 155, 2020, 310, 2566, 89, 2000, 207, 3316, 3046, 124, 1121, 420, 1715, 3253, 246, 1329, 2990, 709, 3207, 1444, 433, 2430, 653, 1525, 1923, 186, 360, 1880, 367, 5032, 4059, 767, 860, 3613, 635, 1968, 3008, 2551, 1620, 2042, 1398, 7693, 3797, 2711, 4104, 7408, 5215, 3309, 5954, 2813, 3406, 1575, 5540, 6021, 3844, 6289, 3200, 3355, 6499, 5931, 6781, 7591, 1224, 1262, 4553, 2026, 1152, 3052, 647, 169, 898, 183, 77, 54, 319, 1623, 283, 231, 150, 69, 1062, 796, 987, 346, 264, 1783, 1083, 1964, 2014, 518, 1676, 928, 1632, 643, 401, 769, 60, 1243, 61, 2673, 878, 330, 1734, 286, 1571, 63, 2463, 152, 2392, 2831, 1014, 414, 204, 99, 1533, 485, 1299, 1294, 409, 3780, 49, 1555, 76, 307, 516, 314, 163, 1397, 2601, 1816, 1644, 513, 1859, 393, 2262, 1037, 3456, 361, 495, 1342, 4247, 2643, 893, 999, 2777, 494, 2780, 4407, 50, 3807, 1851, 4163, 744, 3622, 590, 837, 2230, 529, 1810, 689, 3393, 2011, 801, 5738, 803, 597, 1763, 2445, 229, 2967, 1304, 3958, 956, 849, 857, 3302, 1273, 1716, 2172, 473, 4369, 2110, 1612, 1918, 1434, 2814, 687, 2091, 1722, 1960, 32, 1626, 2187, 1357, 919, 1100, 809, 1706, 2345, 1765, 557, 4820, 905, 649, 2756, 45, 746, 3747, 412, 886, 2032, 4418, 2616, 5043, 2383, 363, 1664, 57, 2935, 1373, 2083, 4157, 2595, 2586, 694, 3270, 1504, 1428, 2735, 641, 2111, 1050, 1063, 4523, 1552, 1909, 732, 3656, 1539, 799, 449, 723, 1053, 954, 2617, 385, 1464, 2003, 1426, 511, 534, 374, 619, 1261, 4393, 1080, 562, 5694, 695, 452, 16, 4251, 380, 5031, 40, 772, 1113, 2558, 2995, 2143, 2231, 811, 221, 2390, 721, 1658, 1660, 1821, 1870, 1616, 2379, 2487, 4219, 5281, 4199, 1929, 17, 535, 2884, 3670, 1148, 1363, 1230, 1120, 2631, 1232, 1228, 1610, 2239, 5170, 2607, 2428, 1527, 3993, 887, 3016, 2387, 1593, 2043, 1688, 4572, 3413, 1092, 3992, 3354, 720, 5334, 1668, 2886, 4954, 1123, 1986, 4554, 6554, 1507, 2943, 6017, 1162, 5609, 3483, 2305, 4698, 3215, 2304, 935, 1993, 3684, 1503, 5646, 2144, 6051, 856, 3788, 3397, 3635, 5252, 2340, 4531, 3340, 4704, 4226, 3777, 2887, 4884, 5039, 4780, 3975, 1280, 952, 5344, 7330, 4170, 4485, 4067, 3821, 1565, 911, 1653, 2981, 5635, 2971, 1115, 1233, 3782, 1786, 3441, 3559, 3618, 7175, 2289, 3833, 5199, 1560, 7334, 4535, 3872, 6121, 6354, 1399, 4127, 3197, 1130, 6912, 951, 2754, 7393, 3655, 5739, 4671, 7514, 5088, 4933, 5907, 2098, 5851, 5932, 6307, 6299, 5293, 3083, 2028, 1352, 3294, 4773, 1119, 2255, 7229, 1278, 6167, 1255, 2060, 2447, 3973, 7734, 5296, 7794, 5775, 1505, 5498, 3967, 3837, 4479, 272, 3873, 8, 4845, 2376, 4301, 7051, 6570, 2162, 5174, 3956, 4400, 1039, 3159, 6799, 5348, 6540, 7045, 5939, 4811, 5985, 6489, 6452, 2688, 3283, 3190, 4096, 2739, 5569, 6660, 6155, 4363, 4545, 6481, 2731, 3208, 5132, 7683, 6789, 6502, 6978, 4937, 7203, 7013, 5140, 4948, 7527, 7451, 5926, 34, 5758, 5820, 6513, 6132, 6075, 4544, 7694, 7360, 2554, 6208, 4557, 6880, 6884, 6264, 4690, 6780, 4580, 5831, 5592, 7093, 7138, 6497, 7497, 6349, 6782, 7441, 6699, 6521, 7486, 6903, 6559, 6939, 7821, 6383, 6957, 7623, 7555, 4389, 5365, 7808, 7345, 7310, 6907, 7834, 7579, 6984, 7605, 6562, 7016, 6710, 7541, 7695, 6881, 6225, 6642, 5968, 5286, 5730, 5837, 6985, 6479, 5742, 5026, 7273, 7298, 7144, 7322, 7327, 7640, 6653, 7638, 7749, 5495, 7520, 7722, 7286, 6776, 5383, 7644, 3869, 7485, 7539, 7494, 7632, 6275, 7499, 5702, 6371, 5882, 6517, 4254, 7307, 7622, 6753, 7024, 5828, 7599, 7792, 7839, 4769, 7323, 7681, 4615, 7468, 7339, 4886, 3143, 7739, 7215, 7105, 7608, 7607, 6066, 7421, 6958, 6815, 7488, 7438, 7063, 7147, 7372, 7747, 7827, 7761, 7815, 2574, 7232, 4458, 7036, 3617, 7636, 3763, 7134, 7348, 2845, 7702, 7316, 6849, 6587, 4190, 7521, 7529, 4839, 5779, 1719, 2788, 6925, 6077, 7394, 7631, 6072, 5928, 1141, 1888, 6269, 4331, 2825, 4631, 3045, 3095, 3729, 1553, 6348, 2908, 3746, 6962, 3361, 894, 3949, 4171, 2638, 6524, 6123, 5802, 3591, 6062, 2331, 3229, 2933, 4355, 2743, 5923, 2182, 2772, 5283, 2109, 6042, 4645, 5967, 3775, 4494, 6428, 4745, 5838, 2959, 6034, 3727, 1330, 2209, 7336, 3439, 1511, 4030, 3932, 4322, 5784, 1704, 3194, 1925, 1718, 1276, 4484, 1855, 4921, 1365, 5943, 5800, 4992, 7145, 4295, 2770, 6332, 6336, 6607, 3061, 3218, 6534, 3163, 4132, 2399, 4750, 2101, 55, 3298, 7343, 2802, 3182, 4257, 4777, 1866, 5102, 3228, 1493, 889, 912, 5669, 2425, 1538, 1381, 6529, 2952, 2459, 875, 5110, 1667, 6593, 4033, 5077, 1588, 498, 576, 1430, 2485, 626, 1900, 1281, 2359, 1884, 455, 4973, 5728, 1303, 1240, 5765, 3244, 745, 1367, 570, 1443, 1669, 585, 3198, 1535, 2328, 1849, 753, 2779, 2196, 3203, 1223, 607, 1247, 631, 294, 2065, 947, 1016, 1710, 645, 1541, 1134, 730, 2705, 1252, 489, 1404, 430, 1877, 2778, 1530, 1334, 3860, 3396, 727, 431, 478, 776, 566, 1465, 741, 3338, 137, 2471, 320, 167, 468, 3410, 2718, 1001, 2976, 1011, 407, 86, 128, 766, 569, 415, 282, 311, 427, 200, 648, 1096, 483, 1245, 526, 1782, 193, 763, 255, 382, 2246, 4582, 540, 133, 556, 364, 352, 783, 85, 1809, 674, 228, 2808, 339, 219, 2625, 5880, 1482, 4577, 784, 1118, 1076, 1132, 371, 5594, 75, 3931, 3073, 876, 625, 4239, 3134, 829, 4177, 882, 2496, 1099, 6022, 4570, 3505, 1291, 1239, 2804, 7558, 6889, 6645, 3652, 1878, 6636, 1683, 3311, 843, 166, 484, 201, 683, 2327, 932, 345, 74, 422, 189, 971, 1764, 628, 113, 315, 1348, 1068, 208, 1640, 2070, 202, 2716, 270, 593, 303, 1495, 1194, 657, 1894, 1190, 3719, 109, 394, 3485, 915, 1748, 1349, 1422, 1122, 1583, 101, 3428, 572, 505, 761, 318, 305, 2440, 1824, 944, 5958, 1760, 4420, 1647, 2851, 6982, 5233, 1901, 3290, 2885, 7501, 2504, 2636, 1447, 3282, 5021, 1983, 3843, 5603, 6445, 7299, 5633, 6238, 6010, 1370, 2306, 2092, 6069, 7296, 4830, 7196, 3867, 2241, 5512, 2535, 3781, 2079, 4592, 4326, 7483, 2355, 3293, 1514, 4043, 3149, 3546, 1819, 3128, 3474, 1254, 1735, 2470, 1702, 2585, 2744, 2146, 7662, 2346, 4945, 4139, 2669, 2691, 5322, 2417, 238, 6659, 864, 1742, 883, 447, 2329, 3507, 1371, 2853, 4771, 3977, 5317, 2644, 1891, 997, 5676, 4068, 1586, 6736, 5146, 3425, 2897, 4738, 4715, 2064, 2361, 1639, 4452, 3976, 2186, 3018, 7487, 7177, 5990, 4719, 29, 5406, 4701, 3252, 1914, 4890, 3773, 5843, 2531, 1645, 3429, 5945, 6323, 2260, 4696, 3032, 5249, 4308, 3119, 6409, 1358, 4136, 5465, 5504, 1868, 5716, 2416, 3265, 5532, 3528, 1690, 7445, 3813, 4414, 2332, 7194, 6844, 7021, 4607, 4112, 2446, 7173, 5408, 2839, 1935, 3925, 7672, 4632, 6244, 1902, 2286, 7044, 4967, 6138, 5144, 3784, 2604, 6239, 1709, 3529, 6535, 2542, 3981, 2706, 2733, 6822, 6144, 3990, 2722, 4459, 2980, 4685, 4387, 1881, 3693, 6551, 7292, 3493, 3955, 3892, 6301, 4342, 4313, 3774, 4037, 6469, 2199, 5272, 4534, 5320, 4693, 4277, 3257, 5642, 5743, 7038, 5970, 4122, 5572, 5279, 5627, 7691, 4891, 7158, 6995, 7658, 6106, 6553, 6326, 7743, 6418, 7032, 5619, 4374, 5597, 7239, 6693, 7107, 7799, 7700, 6580, 6834, 3630, 7596, 3968, 7414, 5903, 4934, 7443, 7077, 6043, 6655, 5810, 6351, 6794, 5033, 7313, 6447, 6906, 5393, 5116, 6201, 7534, 5240, 6977, 7055, 6611, 5974, 5632, 7186, 6786, 5579, 7272, 7411, 7768, 6759, 7507, 7566, 3938, 4392, 6585, 7716, 7201, 7466, 7358, 6773, 7319, 6181, 7127, 6855, 6272, 6263, 7673, 6922, 6157, 7624, 7135, 6701, 6194, 7178, 7162, 7159, 7268, 7317, 7627, 7168, 7170, 7172, 5666, 7817, 6247, 6421, 6013, 7067, 6648, 6867, 7185, 7291, 7781, 5682, 6685, 7361, 7745, 7251, 7729, 6339, 7416, 5020, 7444, 6322, 7037, 7698, 6843, 7752, 7179, 6817, 6874, 5227, 7318, 6374, 6683, 6103, 5915, 5486, 7379, 7654, 7078, 6052, 7431, 6639, 7231, 7439, 7659, 5896, 7689, 6470, 5678, 7763, 6363, 5438, 7047, 7757, 7119, 7533, 7031, 7311, 7500, 5485, 7506, 6315, 7795, 7076, 6615, 7102, 4623, 7760, 7699, 7010, 7798, 6931, 6285, 7801, 5894, 7240, 6257, 5099, 7675, 7720, 7422, 6921, 7377, 5736, 6647, 6914, 7701, 7575, 7740, 7384, 7288, 5030, 6929, 7724, 7113, 7305, 7625, 7165, 7462, 7083, 7712, 5192, 7550, 7098, 6838, 6188, 7519, 7614, 105, 335, 5086, 712, 5228, 1814, 3277, 181, 14, 6837, 2484, 7212, 1762, 2334, 6872, 6025, 467, 4074, 369, 7152, 5220, 7709, 7033, 1779, 1018, 96, 227, 4982, 4141, 211, 6796, 7667, 5277, 3515, 578, 940, 115, 372, 5727, 52, 118, 7237, 5121, 6828, 4422, 6938, 3814, 37, 7641, 672, 4368, 6959, 1596, 6242, 1941, 1795, 6475, 1032, 592, 248, 2547, 1692, 1260, 2422, 7329, 4684, 5100, 2987, 735, 2977, 7835, 375, 2046, 5052, 0, 1341, 4765, 6842, 5470, 4852, 2488, 5059, 6894, 5082, 132, 6606, 4753, 471, 3057, 6061, 10, 21, 536, 758, 2058, 2410, 1780, 4900, 2975, 2300, 5746, 3464, 4482, 1169, 7586, 4091, 3480, 6457, 4932, 6082, 4012, 3798, 5685, 5070, 5807, 2665, 6334, 3884, 3471, 6942, 7450, 5480, 7732, 2685, 4541, 5972, 5798, 7278, 5469, 7618, 6575, 4673, 7592, 5226, 5819, 6218, 7155, 4885, 5024, 6680, 6346, 6376, 3506, 4478, 5445, 4212, 4674, 5876, 5905, 4471, 6068, 7367, 6755, 6960, 5961, 7347, 6274, 6404, 3608, 7568, 3789, 7057, 5165, 4756, 4710, 5957, 5881, 5711, 5813, 4834, 5735, 7082, 5610, 5839, 4350, 6341, 6267, 6027, 6644, 7382, 7809, 6739, 6515, 5012, 4762, 7279, 6726, 6878, 5314, 6053, 7315, 7351, 7471, 3530, 4737, 5712, 39, 5259, 6667, 5790, 4721, 7400, 7786, 7110, 7074, 7369, 4951, 6696, 5453, 7776, 6700, 7274, 5360, 5556, 6671, 5048, 7510, 7075, 4172, 7663, 5734, 6197, 4993, 7070, 7531, 7460, 6548, 4691, 4908, 4946, 5751, 6565, 4662, 5118, 6740, 6233, 7581, 5265, 7552, 7473, 6370, 6771, 7398, 6019, 6408, 7522, 7588, 6148, 5394, 7735, 4763, 6519, 6538, 6227, 6523, 4235, 6949, 6831, 5135, 7280, 6792, 7012, 4483, 6279, 5836, 5337, 6953, 4910, 7103, 6478, 6432, 5981, 4955, 7263, 6814, 3838, 5885, 4286, 7338, 5494, 3945, 6989, 6916, 5809, 5236, 3896, 7791, 3513, 3946, 4941, 4137, 4850, 3914, 5422, 4810, 5834, 5085, 5372, 5600, 5812, 3064, 3211, 3259, 4016, 4923, 4267, 6117, 5841, 2301, 6482, 4977, 5493, 6420, 6526, 4887, 4858, 3543, 3678, 2095, 5653, 6830, 6744, 5672, 5234, 7264, 6395, 2284, 6136, 6723, 1219, 2456, 5367, 3689, 7069, 5503, 5223, 1288, 3317, 4005, 4380, 5523, 1785, 24, 1292, 3039, 3592, 6134, 996, 1580, 3011, 4270, 4107, 1416, 1257, 2717, 3246, 1973, 4362, 2377, 870, 1250, 2533, 1269, 5388, 2363, 5707, 869, 2906, 4616, 2812, 2364, 3121, 1457, 2850, 2863, 6871, 1181, 1638, 3692, 1957, 3769, 1797, 2570, 1283, 3899, 4514, 793, 3147, 2312, 1967, 2588, 2521, 3404, 532, 3721, 850, 1480, 892, 1854, 1959, 3196, 2089, 3030, 1036, 313, 4260, 1643, 48, 454, 121, 1521, 3571, 3982, 1449, 3097, 3082, 1421, 1536, 3568, 373, 1936, 4325, 151, 1879, 2023, 773, 1344, 5899, 477, 410, 1258, 4589, 1629, 668, 2113, 1882, 2451, 2176, 4827, 2263, 1729, 779, 519, 2468, 1028, 325, 258, 1202, 1356, 1840, 2655, 1746, 411, 1815, 2283, 701, 506, 618, 27, 2120, 611, 2192, 2449, 7295, 1999, 321, 2128, 1887, 244, 2237, 552, 1506, 2211, 710, 146, 2244, 549, 1079, 2191, 5263, 2895, 806, 2544, 1346, 1977, 387, 679, 491, 2750, 1663, 1007, 1163, 154, 1726, 112, 80, 441, 1559, 302, 739, 929, 802, 6147, 4038, 269, 241, 116, 179, 148, 1108, 586, 1962, 2925, 3329, 326, 2597, 432, 215, 84, 203, 620, 383, 356, 1024, 2610, 1019, 142, 122, 1388, 531, 1916, 736, 782, 1494, 2250, 4115, 847, 3469, 2816, 1289, 173, 1110, 3587, 1677, 1387, 658, 622, 62, 3124, 295, 559, 497, 1603, 501, 95, 514, 2127, 1072, 81, 3166, 941, 1116, 1305, 551, 2100, 1146, 1235, 955, 480, 306, 827, 945, 417, 1192, 2400, 324, 384, 1029, 975, 1524, 3167, 281, 978, 517, 3080, 3953, 5670, 1251, 9, 4064, 5057, 6622, 5674, 5500, 7410, 7413, 6423, 6312, 6754, 7682, 6582, 6172, 1872, 4272, 5119, 1988, 445, 3907, 4185, 2702, 4024, 1474, 1582, 2848, 2273, 2009, 406, 807, 234, 1756, 111, 156, 1065, 700, 613, 828, 331, 4461, 873, 2962, 749, 378, 349, 1301, 354, 323, 94, 260, 458, 6450, 177, 939, 120, 242, 2105, 968, 1351, 684, 1089, 2205, 1730, 851, 285, 5096, 6265, 131, 1361, 1694, 91, 423, 217, 144, 663, 637, 591, 3431, 1903, 92, 1576, 1595, 469, 316, 1938, 2893, 1745, 731, 1138, 2208, 257, 2139, 157, 3563, 520, 413, 97, 2173, 4192, 835, 2214, 1379, 214, 93, 1944, 1757, 922, 629, 842, 1314, 1021, 6573, 1981, 98, 615, 1385, 545, 276, 599, 2830, 230, 2265, 247, 1691, 990, 719, 31, 4413, 424, 2635, 289, 196, 35, 1326, 2633, 3380, 459, 1222, 707, 481, 970, 53, 416, 670, 240, 795, 233, 577, 844, 2890, 693, 1248, 1268, 3013, 275, 4935, 342, 293, 742, 624, 874, 698, 1025, 777, 2004, 1020, 4677, 3335, 5652, 2565, 4078, 1985, 3745, 3424, 4315, 2806, 2960, 2472, 785, 1274, 398, 1216, 3360, 4255, 362, 1452, 2142, 134, 6807, 812, 1372, 1033, 2759, 2654, 2178, 2248, 2580, 1307, 890, 673, 5952, 1534, 800, 780, 1695, 816, 1084, 1621, 2007, 839, 2645, 190, 563, 3382, 2168, 1798, 5448, 2375, 3751, 6343, 2837, 2602, 1972, 984, 1869, 2351, 1125, 3716, 967, 507, 2041, 521, 1336, 5951, 2526, 1912, 1501, 1386, 724, 499, 2503, 1392, 453, 1067, 273, 983, 1246, 262, 1808, 594, 3048, 1047, 1061, 4195, 926, 948, 1309, 1585, 1362, 41, 450, 2734, 2047, 853, 699, 555, 1188, 3512, 1265, 1893, 1772, 2694, 1738, 2084, 2569, 2571, 327, 1532, 225, 543, 3336, 1227, 2464, 1155, 4131, 58, 1917, 907, 245, 365, 291, 2132, 7066, 2223, 5921, 2819, 2321, 652, 3599, 185, 696, 1924, 3595, 1187, 191, 1179, 1628, 1600, 2240, 6996, 1768, 1492, 1956, 546, 2076, 1375, 351, 2175, 434, 1391, 3154, 2138, 2157, 2576, 2515, 4979, 1052, 775, 1284, 344, 1517, 2325, 949, 2367, 1502, 3129, 510, 717, 959, 2629, 15, 584, 2179, 3387, 1105, 5023, 1537, 3411, 1604, 583, 1860, 451, 2498, 2432, 2086, 2366, 900, 2745, 4045, 5409, 527, 888, 2675, 1200, 963, 656, 5511, 5462, 3112, 6114, 3662, 4021, 487, 1395, 659, 1339, 2002, 3301, 1415, 1017, 2537, 3677, 2310, 1095, 1508, 2676, 2303, 4028, 2690, 2195, 3711, 5274, 6742, 1440, 5940, 7728, 5517, 788, 3661, 1071, 6020, 5225, 2010, 4202, 5385, 2548, 1755, 1871, 2898, 2033, 4837, 6544, 2290, 5623, 3343, 1500, 2958, 4054, 3086, 7647, 1942, 5659, 4259, 5244, 1101, 7140, 2429, 6664, 7312, 4100, 6214, 2119, 4391, 1204, 1143, 3567, 5492, 3664, 3570, 5987, 3895, 6751, 2704, 3273, 3890, 4160, 6078, 3047, 4340, 936, 5529, 3285, 5005, 3239, 5904, 7188, 5301, 4538, 1259, 2854, 2071, 6081, 5158, 823, 3437, 6357, 899, 7199, 3672, 7187, 6419, 4565, 5571, 2982, 2866, 3518, 7453, 4102, 1820, 2670, 4947, 2497, 3342, 2298, 4648, 6718, 6158, 6183, 7221, 5918, 4878, 5792, 5420, 3394, 1473, 4129, 2368, 4027, 3631, 4600, 3687, 6462, 6028, 6676, 6127, 2805, 6414, 4881, 4181, 1856, 989, 2494, 5948, 2901, 3036, 2219, 4716, 6224, 5700, 6185, 1775, 3390, 5161, 7457, 3054, 1858, 5434, 2637, 3887, 5624, 5415, 4046, 1714, 5346, 1992, 5916, 1302, 2500, 6747, 3043, 6436, 3346, 3463, 3874, 5502, 7509, 5964, 6311, 7697, 2302, 7019, 5364, 1241, 3733, 6705, 7793, 6594, 7561, 5613, 2922, 2599, 3609, 3509, 6797, 1613, 6131, 3803, 3919, 2774, 7121, 2438, 7816, 3327, 3691, 1271, 4930, 3816, 6397, 3132, 64, 6294, 2053, 4036, 7123, 6431, 6539, 6590, 6204, 7005, 4019, 6406, 5341, 7736, 5521, 6661, 5018, 3171, 6624, 4976, 5533, 2197, 3909, 6827, 4766, 2067, 2170, 4454, 6448, 3364, 6703, 5189, 6283, 6372, 7730, 7665, 3810, 7789, 3826, 6154, 7719, 6941, 5741, 7669, 5901, 2251, 2125, 7294, 6803, 4359, 7680, 5185, 7117, 7840, 4281, 7464, 5731, 5114, 3787, 6398, 7097, 5615, 5891, 7723, 4282, 5299, 7306, 6295, 833, 5822, 5677, 3510, 3937, 6184, 4856, 5808, 4759, 6654, 7467, 6153, 6310, 5065, 6836, 6073, 6396, 5551, 5826, 7833, 7642, 6308, 7474, 6486, 7154, 4467, 4401, 6537, 6952, 5164, 5562, 4668, 7271, 6297, 6166, 7249, 7418, 6634, 4536, 7755, 7516, 6305, 3791, 3799, 5090, 5373, 7449, 4503, 3793, 6888, 7602, 6963, 7225, 6765, 6161, 7484, 7417, 6111, 6641, 7395, 7461, 6987, 7836, 7670, 6715, 6480, 7254, 6385, 7206, 5971, 7512, 7493, 6950, 6951, 7598, 7838, 7822, 7764, 6490, 7244, 6682, 6992, 6345, 6055, 6443, 5607, 6730, 5400, 7774, 3489, 5397, 7482, 7664, 7302, 4617, 6316, 4405, 5148, 7553, 6628, 7128, 7043, 7089, 7657, 5645, 5815, 7686, 5693, 30, 6223, 6231, 5473, 7580, 6306, 6851, 3965, 6151, 5811, 7356, 6168, 7548, 7374, 7543, 7823, 6235, 6425, 7585, 4588, 7546, 7242, 7365, 7373, 6652, 7230, 6640, 7574, 6716, 7388, 7233, 5684, 6835, 7210, 7495, 7615, 6795, 4676, 7452, 7648, 7812, 5520, 3583, 6980, 7072, 6054, 5036, 7714, 6605, 6769, 6483, 7731, 7101, 7824, 7448, 7616, 6226, 6488, 7530, 6373, 7652, 5902, 5835, 7030, 5966, 6229, 6813, 5074, 7368, 6848, 7677, 4726, 4911, 7773, 7073, 5773, 7432, 4666, 7569, 6746, 7587, 6928, 5710, 6187, 7434, 6015, 6910, 5205, 6604, 6970, 6975, 6805, 7267, 7004, 5846, 4860, 4076, 6095, 3392, 6186, 4441, 6358, 5786, 6627, 4940, 4917, 5658, 7611, 3742, 3841, 3318, 3412, 6801, 2324, 4072, 7331, 6164, 1976, 1556, 6748, 6046, 5457, 3292, 2159, 6567, 4205, 6122, 5298, 6879, 7314, 6864, 2892, 2840, 4728, 3601, 7238, 4394, 2404, 3178, 5683, 5849, 6258, 5944, 6506, 2268, 5054, 5867, 4069, 7284, 5953, 5543, 4211, 2961, 1184, 3002, 4077, 7668, 2568, 2667, 6454, 861, 4832, 5049, 5351, 3800, 5852, 3366, 4169, 6902, 5859, 3527, 3602, 2027, 3092, 3902, 4080, 3081, 934, 5539, 4636, 5501, 3718, 1490, 4435, 5329, 6629, 3025, 6964, 2776, 7062, 1520, 3221, 4551, 705, 2398, 3490, 5113, 3007, 3139, 1266, 2924, 3607, 7182, 4619, 1958, 2823, 2545, 792, 3145, 669, 3989, 2561, 3457, 4175, 2592, 2950, 3220, 3430, 2421, 1297, 2019, 3503, 2999, 13, 6426, 5995, 4516, 848, 2508, 1655, 1000, 1098, 1568, 1776, 5681, 1910, 2696, 4276, 3168, 2934, 2726, 2648, 2766, 3254, 3371, 6, 1931, 492, 609, 538, 4431, 859, 682, 2222, 1171, 979, 4283, 5965, 1147, 28, 5889, 1197, 1965, 937, 1368, 2169, 298, 1285, 3534, 3929, 4936, 2024, 895, 781, 395, 442, 3988, 500, 5162, 2573, 4899, 3330, 1784, 5564, 1168, 5631, 2467, 171, 2397, 1156, 1093, 446, 2534, 539, 333, 768, 1832, 4477, 1753, 808, 4702, 927, 1153, 2267, 3162, 964, 3653, 1298, 1390, 405, 1542, 871, 3012, 1599, 1641, 1633, 130, 1214, 901, 798, 840, 1631, 1321, 2094, 195, 639, 1601, 760, 820, 2335, 292, 3102, 358, 554, 1229, 389, 841, 178, 107, 170, 1193, 1523, 930, 2965, 2697, 1800, 1928, 1275, 2896, 604, 660, 2247, 711, 1286, 995, 168, 1839, 135, 550, 1042, 3109, 2448, 127, 370, 1687, 1128, 263, 161, 5862, 392, 1337, 2075, 4466, 1564, 2256, 921, 1295, 3024, 640, 1420, 1220, 2956, 503, 1389, 222, 3019, 300, 2660, 537, 1409, 465, 266, 804, 981, 117, 1124, 312, 1418, 2066, 1562, 791, 88, 2587, 470, 1489, 1359, 340, 1728, 2085, 205, 379, 702, 2663, 403, 1205, 1087, 1382, 3305, 817, 103, 129, 925, 206, 1862, 1086, 1648, 686, 1674, 1686, 1139, 277, 2012, 1450, 2117, 355, 182, 1175, 253, 2056, 5582, 854, 1199, 1567, 288, 845, 338, 239, 164, 1950, 119, 581, 897, 1112, 654, 1932, 73, 2833, 697, 685, 4446, 1497, 1846, 180, 426, 461, 123, 2442, 1311, 1182, 953, 757, 2928, 1154, 159, 149, 194, 1010, 153, 633, 5278, 2680, 1034, 528, 824, 1723, 125, 2272, 1127, 4351, 1818, 1117, 1472, 4159, 2996, 2514, 522, 1088, 1584, 1431, 3720, 2810, 986, 752, 1041, 106, 1781, 139, 3933, 368, 1407, 1484, 3003, 692, 3421, 1160, 3861, 3186, 1340, 621, 5715, 2190, 1313, 2434, 2940, 4487, 2370, 7788, 1005, 6859, 3758, 2729, 6277, 5588, 6387, 819, 2322, 5069, 2883, 5451, 602, 4733, 4065, 5759, 580, 3562, 3517, 304, 1699, 2200, 891, 2946, 1471, 337, 4168, 690, 790, 317, 199, 210, 140, 397, 814, 1566, 1217, 377, 2444, 1841, 1671, 560, 252, 909, 1249, 858, 605, 680, 220, 2969, 548, 738, 815, 1804, 587, 601, 1675, 1145, 1741, 606, 1499, 3155, 530, 676, 237, 5989, 147, 976, 678, 5194, 573, 1441, 579, 614, 509, 567, 184, 1997, 198, 197, 1802, 770, 2391, 1466, 877, 3502, 1572, 456, 381, 2693, 348, 1825, 561, 525, 571, 408, 917, 250, 2949, 1242, 236, 3770, 993, 376, 1496, 243, 3679, 251, 1954, 475, 1933, 3027, 3418, 1481, 482, 1615, 174, 2557, 2911, 440, 1892, 2133, 2577, 400, 1510, 2352, 542, 830, 2116, 267, 603, 589, 2236, 913, 1215, 476, 108, 703, 443, 278, 1682, 2671, 1476, 1463, 1366, 1895, 460, 3959, 2380, 336, 274, 1915, 1681, 3243, 831, 1518, 1419, 90, 918, 187, 885, 235, 797, 33, 1470, 444, 158, 136, 1051, 138, 1400, 904, 881, 4090, 1834, 1078, 3035, 1030, 1761, 1822, 4048, 1573, 5722, 1023, 7447, 1244, 1864, 4399, 2572, 2596, 4799, 2657, 1436, 462, 1097, 6240, 2295, 1487, 3014, 958, 3962, 366, 533, 865, 1347, 902, 2609, 502, 3594, 3712, 5354, 3487, 6514, 5723, 4324, 2, 1459, 644, 1114, 4804, 4425, 2224, 4108, 4931, 7590, 2479, 1191, 1424, 1837, 4397, 3209, 2710, 6044, 3984, 428, 6253, 2539, 6663, 1137, 2437, 1077, 4647, 4587, 5172, 7532, 5644, 2559, 1469, 4496, 1111, 2951, 5414, 2257, 5692, 1345, 1975, 4525, 419, 1270, 2481, 3576, 2603, 11, 2784, 1159, 2493, 2634, 4055, 1412, 496, 1569, 3651, 1384, 810, 2235, 972, 2049, 3845, 3224, 5027, 666, 740, 2129, 750, 402, 822, 838, 747, 1642, 1766, 2492, 2476, 1861, 6501, 3866, 6779, 6875, 3540, 4010, 3840, 1035, 5796, 4113, 3590, 6298, 4468, 3581, 3310, 1842, 2880, 558, 4813, 493, 3320, 4868, 3941, 261, 1091, 2761, 2985, 3233, 1547, 6592, 1990, 3378, 2148, 2695, 4231, 3748, 825, 1971, 5179, 3526, 3473, 1801, 4950, 1332, 2682, 3153, 5860, 1437, 3995, 6820, 2986, 3118, 2811, 2708, 3717, 3943, 1150, 2968, 764, 756, 2008, 3281, 6228, 2378, 7557, 903, 3286, 5737, 1066, 2431, 1394, 2490, 2692, 3537, 1614, 1833, 7149, 1777, 6356, 4787, 3349, 2527, 4135, 5910, 2266, 2462, 3199, 3598, 4488, 5514, 4182, 3779, 6064, 3492, 4106, 7559, 4727, 3319, 3778, 4893, 2102, 4200, 2308, 5583, 4047, 7086, 3876, 4533, 5558, 2408, 6079, 4761, 3461, 7096, 1736, 1318, 5706, 4150, 5417, 5598, 6687, 862, 6471, 2869, 5780, 3694, 6331, 3597, 2465, 2867, 6757, 7536, 3897, 4321, 1142, 4824, 2344, 2546, 2466, 5160, 4151, 6189, 3547, 2801, 6496, 3640, 1943, 2035, 3262, 4958, 3862, 4532, 4426, 1984, 1401, 3222, 6325, 7025, 7255, 3192, 5744, 6133, 3195, 6675, 2482, 3184, 5766, 6557, 4612, 1343, 4713, 7830, 4421, 5992, 6668, 1483, 6678, 5507, 2198, 3913, 2748, 5620, 5063, 1509, 5747, 2457, 5195, 7015, 2809, 4008, 3041, 4816, 3447, 6216, 4031, 4174, 2870, 2227, 2988, 6391, 3772, 6672, 4539, 6485, 6591, 4646, 5587, 2520, 3303, 2907, 3794, 4521, 6512, 6439, 3846, 4790, 4384, 6162, 2245, 6893, 4744, 4289, 4792, 6637, 6619, 4445, 3170, 5157, 4838, 6646, 7800, 5403, 1987, 5691, 4079, 3478, 5241, 4585, 3649, 6001, 3328, 7227, 3760, 4863, 2518, 4630, 6003, 3616, 2679, 2407, 2639, 6086, 5977, 7537, 5217, 4460, 3903, 4017, 5340, 5559, 6281, 5260, 4026, 7660, 3267, 6146, 6347, 5686, 7088, 4509, 5392, 5015, 5127, 7436, 6210, 5850, 3074, 5310, 6866, 7629, 7320, 7545, 6601, 6885, 7750, 5028, 7257, 6002, 6579, 7125, 7265, 6487, 6222, 5443, 7325, 7803, 7478, 6610, 7216, 6865, 7687, 7671, 5505, 6670, 7813, 6620, 7775, 6009, 7475, 4245, 6854, 6727, 6976, 7715, 6784, 5516, 7419, 5785, 7525, 7688, 7826, 6330, 6850, 5311, 6182, 6550, 4629, 6116, 6650, 6087, 7340, 7727, 6714, 4928, 6518, 6243, 7711, 26, 5823, 6737, 6761, 6666, 4703, 4734, 6063, 7222, 6288, 6461, 6449, 7349, 6791, 6230, 6411, 7770, 6319, 3963, 7122, 3805, 7666, 6738, 7406, 5713, 7782, 5120, 6430, 6804, 5352, 6937, 7167, 6965, 6752, 7646, 7524, 5549, 5253, 7440, 6764, 7190, 7245, 6092, 7706, 5398, 5725, 6405, 7756, 7685, 7180, 7176, 7099, 6177, 6466, 6948, 7380, 7335, 5239, 6382, 6656, 6495, 7247, 7547, 6444, 5757, 7287, 7142, 5983, 7383, 7060, 6767, 6774, 7109, 7114, 6926, 5405, 6566, 6708, 7079, 5262, 6816, 7718, 6721, 4486, 4681, 3713, 6384, 6143, 5660, 4999, 7589, 6245, 6882, 7392, 7703, 7751, 4338, 7040, 7577, 7762, 6930, 4574, 6899, 7661, 5333, 7283, 7620, 6777, 7737, 6561, 6422, 5078, 7758, 7260, 7653, 6731, 6743, 7556, 7508, 4354, 7266, 5016, 6006, 5668, 5763, 7427, 7748, 6150, 5573, 6800, 7371, 4352, 6050, 7551, 7205, 4583, 5804, 5856, 7779, 4957, 7091, 7366, 6378, 6402, 6811, 6692, 7769, 7234, 6873, 5022, 7780, 4991, 6798, 7362, 7787, 7766, 7022, 7713, 4041, 7139, 6474, 6686, 7198, 4699, 7707, 7281, 5271, 7049, 7259, 5976, 5719, 7481, 4963, 7819, 6416, 6711, 7754, 5134, 5038, 7213, 6763, 3026, 7690, 3022, 7637, 3585, 1277, 2188, 299, 863, 1057, 3127, 2478, 1054, 3131, 4049, 2171, 42, 25, 38, 786, 1678, 4035, 3269, 4011, 3626, 2773, 4624, 5123, 3193, 3560, 3589, 2790, 2937, 2768, 232, 2753, 2611, 3511, 3558, 3964, 632, 3827, 4584, 1605, 3519, 2649, 4641, 3448, 2746, 2343, 2966, 4236, 4244, 3980, 2501, 5526, 2386, 3593, 1978, 4303, 2316, 6048, 3433, 2137, 4549, 3415, 3786, 2618, 4319, 5363, 2414, 4429, 1176, 4843, 5484, 5586, 3690, 6589, 5067, 4120, 1549, 4560, 6007, 4434, 5182, 3579, 5805, 5268, 3427, 3911, 3829, 3663, 3879, 3756, 1650, 4161, 1069, 5270, 7223, 1752, 6088, 5565, 5081, 4187, 5911, 3419, 2243, 5756, 4760, 4579, 3104, 4063, 4602, 3882, 7008, 6945, 4828, 4686, 47, 4670, 6704, 6679, 5335, 6094, 4548, 2713, 2926, 2393, 2030, 3552, 4194, 1813, 2074, 3819, 3161, 4003, 4060, 5002, 3623, 1853, 4088, 3296, 268, 3079, 1328, 5593, 2721, 2353, 2615, 2889, 3954, 1531, 1721, 1733, 1952, 1672, 1201, 2232, 3341, 2760, 7564, 7262, 1946, 1364, 3240, 3494, 985, 176, 608, 2826, 3148, 3009, 634, 437, 6494, 2107, 1570, 3150, 1624, 2460, 2461, 2842, 2651, 1218, 1515, 2311, 2513, 1829, 7583, 4210, 1843, 3093, 3420, 7472, 4742, 7035, 1919, 3135, 2815, 1659, 2411, 1897, 2454, 2057, 1743, 2930, 2613, 1427, 2538, 2900, 2145, 1991, 2474, 2281, 19, 6109, 3263, 688, 2226, 2153, 2229, 2293, 2932, 4818, 1208, 2217, 2477, 2953, 1758, 1157, 1178, 1698, 2583, 1015, 2423, 2193, 1898, 6195, 3934, 1462, 4075, 1369, 2719, 1774, 3753, 3544, 2529, 646, 1411, 2136, 1703, 2622, 2738, 1320, 5171, 4052, 4138, 713, 3847, 2917, 3212, 1433, 2834, 3059, 2160, 2031, 2126, 4101, 1791, 3848, 1324, 1771, 2022, 3, 1796, 1778, 2619, 3811, 4, 2820, 5046, 5211, 4365, 1226, 6037, 3369, 2365, 3765, 1103, 2846, 2832, 3205, 665, 2317, 2700, 3314, 3578, 2394, 2103, 2792, 2646, 2123, 969, 6772, 2549, 1406, 832, 4708, 965, 2714, 2326, 2339, 737, 2758, 3426, 5254, 1720, 3536, 2215, 4279, 3705, 2775, 2661, 916, 1749, 3006, 4591, 2333, 4767, 1812, 1937, 5003, 2765, 6547, 7153, 1438, 2319, 2106, 3332, 2857, 4242, 3472, 2923, 1331, 3021, 3802, 5047, 6278, 2875, 4320, 6407, 3395, 6429, 3771, 2184, 6446, 5441, 7181, 6853, 1806, 4437, 4997, 6657, 7633, 5591, 6024, 6200, 6818, 3056, 3685, 2194, 5871, 1934, 7071, 5689, 2509, 6320, 5497, 2785, 5853, 4527, 3707, 5459, 4573, 3037, 6467, 7639, 5159, 4561, 868, 2045, 4360, 1236, 5041, 2118, 568, 6115, 2672, 7676, 5097, 3449, 4683, 2798, 7612, 2835, 2752, 3315, 6377, 5339, 3284, 6712, 5152, 2220, 5816, 4306, 1557, 7006, 2564, 1617, 3291, 6824, 3445, 4291, 6266, 5814, 5753, 3611, 3123, 2954, 4842, 7370, 2605, 4196, 5203, 2589, 4505, 4501, 1290, 3077, 4784, 4990, 7256, 3970, 2309, 3636, 7397, 5527, 5007, 3739, 83, 6892, 4140, 5184, 5618, 5489, 4243, 3683, 6954, 2918, 4720, 7542, 2252, 3337, 7028, 2796, 2807, 3852, 5726, 6059, 4906, 3785, 7095, 3442, 3741, 7108, 5833, 7106, 5191, 2048, 3996, 7571, 7301, 1885, 3114, 1848, 3900, 4317, 2707, 5366, 1563, 2818, 1475, 3353, 4044, 6632, 4004, 4603, 3898, 7477, 3935, 3839, 6533, 6084, 6802, 6810, 4964, 3961, 2420, 4305, 3191, 4335, 4268, 4513, 7241, 4694, 7059, 2878, 6438, 6569, 4128, 5150, 5680, 5387, 7528, 5530, 6955, 3408, 4779, 5181, 4659, 3227, 4334, 6065, 3858, 5748, 7009, 4123, 4095, 6018, 7017, 5075, 5284, 4126, 3628, 1940, 3637, 4540, 5201, 6368, 6199, 6217, 4153, 4597, 4515, 5176, 3084, 3634, 7146, 3268, 5655, 7424, 4073, 6555, 7820, 7276, 3834, 5368, 4142, 5197, 6785, 5297, 6362, 4492, 4614, 4722, 5098, 4578, 4203, 3223, 5472, 2017, 4144, 4042, 5605, 4124, 4546, 6545, 2450, 6484, 2406, 2389, 3639, 3357, 7195, 3181, 3865, 4571, 3169, 5687, 4339, 3403, 2852, 5250, 4329, 3232, 5854, 6613, 3916, 3551, 2771, 6016, 5137, 5638, 4995, 5934, 4361, 5791, 5639, 5386, 5444, 4725, 4806, 5255, 3455, 4812, 3614, 2836, 1831, 2238, 4089, 5435, 3824, 6552, 2001, 5466, 5306, 2847, 4347, 3070, 3768, 2388, 6998, 4835, 2868, 5326, 4926, 3759, 3389, 4956, 6434, 5767, 2356, 5671, 4895, 7645, 3451, 3921, 7171, 6732, 3776, 4408, 5612, 3323, 2737, 3399, 5395, 3138, 4823, 2674, 4965, 1164, 7409, 5581, 6080, 5708, 4925, 4556, 5379, 6793, 5491, 4173, 5541, 5913, 4829, 4417, 3251, 7777, 6990, 6674, 4805, 7692, 3388, 3499, 5206, 6190, 5589, 2277, 6860, 4213, 4867, 6156, 4034, 5321, 6994, 5106, 5242, 5557, 7085, 3250, 4960, 3868, 4706, 5621, 4748, 2563, 6806, 5499, 3326, 3646, 7056, 7092, 5424, 7562, 6720, 3761, 5154, 3504, 5510, 7184, 1545, 7804, 4625, 4375, 2213, 5305, 4563, 3731, 5611, 5115, 7790, 2963, 2964, 6525, 5933, 1627, 6923, 6635, 2724, 6137, 6847, 4344, 6459, 4517, 3671, 3658, 4318, 6318, 5869, 4307, 4943, 5654, 4312, 4628, 4070, 4156, 6966, 4870, 3297, 4968, 3754, 4819, 5688, 3020, 4056, 3476, 3979, 4186, 7523, 3572, 4290, 5267, 3556, 7148, 7805, 6689, 3141, 5378, 6205, 2543, 6673, 5467, 6440, 7643, 6036, 3950, 4981, 5251, 3822, 5595, 6691, 5266, 7133, 4892, 3801, 6342, 6819, 6097, 5230, 5125, 6102, 5585, 4093, 7829, 5389, 7635, 7492, 5663, 5973, 3923, 5705, 7387, 7454, 5574, 3853, 4883, 4512, 5207, 5290, 6783, 7285, 4667, 5391, 6946, 2061, 4714, 6203, 3701, 7111, 3766, 6473, 7376, 5969, 5431, 6856, 6812, 5590, 5857, 3151, 6033, 2338, 7594, 5988, 5229, 7796, 2632, 3023, 5818, 5138, 7224, 5094, 4373, 4962, 4826, 4097, 6120, 5906, 4524, 3202, 7050, 2458, 5111, 7048, 4783, 2415, 3069, 4904, 6546, 3015, 3055, 5216, 4896, 2395, 7463, 3726, 3398, 6631, 7252, 5040, 4448, 5151, 6058, 5338, 6175, 4642, 5960, 5013, 7344, 6868, 7001, 5446, 5538, 6360, 5336, 5924, 5055, 5124, 3621, 4998, 2218, 1727, 2621, 1838, 3812, 1922, 1857, 3674, 2201, 2751, 4197, 3660, 2174, 3610, 6904, 3094, 2349, 6840, 1875, 3462, 1679, 3374, 3470, 1689, 2233, 1183, 3034, 2202, 1548, 2342, 1636, 1876, 6196, 7214, 2221, 2164, 5355, 3549, 3001, 2881, 6317, 6846, 759, 821, 1670, 4793, 4888, 6041, 5407, 2433, 4328, 4815, 2699, 2090, 3238, 4638, 4855, 5183, 2473, 4433, 7511, 1607, 4256, 3258, 6350, 5648, 3722, 4284, 6577, 4249, 2412, 7503, 1750, 6417, 5883, 1712, 5959, 3740, 5630, 6762, 2403, 4280, 6442, 1177, 2357, 3383, 2452, 1769, 6045, 2081, 5058, 3531, 6032, 4913, 6100, 2562, 1926, 7570, 5546, 3230, 4498, 5690, 6492, 5, 5840, 7405, 7226, 6690, 4785, 3157, 6296, 4481, 5437, 6276, 6603, 5732, 2402, 2899, 4682, 1873, 1847, 4595, 3832, 6456, 5888, 3350, 3438, 4457, 3356, 1732, 2210, 3548, 2938, 4406, 6252, 1747, 5817, 5955, 1955, 4208, 2871, 1445, 5418, 5929, 3466, 2749, 4717, 1830, 3554, 3278, 3324, 6788, 4590, 4924, 974, 2165, 6170, 3010, 3702, 4367, 3500, 5935, 3668, 4262, 3584, 1845, 4119, 836, 3736, 5104, 3749, 5482, 1920, 3795, 5050, 2115, 2861, 3033, 5622, 3185, 7649, 2725, 7832, 5897, 2489, 4230, 6599, 3115, 3458, 6026, 2997, 3116, 2581, 7696, 4652, 7456, 7825, 4747, 4273, 3586, 6455, 7396, 6768, 6011, 5542, 6623, 6451, 5584, 6697, 6292, 7601, 6729, 6401, 3714, 5513, 4814, 68, 2330, 7386, 5709, 7207, 6113, 5198, 5369, 5450, 6920, 4266, 6684, 3901, 7518, 4942, 6869, 7391, 4304, 5548, 5884, 5044, 6944, 5153, 59, 6896, 5576, 4201, 4741, 4861, 5661, 6947, 5084, 5984, 6724, 4474, 5782, 6381, 6379, 6380, 5649, 7269, 3764, 4740, 4959, 6375, 6749, 5570, 4712, 7209, 5300, 7020, 5460, 5566, 7746, 5991, 4379, 4447, 4601, 5061, 7420, 6329, 6300, 6287, 6159, 6340, 6997, 4633, 4800, 3276, 7333, 3400, 3000, 6410, 7563, 5769, 3110, 5108, 2584, 3044, 6145, 4473, 5095, 6091, 6510, 3275, 7504, 5062, 7476, 4154, 6924, 5886, 5920, 6198, 5136, 5925, 4040, 3889, 5914, 6961, 5793, 5399, 7163, 5079, 4781, 4493, 5703, 5752, 7515, 4529, 3542, 4758, 4402, 6909, 5200, 6651, 6915, 4465, 4476, 5963, 7000, 7560, 7578, 6507, 6706, 3308, 4530, 7357, 5506, 5616, 5634, 5608, 4736, 6571, 4644, 7026, 6775, 6424, 4500, 3486, 3501, 4039, 4214, 5778, 3952, 7705, 4627, 5130, 5795, 6602, 7046, 5900, 6528, 6734, 4372, 3241, 1577, 3359, 754, 2282, 2320, 5643, 6617, 2373, 7359, 6206, 5133, 5729, 4006, 7332, 5193, 5640, 6770, 4871, 3409, 3870, 6293, 7496, 7289, 4225, 2579, 2055, 3137, 6823, 3117, 5246, 6302, 6541, 4475, 2517, 2974, 4271, 1759, 2054, 3633, 3580, 5664, 2006, 4092, 3893, 6586, 2593, 2993, 2560, 4050, 3312, 7065, 4098, 3538, 4111, 3058, 3991, 6101, 3176, 4237, 4788, 1904, 5416, 5357, 3806, 2876, 3978, 2873, 3922, 4709, 7342, 5238, 3348, 2259, 2299, 3144, 4506, 2134, 638, 1498, 3111, 1300, 3414, 290, 3005, 3402, 3063, 681, 3910, 3237, 616, 4253, 973, 2800, 3304, 3028, 2088, 1253, 2307, 4985, 2453, 2864, 2036, 4337, 3815, 4371, 4381, 2396, 1945, 1073, 5375, 4376, 938, 22, 5717, 2662, 7, 1172, 3465, 706, 1206, 6826, 2269, 1513, 5481, 2044, 1468, 3632, 2650, 3828, 924, 1961, 5167, 7375, 6465, 5922, 4695, 4755, 2426, 2822, 3266, 1296, 7742, 6898, 4436, 4229, 3864, 6437, 1013, 718, 1310, 3698, 2797, 3363, 1662, 1793, 2341, 2540, 2552, 2166, 2844, 1594, 6839, 1697, 2681, 2793, 1551, 1591, 5550, 2502, 2499, 1043, 1417, 1203, 1751, 2528, 2824, 1383, 1455, 1606, 4649, 2486, 3452, 1953, 1195, 1045, 2803, 2701, 1649, 1516, 2598, 1102, 1151, 1731, 2034, 3274, 1461, 1969, 1315, 1807, 3783, 2439, 6179, 18, 1234, 1578, 2180, 1267, 2767, 5303, 3605, 2424, 3068, 4564, 3825, 1022, 3038, 914, 3004, 2189, 3737, 1652, 1319, 879, 992, 1995, 2855, 1144, 1263, 946, 4803, 472, 2941, 2069, 1788, 2817, 1889, 2480, 3654, 1486, 1454, 4558, 826, 5143, 2859, 4746, 2382, 3891, 7090, 5488, 4876, 6104, 4130, 7157, 4639, 5080, 2879, 5794, 4184, 1966, 6522, 6932, 2989, 2973, 1074, 1701, 5332, 2052, 6192, 439, 7258, 3796, 5697, 4672, 3924, 6940, 3665, 2381, 6251, 2614, 6039, 5908, 2362, 4537, 3321, 3372, 980, 3071, 2149, 2114, 1435, 5187, 4250, 4825, 5832, 1913, 4739, 2972, 4105, 1323, 4754, 920, 3680, 6110, 1673, 7084, 3706, 5324, 6897, 1522, 3287, 3219, 3666, 3994, 4388, 3686, 5830, 7656, 6890, 3944, 5695, 3728, 6207, 4193, 3098, 3904, 5066, 3564, 6581, 4490, 6722, 4227, 3484, 2944, 4874, 3565, 2536, 1094, 1665, 5563, 2013, 7725, 4613, 3942, 5209, 3969, 4660, 3619, 4215, 2841, 2242, 6725, 4864, 4504, 4164, 2865, 3918, 6352, 2287, 4731, 4480, 5468, 2687, 3365, 5318, 4679, 4854, 5178, 5034, 4148, 4133, 2945, 5025, 4191, 4966, 3177, 3539, 3446, 4086, 4846, 5107, 2921, 5863, 4938, 4248, 1767, 4770, 4222, 4238, 2147, 6070, 4593, 4978, 4522, 7469, 6220, 6040, 5452, 2763, 2140, 2791, 5202, 2097, 3557, 6520, 5848, 2656, 4007, 6286, 4844, 2664, 4610, 5721, 5126, 4462, 7674, 7218, 5577, 5996, 4526, 3734, 4692, 1622, 3545, 3857, 2628, 6531, 5029, 4528, 2652, 7567, 6908, 7771, 5528, 5553, 4920, 5275, 5930, 5430, 3096, 5568, 5073, 5545, 3985, 7797, 5774, 6981, 7513, 5518, 4689, 5637, 1725, 3681, 3851, 2755, 2698, 2590, 4410, 5131, 5361, 5478, 4700, 3920, 6972, 2025, 4774, 3710, 4611, 2992, 4497, 5186, 6337, 5892, 4327, 2916, 3423, 2730, 1998, 3103, 4656, 3575, 2715, 5235, 4575, 4294, 4412, 1787, 3960, 7011, 3076, 5797, 4723, 5349, 3180, 4396, 4502, 4188, 5463, 4859, 5204, 3987, 3385, 5433, 6612, 3405, 4581, 1811, 2913, 4609, 3172, 4718, 2154, 1979, 5347, 3744, 6221, 4939, 7442, 4258, 2594, 5787, 4822, 6560, 3871, 2274, 7189, 2668, 4901, 6390, 6911, 2418, 3498, 7783, 5474, 3875, 5068, 4897, 4562, 6630, 7220, 4263, 5487, 5330, 6333, 7324, 4907, 2553, 3525, 4385, 5292, 3915, 1429, 3643, 3175, 4655, 3625, 2374, 5331, 4427, 4489, 5350, 4316, 5461, 7130, 6361, 3573, 4261, 5578, 3299, 6056, 7027, 4116, 5845, 3271, 3957, 4687, 2909, 4569, 4550, 6527, 5866, 3491, 4566, 7183, 2510, 6616, 1850, 5316, 7115, 4183, 3031, 3165, 5777, 7710, 5425, 7363, 3344, 3859, 6503, 4398, 4905, 6093, 6472, 5656, 7802, 5421, 6399, 5294, 5879, 7100, 5312, 4432, 2849, 5309, 3842, 1982, 7337, 5454, 4206, 7328, 7308, 5243, 3966, 6477, 5949, 3288, 7160, 5781, 7403, 7837, 3245, 5076, 4001, 7217, 4323, 4635, 6735, 3908, 3231, 2051, 3325, 7352, 2337, 1905, 2829, 2891, 5745, 3974, 4246, 3604, 3723, 2860, 6986, 4880, 4879, 6160, 6029, 5083, 6588, 5764, 5555, 3152, 7389, 4343, 5994, 7572, 6169, 4288, 3606, 2369, 6558, 5865, 6681, 4640, 7650, 2795, 3468, 6237, 5909, 5561, 7052, 5617, 7717, 6967, 7200, 6057, 4705, 4802, 5019, 4207, 7679, 4542, 3947, 4023, 4423, 4772, 3146, 5471, 7156, 2919, 4594, 4057, 3972, 3183, 1646, 3133, 5522, 6359, 3226, 3676, 6709, 1410, 5772, 6232, 5475, 2505, 6004, 3391, 6643, 5821, 3401, 5257, 4877, 3234, 4220, 4559, 6468, 5827, 3174, 3453, 2037, 7064, 6598, 1948, 2228, 6005, 4109, 6209, 6983, 7197, 2728, 5720, 4620, 2567, 4495, 6717, 7118, 3750, 5248, 7595, 3280, 6139, 6212, 7002, 6662, 2455, 4442, 3999, 2910, 4234, 3673, 4797, 7582, 5173, 3883, 4061, 4987, 3648, 5112, 5662, 4847, 5950, 4678, 5718, 3313, 3520, 4216, 7538, 5861, 6862, 6460, 3767, 4952, 7270, 3376, 5128, 7018, 5535, 5699, 4707, 7429, 6821, 3762, 7166, 4851, 5770, 2409, 3894, 4189, 6248, 4297, 6695, 5887, 7772, 7293, 6083, 7721, 6698, 6556, 4970, 4020, 3459, 5997, 7243, 7042, 5247, 3339, 4370, 4404, 7401, 4953, 7164, 7124, 5304, 4240, 5596, 7621, 6778, 6241, 957, 6324, 6313, 5232, 2902, 6901, 3113, 3940, 6688, 1166, 6400, 6125, 3659, 4081, 4424, 7193, 2550, 4302, 2686, 6012, 3362, 6049, 7151, 6335, 6180, 7378, 7600, 5343, 6090, 5936, 5956, 7023, 3627, 4358, 7116, 7141, 6124, 3454, 5803, 3078, 4463, 4390, 5825, 6971, 5101, 3912, 3422, 3377, 6211, 5432, 4287, 4009, 4364, 6112, 7704, 4831, 5426, 6857, 6833, 4872, 6597, 3300, 3697, 5196, 5552, 4117, 6979, 4586, 5156, 4608, 6193, 2641, 4179, 3642, 4366, 3496, 3514, 7143, 6215, 5679, 7423, 7554, 5423, 5844, 2141, 2436, 5288, 2642, 3566, 5525, 2511, 2131, 7204, 3808, 4949, 1602, 5667, 5222, 2104, 7277, 1485, 2524, 3647, 3122, 1666, 4232, 1131, 3863, 4568, 1724, 4158, 5754, 7678, 44, 7603, 2207, 7415, 5873, 5783, 7304, 1380, 3213, 2757, 2371, 7385, 5599, 5509, 3075, 2350, 3849, 4914, 3888, 5237, 2740, 4209, 2787, 3053, 3906, 1867, 3881, 4218, 4974, 3091, 1974, 4241, 1316, 5733, 4817, 5580, 5701, 6568, 6530, 3440, 5175, 4621, 6014, 7446, 4345, 4626, 5938, 5801, 6917, 4395, 5396, 5092, 4791, 6504, 6393, 4853, 1587, 4430, 4857, 4665, 5893, 5037, 5402, 6098, 4915, 5000, 5626, 5696, 2942, 2401, 3479, 2929, 6303, 1544, 4152, 4989, 3108, 3696, 4143, 3641, 3516, 2093, 3187, 1135, 3331, 3189, 2894, 3757, 5698, 5190, 3206, 1828, 1335, 1046, 1491, 1700, 6250, 3724, 3533, 6099, 2156, 1852, 6790, 2483, 1256, 1581, 6338, 2782, 4875, 2623, 2957, 4066, 2530, 1561, 3809, 1661, 6126, 3345, 4438, 2931, 5374, 7430, 1608, 2314, 2936, 5476, 3752, 3334, 2279, 7425, 3373, 6927, 5458, 6883, 1317, 2683, 3060, 2385, 3204, 5829, 5042, 6758, 5325, 7326, 4798, 7211, 931, 6974, 2627, 4889, 7619, 2994, 3256, 5429, 4730, 5946, 4543, 7785, 4555, 5534, 3856, 3062, 2016, 3126, 3475, 4013, 950, 5014, 5870, 1198, 2827, 67, 3279, 4223, 933, 3164, 966, 4178, 1293, 3830, 651, 2177, 2781, 2082, 1921, 3878, 3370, 1173, 3836, 1006, 3532, 6280, 2291, 6870, 4507, 6107, 3905, 1478, 5282, 1970, 1308, 6498, 1890, 1109, 4419, 3247, 2591, 2204, 2684, 1165, 6165, 2555, 4848, 5858, 1637, 6433, 2703, 2762, 523, 2689, 7228, 1081, 4808, 3541, 4849, 2278, 4145, 3481, 4311, 5917, 1737, 3709, 5053, 4902, 7390, 3488, 4796, 7759, 6261, 1414, 2072, 1353, 4455, 3818, 1403, 7007, 3120, 3089, 2905, 1826, 846, 3682, 3675, 3669, 2167, 2998, 7248, 908, 4110, 4599, 6202, 1790, 4604, 4084, 1989, 3553, 2843, 3416, 2288, 6891, 3603, 3264, 1423, 1272, 2522, 1951, 1619, 7129, 2212, 1405, 1803, 5295, 2991, 5149, 6584, 3160, 1844, 1070, 2354, 1886, 1237, 2122, 2789, 3850, 5771, 2983, 3885, 2181, 5806, 2947, 6256, 4862, 3029, 1657, 3521, 7428, 7054, 3100, 7684, 7131, 5419, 6863, 5256, 4757, 7544, 2872, 5358, 5628, 2970, 7341, 6130, 3368, 3983, 7741, 1996, 4732, 2419, 3125, 4776, 7628, 5188, 4464, 457, 6808, 2292, 5163, 3577, 4869, 7765, 4377, 6563, 3615, 4657, 5011, 4378, 7738, 3644, 46, 7132, 3386, 5544, 3107, 6291, 6845, 4357, 5455, 5427, 5436, 3725, 5006, 4972, 7807, 7535, 7465, 4898, 7733, 4383, 4285, 6142, 7767, 5872, 4919, 3435, 5245, 7435, 2275, 5404, 4508, 6249, 5524, 5531, 4014, 5280, 5141, 4511, 6832, 6270, 5855, 5180, 7297, 6260, 5508, 6089, 5941, 4634, 4085, 4795, 6219, 2608, 6825, 6787, 6119, 6596, 4103, 4439, 2575, 5376, 7505, 3535, 5109, 4415, 5750, 5287, 7402, 6609, 4382, 5166, 4980, 20, 5382, 5740, 6505, 4840, 4983, 5210, 3379, 7192, 4472, 6464, 4663, 6365, 2903, 3381, 4293, 6273, 5979, 2507, 5842, 4180, 3255, 2677, 6388, 4147, 6236, 4449, 4961, 4929, 6071, 2732, 6935, 4309, 7354, 4882, 5147, 6625, 4443, 4552, 2491, 7355, 5060, 4809, 6141, 3306, 7576, 6008, 5993, 3142, 3307, 5087, 4751, 3588, 4000, 6128, 5323, 5308, 5942, 6956, 3790, 5625, 3939, 6314, 6076, 5919, 5978, 5789, 3928, 3704, 7606, 4519, 3574, 6234, 5356, 5009, 5291, 5704, 5537, 6355, 5986, 6626, 4743, 2059, 5768, 4032, 3703, 6745, 6163, 4912, 3188, 4025, 4996, 6852, 7169, 5064, 5362, 3998, 7437, 5273, 3260, 2336, 7604, 3217, 3235, 6919, 2348, 3624, 5381, 6918, 2519, 7593, 3087, 3358, 6905, 4605, 6309, 7630, 4994, 4198, 5010, 6491, 1355, 7470, 5129, 6000, 7490, 5647, 6369, 2712, 7458, 5214, 5483, 3106, 7811, 6392]\n",
      " required_car_parking_spaces : [0, 1, 2, 4, 3]\n",
      " total_of_special_requests : [0, 1, 3, 2, 4, 5]\n",
      " reservation_status : [1, 0, 2]\n",
      " reservation_status_date : [121, 122, 123, 72, 61, 114, 125, 126, 127, 128, 76, 135, 136, 92, 83, 111, 87, 82, 129, 95, 133, 124, 119, 108, 110, 104, 101, 89, 131, 132, 137, 55, 78, 130, 84, 77, 134, 109, 69, 42, 139, 96, 117, 79, 140, 73, 91, 53, 39, 141, 118, 138, 143, 100, 113, 115, 28, 94, 63, 142, 90, 48, 52, 145, 148, 149, 116, 144, 98, 120, 105, 103, 150, 147, 67, 97, 146, 152, 153, 107, 62, 151, 88, 154, 57, 155, 157, 80, 75, 35, 86, 158, 46, 156, 159, 161, 70, 99, 160, 166, 162, 40, 165, 163, 167, 81, 172, 164, 168, 59, 169, 174, 173, 170, 171, 180, 43, 93, 176, 54, 175, 38, 85, 179, 177, 178, 181, 182, 188, 185, 186, 184, 183, 187, 112, 189, 192, 193, 190, 191, 195, 197, 51, 3, 1, 194, 199, 196, 49, 201, 198, 202, 4, 235, 7, 2, 204, 206, 200, 203, 212, 207, 209, 210, 224, 211, 205, 213, 208, 58, 214, 216, 220, 215, 219, 221, 223, 217, 218, 222, 226, 227, 230, 225, 232, 231, 243, 228, 233, 234, 229, 236, 237, 240, 239, 238, 242, 248, 241, 246, 250, 247, 244, 245, 260, 249, 253, 251, 252, 258, 259, 254, 255, 257, 256, 261, 265, 262, 264, 263, 267, 268, 266, 271, 269, 270, 272, 277, 274, 279, 281, 275, 276, 304, 278, 283, 290, 273, 285, 280, 309, 284, 286, 288, 289, 292, 291, 299, 300, 295, 296, 297, 302, 301, 293, 303, 306, 305, 298, 307, 308, 315, 311, 294, 313, 314, 312, 310, 316, 317, 327, 344, 319, 320, 321, 323, 322, 325, 328, 326, 333, 331, 329, 372, 330, 324, 334, 336, 337, 343, 342, 332, 340, 338, 348, 345, 339, 347, 346, 351, 349, 350, 355, 341, 318, 352, 356, 359, 360, 354, 353, 361, 358, 369, 357, 362, 367, 388, 368, 364, 365, 366, 394, 371, 378, 385, 373, 376, 386, 374, 375, 384, 379, 381, 380, 383, 391, 382, 390, 395, 392, 393, 396, 387, 397, 389, 377, 399, 398, 400, 403, 401, 404, 407, 411, 412, 422, 409, 413, 416, 414, 415, 405, 408, 406, 402, 410, 417, 418, 421, 423, 419, 420, 424, 425, 426, 435, 427, 432, 433, 437, 429, 431, 428, 434, 430, 438, 439, 443, 444, 440, 441, 436, 446, 447, 445, 449, 450, 451, 448, 452, 442, 454, 453, 455, 456, 457, 459, 464, 458, 461, 462, 469, 463, 466, 467, 472, 468, 470, 473, 460, 474, 477, 465, 480, 476, 481, 478, 482, 479, 487, 471, 484, 488, 475, 483, 490, 486, 491, 494, 495, 493, 498, 485, 496, 501, 489, 502, 500, 504, 499, 492, 506, 507, 509, 505, 497, 514, 503, 511, 508, 515, 520, 519, 521, 525, 527, 518, 523, 370, 522, 512, 524, 516, 510, 529, 513, 530, 535, 533, 532, 534, 528, 517, 536, 549, 540, 543, 537, 538, 552, 539, 544, 542, 526, 553, 541, 558, 546, 557, 547, 561, 548, 562, 560, 563, 531, 550, 556, 567, 564, 555, 569, 554, 570, 565, 568, 551, 574, 571, 566, 577, 580, 579, 575, 573, 583, 559, 578, 587, 581, 584, 589, 572, 591, 576, 586, 585, 594, 545, 595, 596, 588, 582, 593, 597, 599, 590, 602, 604, 601, 598, 603, 605, 606, 608, 607, 610, 613, 592, 616, 612, 619, 623, 611, 609, 620, 617, 614, 634, 618, 629, 600, 631, 625, 632, 626, 615, 624, 622, 621, 630, 636, 628, 639, 627, 641, 643, 638, 646, 637, 642, 645, 633, 647, 644, 649, 652, 653, 655, 654, 656, 658, 660, 659, 661, 662, 663, 640, 666, 668, 669, 651, 672, 650, 673, 674, 671, 665, 676, 667, 657, 680, 681, 677, 682, 686, 684, 683, 675, 687, 690, 648, 696, 670, 693, 697, 698, 689, 695, 694, 699, 688, 664, 685, 691, 702, 703, 701, 704, 705, 707, 708, 709, 700, 710, 679, 712, 711, 713, 714, 715, 717, 718, 719, 720, 721, 716, 722, 723, 727, 724, 725, 726, 729, 734, 728, 732, 735, 731, 737, 738, 739, 736, 741, 742, 743, 730, 747, 746, 753, 751, 755, 756, 740, 757, 758, 759, 760, 748, 692, 762, 749, 763, 678, 752, 765, 706, 764, 744, 767, 754, 768, 766, 750, 770, 761, 771, 773, 775, 772, 733, 779, 782, 780, 792, 769, 783, 784, 776, 788, 778, 786, 785, 777, 781, 793, 794, 745, 795, 789, 774, 798, 787, 801, 791, 800, 803, 796, 804, 806, 790, 805, 797, 799, 807, 811, 802, 812, 814, 813, 815, 816, 818, 817, 819, 809, 821, 810, 822, 820, 823, 635, 825, 826, 827, 828, 808, 830, 831, 832, 833, 835, 829, 837, 834, 824, 845, 841, 840, 842, 847, 848, 843, 849, 836, 850, 851, 839, 855, 859, 856, 854, 858, 852, 857, 862, 863, 844, 864, 853, 861, 865, 866, 867, 869, 868, 870, 871, 872, 846, 838, 875, 877, 860, 878, 879, 882, 880, 873, 884, 883, 885, 886, 876, 874, 891, 892, 881, 889, 895, 887, 896, 890, 898, 899, 897, 900, 902, 904, 888, 907, 908, 905, 893, 909, 903, 911, 913, 894, 901, 335, 914, 910, 45, 6, 8, 9, 10, 11, 12, 13, 14, 15, 16, 17, 19, 20, 21, 22, 23, 24, 25, 26, 27, 29, 30, 32, 33, 36, 44, 106, 50, 56, 64, 66, 74, 919, 363, 282, 287, 922, 915, 906, 912, 916, 917, 918, 920, 921, 923, 924, 925, 68, 60, 47, 34, 71, 41, 102, 65, 0, 5, 18, 31, 37]\n",
      " Room : [1, 0]\n",
      " net_cancelled : [0, 1]\n"
     ]
    }
   ],
   "source": [
    "for feature in X:\n",
    "    print(f\" {feature} : {list(X[feature].unique())}\")"
   ]
  },
  {
   "cell_type": "code",
   "execution_count": 96,
   "id": "a7709fa9",
   "metadata": {},
   "outputs": [
    {
     "data": {
      "text/plain": [
       "hotel                          int32\n",
       "lead_time                      int64\n",
       "stays_in_weekend_nights        int64\n",
       "stays_in_week_nights           int64\n",
       "adults                         int64\n",
       "children                       int64\n",
       "babies                         int64\n",
       "meal                           int32\n",
       "country                        int32\n",
       "market_segment                 int32\n",
       "distribution_channel           int32\n",
       "is_repeated_guest              int64\n",
       "booking_changes                int64\n",
       "deposit_type                   int32\n",
       "agent                          int64\n",
       "company                        int64\n",
       "days_in_waiting_list           int64\n",
       "customer_type                  int32\n",
       "adr                            int64\n",
       "required_car_parking_spaces    int64\n",
       "total_of_special_requests      int64\n",
       "reservation_status             int32\n",
       "reservation_status_date        int32\n",
       "Room                           int64\n",
       "net_cancelled                  int64\n",
       "dtype: object"
      ]
     },
     "execution_count": 96,
     "metadata": {},
     "output_type": "execute_result"
    }
   ],
   "source": [
    "X.dtypes"
   ]
  },
  {
   "cell_type": "code",
   "execution_count": 97,
   "id": "a9f56ce5",
   "metadata": {},
   "outputs": [
    {
     "data": {
      "text/html": [
       "<div>\n",
       "<style scoped>\n",
       "    .dataframe tbody tr th:only-of-type {\n",
       "        vertical-align: middle;\n",
       "    }\n",
       "\n",
       "    .dataframe tbody tr th {\n",
       "        vertical-align: top;\n",
       "    }\n",
       "\n",
       "    .dataframe thead th {\n",
       "        text-align: right;\n",
       "    }\n",
       "</style>\n",
       "<table border=\"1\" class=\"dataframe\">\n",
       "  <thead>\n",
       "    <tr style=\"text-align: right;\">\n",
       "      <th></th>\n",
       "      <th>hotel</th>\n",
       "      <th>lead_time</th>\n",
       "      <th>stays_in_weekend_nights</th>\n",
       "      <th>stays_in_week_nights</th>\n",
       "      <th>adults</th>\n",
       "      <th>children</th>\n",
       "      <th>babies</th>\n",
       "      <th>meal</th>\n",
       "      <th>country</th>\n",
       "      <th>market_segment</th>\n",
       "      <th>...</th>\n",
       "      <th>company</th>\n",
       "      <th>days_in_waiting_list</th>\n",
       "      <th>customer_type</th>\n",
       "      <th>adr</th>\n",
       "      <th>required_car_parking_spaces</th>\n",
       "      <th>total_of_special_requests</th>\n",
       "      <th>reservation_status</th>\n",
       "      <th>reservation_status_date</th>\n",
       "      <th>Room</th>\n",
       "      <th>net_cancelled</th>\n",
       "    </tr>\n",
       "  </thead>\n",
       "  <tbody>\n",
       "    <tr>\n",
       "      <th>0</th>\n",
       "      <td>1</td>\n",
       "      <td>342</td>\n",
       "      <td>0</td>\n",
       "      <td>0</td>\n",
       "      <td>0</td>\n",
       "      <td>0</td>\n",
       "      <td>0</td>\n",
       "      <td>0</td>\n",
       "      <td>136</td>\n",
       "      <td>3</td>\n",
       "      <td>...</td>\n",
       "      <td>0</td>\n",
       "      <td>0</td>\n",
       "      <td>2</td>\n",
       "      <td>1</td>\n",
       "      <td>0</td>\n",
       "      <td>0</td>\n",
       "      <td>1</td>\n",
       "      <td>121</td>\n",
       "      <td>1</td>\n",
       "      <td>0</td>\n",
       "    </tr>\n",
       "    <tr>\n",
       "      <th>1</th>\n",
       "      <td>1</td>\n",
       "      <td>375</td>\n",
       "      <td>0</td>\n",
       "      <td>0</td>\n",
       "      <td>0</td>\n",
       "      <td>0</td>\n",
       "      <td>0</td>\n",
       "      <td>0</td>\n",
       "      <td>136</td>\n",
       "      <td>3</td>\n",
       "      <td>...</td>\n",
       "      <td>0</td>\n",
       "      <td>0</td>\n",
       "      <td>2</td>\n",
       "      <td>1</td>\n",
       "      <td>0</td>\n",
       "      <td>0</td>\n",
       "      <td>1</td>\n",
       "      <td>121</td>\n",
       "      <td>1</td>\n",
       "      <td>0</td>\n",
       "    </tr>\n",
       "    <tr>\n",
       "      <th>2</th>\n",
       "      <td>1</td>\n",
       "      <td>7</td>\n",
       "      <td>0</td>\n",
       "      <td>1</td>\n",
       "      <td>0</td>\n",
       "      <td>0</td>\n",
       "      <td>0</td>\n",
       "      <td>0</td>\n",
       "      <td>60</td>\n",
       "      <td>3</td>\n",
       "      <td>...</td>\n",
       "      <td>0</td>\n",
       "      <td>0</td>\n",
       "      <td>2</td>\n",
       "      <td>2124</td>\n",
       "      <td>0</td>\n",
       "      <td>0</td>\n",
       "      <td>1</td>\n",
       "      <td>122</td>\n",
       "      <td>0</td>\n",
       "      <td>0</td>\n",
       "    </tr>\n",
       "    <tr>\n",
       "      <th>3</th>\n",
       "      <td>1</td>\n",
       "      <td>13</td>\n",
       "      <td>0</td>\n",
       "      <td>1</td>\n",
       "      <td>0</td>\n",
       "      <td>0</td>\n",
       "      <td>0</td>\n",
       "      <td>0</td>\n",
       "      <td>60</td>\n",
       "      <td>2</td>\n",
       "      <td>...</td>\n",
       "      <td>0</td>\n",
       "      <td>0</td>\n",
       "      <td>2</td>\n",
       "      <td>2124</td>\n",
       "      <td>0</td>\n",
       "      <td>0</td>\n",
       "      <td>1</td>\n",
       "      <td>122</td>\n",
       "      <td>1</td>\n",
       "      <td>0</td>\n",
       "    </tr>\n",
       "    <tr>\n",
       "      <th>4</th>\n",
       "      <td>1</td>\n",
       "      <td>14</td>\n",
       "      <td>0</td>\n",
       "      <td>2</td>\n",
       "      <td>0</td>\n",
       "      <td>0</td>\n",
       "      <td>0</td>\n",
       "      <td>0</td>\n",
       "      <td>60</td>\n",
       "      <td>6</td>\n",
       "      <td>...</td>\n",
       "      <td>0</td>\n",
       "      <td>0</td>\n",
       "      <td>2</td>\n",
       "      <td>3523</td>\n",
       "      <td>0</td>\n",
       "      <td>1</td>\n",
       "      <td>1</td>\n",
       "      <td>123</td>\n",
       "      <td>1</td>\n",
       "      <td>0</td>\n",
       "    </tr>\n",
       "    <tr>\n",
       "      <th>...</th>\n",
       "      <td>...</td>\n",
       "      <td>...</td>\n",
       "      <td>...</td>\n",
       "      <td>...</td>\n",
       "      <td>...</td>\n",
       "      <td>...</td>\n",
       "      <td>...</td>\n",
       "      <td>...</td>\n",
       "      <td>...</td>\n",
       "      <td>...</td>\n",
       "      <td>...</td>\n",
       "      <td>...</td>\n",
       "      <td>...</td>\n",
       "      <td>...</td>\n",
       "      <td>...</td>\n",
       "      <td>...</td>\n",
       "      <td>...</td>\n",
       "      <td>...</td>\n",
       "      <td>...</td>\n",
       "      <td>...</td>\n",
       "      <td>...</td>\n",
       "    </tr>\n",
       "    <tr>\n",
       "      <th>119385</th>\n",
       "      <td>0</td>\n",
       "      <td>23</td>\n",
       "      <td>2</td>\n",
       "      <td>5</td>\n",
       "      <td>0</td>\n",
       "      <td>0</td>\n",
       "      <td>0</td>\n",
       "      <td>0</td>\n",
       "      <td>16</td>\n",
       "      <td>5</td>\n",
       "      <td>...</td>\n",
       "      <td>0</td>\n",
       "      <td>0</td>\n",
       "      <td>2</td>\n",
       "      <td>3425</td>\n",
       "      <td>0</td>\n",
       "      <td>0</td>\n",
       "      <td>1</td>\n",
       "      <td>919</td>\n",
       "      <td>1</td>\n",
       "      <td>0</td>\n",
       "    </tr>\n",
       "    <tr>\n",
       "      <th>119386</th>\n",
       "      <td>0</td>\n",
       "      <td>102</td>\n",
       "      <td>2</td>\n",
       "      <td>5</td>\n",
       "      <td>0</td>\n",
       "      <td>0</td>\n",
       "      <td>0</td>\n",
       "      <td>0</td>\n",
       "      <td>57</td>\n",
       "      <td>6</td>\n",
       "      <td>...</td>\n",
       "      <td>0</td>\n",
       "      <td>0</td>\n",
       "      <td>2</td>\n",
       "      <td>7841</td>\n",
       "      <td>0</td>\n",
       "      <td>2</td>\n",
       "      <td>1</td>\n",
       "      <td>920</td>\n",
       "      <td>1</td>\n",
       "      <td>0</td>\n",
       "    </tr>\n",
       "    <tr>\n",
       "      <th>119387</th>\n",
       "      <td>0</td>\n",
       "      <td>34</td>\n",
       "      <td>2</td>\n",
       "      <td>5</td>\n",
       "      <td>0</td>\n",
       "      <td>0</td>\n",
       "      <td>0</td>\n",
       "      <td>0</td>\n",
       "      <td>44</td>\n",
       "      <td>6</td>\n",
       "      <td>...</td>\n",
       "      <td>0</td>\n",
       "      <td>0</td>\n",
       "      <td>2</td>\n",
       "      <td>6392</td>\n",
       "      <td>0</td>\n",
       "      <td>4</td>\n",
       "      <td>1</td>\n",
       "      <td>920</td>\n",
       "      <td>1</td>\n",
       "      <td>0</td>\n",
       "    </tr>\n",
       "    <tr>\n",
       "      <th>119388</th>\n",
       "      <td>0</td>\n",
       "      <td>109</td>\n",
       "      <td>2</td>\n",
       "      <td>5</td>\n",
       "      <td>0</td>\n",
       "      <td>0</td>\n",
       "      <td>0</td>\n",
       "      <td>0</td>\n",
       "      <td>60</td>\n",
       "      <td>6</td>\n",
       "      <td>...</td>\n",
       "      <td>0</td>\n",
       "      <td>0</td>\n",
       "      <td>2</td>\n",
       "      <td>3909</td>\n",
       "      <td>0</td>\n",
       "      <td>0</td>\n",
       "      <td>1</td>\n",
       "      <td>920</td>\n",
       "      <td>1</td>\n",
       "      <td>0</td>\n",
       "    </tr>\n",
       "    <tr>\n",
       "      <th>119389</th>\n",
       "      <td>0</td>\n",
       "      <td>205</td>\n",
       "      <td>2</td>\n",
       "      <td>6</td>\n",
       "      <td>0</td>\n",
       "      <td>0</td>\n",
       "      <td>0</td>\n",
       "      <td>2</td>\n",
       "      <td>44</td>\n",
       "      <td>6</td>\n",
       "      <td>...</td>\n",
       "      <td>0</td>\n",
       "      <td>0</td>\n",
       "      <td>2</td>\n",
       "      <td>6147</td>\n",
       "      <td>0</td>\n",
       "      <td>2</td>\n",
       "      <td>1</td>\n",
       "      <td>920</td>\n",
       "      <td>1</td>\n",
       "      <td>0</td>\n",
       "    </tr>\n",
       "  </tbody>\n",
       "</table>\n",
       "<p>119210 rows × 25 columns</p>\n",
       "</div>"
      ],
      "text/plain": [
       "        hotel  lead_time  stays_in_weekend_nights  stays_in_week_nights  \\\n",
       "0           1        342                        0                     0   \n",
       "1           1        375                        0                     0   \n",
       "2           1          7                        0                     1   \n",
       "3           1         13                        0                     1   \n",
       "4           1         14                        0                     2   \n",
       "...       ...        ...                      ...                   ...   \n",
       "119385      0         23                        2                     5   \n",
       "119386      0        102                        2                     5   \n",
       "119387      0         34                        2                     5   \n",
       "119388      0        109                        2                     5   \n",
       "119389      0        205                        2                     6   \n",
       "\n",
       "        adults  children  babies  meal  country  market_segment  ...  company  \\\n",
       "0            0         0       0     0      136               3  ...        0   \n",
       "1            0         0       0     0      136               3  ...        0   \n",
       "2            0         0       0     0       60               3  ...        0   \n",
       "3            0         0       0     0       60               2  ...        0   \n",
       "4            0         0       0     0       60               6  ...        0   \n",
       "...        ...       ...     ...   ...      ...             ...  ...      ...   \n",
       "119385       0         0       0     0       16               5  ...        0   \n",
       "119386       0         0       0     0       57               6  ...        0   \n",
       "119387       0         0       0     0       44               6  ...        0   \n",
       "119388       0         0       0     0       60               6  ...        0   \n",
       "119389       0         0       0     2       44               6  ...        0   \n",
       "\n",
       "        days_in_waiting_list  customer_type   adr  \\\n",
       "0                          0              2     1   \n",
       "1                          0              2     1   \n",
       "2                          0              2  2124   \n",
       "3                          0              2  2124   \n",
       "4                          0              2  3523   \n",
       "...                      ...            ...   ...   \n",
       "119385                     0              2  3425   \n",
       "119386                     0              2  7841   \n",
       "119387                     0              2  6392   \n",
       "119388                     0              2  3909   \n",
       "119389                     0              2  6147   \n",
       "\n",
       "        required_car_parking_spaces  total_of_special_requests  \\\n",
       "0                                 0                          0   \n",
       "1                                 0                          0   \n",
       "2                                 0                          0   \n",
       "3                                 0                          0   \n",
       "4                                 0                          1   \n",
       "...                             ...                        ...   \n",
       "119385                            0                          0   \n",
       "119386                            0                          2   \n",
       "119387                            0                          4   \n",
       "119388                            0                          0   \n",
       "119389                            0                          2   \n",
       "\n",
       "        reservation_status  reservation_status_date  Room  net_cancelled  \n",
       "0                        1                      121     1              0  \n",
       "1                        1                      121     1              0  \n",
       "2                        1                      122     0              0  \n",
       "3                        1                      122     1              0  \n",
       "4                        1                      123     1              0  \n",
       "...                    ...                      ...   ...            ...  \n",
       "119385                   1                      919     1              0  \n",
       "119386                   1                      920     1              0  \n",
       "119387                   1                      920     1              0  \n",
       "119388                   1                      920     1              0  \n",
       "119389                   1                      920     1              0  \n",
       "\n",
       "[119210 rows x 25 columns]"
      ]
     },
     "execution_count": 97,
     "metadata": {},
     "output_type": "execute_result"
    }
   ],
   "source": [
    "X"
   ]
  },
  {
   "cell_type": "code",
   "execution_count": 98,
   "id": "fc2da1bf",
   "metadata": {},
   "outputs": [
    {
     "data": {
      "text/plain": [
       "0         0\n",
       "1         0\n",
       "2         0\n",
       "3         0\n",
       "4         0\n",
       "         ..\n",
       "119385    0\n",
       "119386    0\n",
       "119387    0\n",
       "119388    0\n",
       "119389    0\n",
       "Name: is_canceled, Length: 119210, dtype: int64"
      ]
     },
     "execution_count": 98,
     "metadata": {},
     "output_type": "execute_result"
    }
   ],
   "source": [
    "Y"
   ]
  },
  {
   "cell_type": "code",
   "execution_count": 99,
   "id": "c6f19657",
   "metadata": {},
   "outputs": [],
   "source": [
    "np.savetxt('CR_Train.csv', X, delimiter=',')\n",
    "np.savetxt('CR_Test.csv', Y, delimiter=',')"
   ]
  },
  {
   "cell_type": "code",
   "execution_count": null,
   "id": "5153650b",
   "metadata": {},
   "outputs": [],
   "source": []
  },
  {
   "cell_type": "code",
   "execution_count": 100,
   "id": "0fe3460e",
   "metadata": {},
   "outputs": [],
   "source": [
    "# Training using Train-Test Split\n",
    "\n",
    "from sklearn.model_selection import train_test_split\n",
    "X_train, X_test, Y_train, Y_test= train_test_split(X,Y, test_size=0.2, random_state=20)"
   ]
  },
  {
   "cell_type": "code",
   "execution_count": 101,
   "id": "cfce3de3",
   "metadata": {},
   "outputs": [],
   "source": [
    "# Scalling using starndered scaler\n",
    "\n",
    "from sklearn.preprocessing import StandardScaler\n",
    "sc = StandardScaler()\n",
    "X_train = sc.fit_transform(X_train)\n",
    "X_test = sc.transform(X_test)\n"
   ]
  },
  {
   "cell_type": "code",
   "execution_count": 102,
   "id": "9a4b4f75",
   "metadata": {},
   "outputs": [
    {
     "data": {
      "text/plain": [
       "array([[-0.71186115,  0.12578581,  0.08166401, ..., -0.36277416,\n",
       "         0.37725756, -0.22683646],\n",
       "       [-0.71186115, -0.9904934 , -0.95220475, ...,  1.04850765,\n",
       "         0.37725756, -0.22683646],\n",
       "       [-0.71186115,  0.00724289, -0.95220475, ..., -0.68811638,\n",
       "         0.37725756, -0.22683646],\n",
       "       ...,\n",
       "       [ 1.40476833, -0.9904934 , -0.95220475, ...,  1.37824638,\n",
       "         0.37725756, -0.22683646],\n",
       "       [-0.71186115,  0.53080747,  2.14940154, ..., -0.08579362,\n",
       "         0.37725756, -0.22683646],\n",
       "       [-0.71186115,  0.27396447, -0.95220475, ...,  1.41781503,\n",
       "         0.37725756, -0.22683646]])"
      ]
     },
     "execution_count": 102,
     "metadata": {},
     "output_type": "execute_result"
    }
   ],
   "source": [
    "X_train"
   ]
  },
  {
   "cell_type": "code",
   "execution_count": 103,
   "id": "f0d459c8",
   "metadata": {},
   "outputs": [
    {
     "data": {
      "text/plain": [
       "array([[-0.71186115, -1.00037197, -0.95220475, ...,  1.00014596,\n",
       "         0.37725756, -0.22683646],\n",
       "       [-0.71186115, -0.56571458, -0.95220475, ..., -0.61777212,\n",
       "         0.37725756, -0.22683646],\n",
       "       [ 1.40476833,  0.09615008, -0.95220475, ..., -0.92552827,\n",
       "         0.37725756, -0.22683646],\n",
       "       ...,\n",
       "       [-0.71186115,  0.0862715 ,  1.11553278, ...,  1.5409175 ,\n",
       "         0.37725756, -0.22683646],\n",
       "       [-0.71186115, -0.9904934 ,  0.08166401, ..., -0.90794221,\n",
       "         0.37725756, -0.22683646],\n",
       "       [ 1.40476833,  2.10150123,  1.11553278, ...,  0.41980578,\n",
       "         0.37725756, -0.22683646]])"
      ]
     },
     "execution_count": 103,
     "metadata": {},
     "output_type": "execute_result"
    }
   ],
   "source": [
    "X_test"
   ]
  },
  {
   "cell_type": "markdown",
   "id": "d897f0e2",
   "metadata": {},
   "source": [
    "# Logistic Regression"
   ]
  },
  {
   "cell_type": "code",
   "execution_count": 104,
   "id": "be240ded",
   "metadata": {},
   "outputs": [],
   "source": [
    "from sklearn.linear_model import LogisticRegression\n",
    "from sklearn.model_selection import train_test_split\n",
    "from sklearn import metrics\n",
    "from sklearn import preprocessing\n",
    "from sklearn.metrics import classification_report\n",
    "\n",
    "model_LR= LogisticRegression()\n",
    "model_LR.fit(X_train, Y_train)\n",
    "result = model_LR.score(X_test, Y_test)"
   ]
  },
  {
   "cell_type": "code",
   "execution_count": 105,
   "id": "2e8a09e0",
   "metadata": {},
   "outputs": [
    {
     "data": {
      "text/plain": [
       "99.0814528982468"
      ]
     },
     "execution_count": 105,
     "metadata": {},
     "output_type": "execute_result"
    }
   ],
   "source": [
    "result*100"
   ]
  },
  {
   "cell_type": "code",
   "execution_count": 106,
   "id": "57693868",
   "metadata": {},
   "outputs": [],
   "source": [
    "Y_pred=model_LR.predict(X_test)"
   ]
  },
  {
   "cell_type": "code",
   "execution_count": 107,
   "id": "a6419c68",
   "metadata": {},
   "outputs": [],
   "source": [
    "from sklearn.metrics import r2_score, mean_squared_error"
   ]
  },
  {
   "cell_type": "code",
   "execution_count": 108,
   "id": "86757a40",
   "metadata": {
    "scrolled": true
   },
   "outputs": [
    {
     "name": "stdout",
     "output_type": "stream",
     "text": [
      "R2 score 0.9606809225825111\n",
      "RSME 0.09584086298407421\n"
     ]
    }
   ],
   "source": [
    "print (\"R2 score\",r2_score(Y_test,Y_pred))\n",
    "print (\"RSME\",np.sqrt(mean_squared_error(Y_test,Y_pred)))"
   ]
  },
  {
   "cell_type": "code",
   "execution_count": 109,
   "id": "9ab00975",
   "metadata": {},
   "outputs": [
    {
     "name": "stdout",
     "output_type": "stream",
     "text": [
      "Logistic Regression\n",
      "Train: 98.94%\n",
      "Test: 99.08%\n"
     ]
    }
   ],
   "source": [
    "models = {\n",
    "    \"Logistic Regression\": LogisticRegression()}\n",
    "    \n",
    "for name, rfmodel in models.items():\n",
    "    rfmodel.fit(X_train,Y_train)\n",
    "    print(name +'\\n' + \"Train\" + \": {:.2f}%\".format(rfmodel.score(X_train,Y_train) * 100))\n",
    "    print(\"Test\" + \": {:.2f}%\".format(rfmodel.score(X_test,Y_test) * 100))   "
   ]
  },
  {
   "cell_type": "code",
   "execution_count": 110,
   "id": "fc68f26e",
   "metadata": {
    "scrolled": true
   },
   "outputs": [
    {
     "data": {
      "image/png": "[encoded data removed]",
      "text/plain": [
       "<Figure size 432x288 with 2 Axes>"
      ]
     },
     "metadata": {},
     "output_type": "display_data"
    }
   ],
   "source": [
    "import matplotlib.pyplot as plt\n",
    "from sklearn.datasets import make_classification\n",
    "from sklearn.metrics import plot_confusion_matrix\n",
    "from sklearn.model_selection import train_test_split\n",
    "from sklearn.svm import SVC\n",
    "\n",
    "clf = LogisticRegression()\n",
    "clf.fit(X_train, Y_train)\n",
    "LogisticRegression()\n",
    "plot_confusion_matrix(clf, X_test, Y_test)  \n",
    "plt.show()\n"
   ]
  },
  {
   "cell_type": "code",
   "execution_count": 119,
   "id": "cb437382",
   "metadata": {},
   "outputs": [
    {
     "name": "stdout",
     "output_type": "stream",
     "text": [
      "              precision    recall  f1-score   support\n",
      "\n",
      "           0       0.99      1.00      0.99     14973\n",
      "           1       1.00      0.98      0.99      8869\n",
      "\n",
      "    accuracy                           0.99     23842\n",
      "   macro avg       0.99      0.99      0.99     23842\n",
      "weighted avg       0.99      0.99      0.99     23842\n",
      "\n"
     ]
    }
   ],
   "source": [
    "print(classification_report(Y_test, Y_pred))"
   ]
  },
  {
   "cell_type": "markdown",
   "id": "19a28c8b",
   "metadata": {},
   "source": [
    "# SVM\n"
   ]
  },
  {
   "cell_type": "code",
   "execution_count": 111,
   "id": "e46af23f",
   "metadata": {},
   "outputs": [
    {
     "name": "stdout",
     "output_type": "stream",
     "text": [
      "SUPPORT VECTOR\n",
      "Train: 98.96%\n",
      "Test: 99.11%\n"
     ]
    }
   ],
   "source": [
    "models = {\n",
    "    \"SUPPORT VECTOR\": SVC(kernel = \"linear\")}\n",
    "    \n",
    "for name, rfmodel2 in models.items():\n",
    "    rfmodel2.fit(X_train,Y_train)\n",
    "    print(name +'\\n' + \"Train\" + \": {:.2f}%\".format(rfmodel2.score(X_train,Y_train) * 100))\n",
    "    print(\"Test\" + \": {:.2f}%\".format(rfmodel2.score(X_test,Y_test) * 100))    "
   ]
  },
  {
   "cell_type": "code",
   "execution_count": 112,
   "id": "e6c63362",
   "metadata": {
    "scrolled": true
   },
   "outputs": [
    {
     "data": {
      "image/png": "[encoded data removed]",
      "text/plain": [
       "<Figure size 432x288 with 2 Axes>"
      ]
     },
     "metadata": {},
     "output_type": "display_data"
    }
   ],
   "source": [
    "plot_confusion_matrix(rfmodel2, X_test, Y_test)  \n",
    "plt.show()"
   ]
  },
  {
   "cell_type": "code",
   "execution_count": 116,
   "id": "0b76f681",
   "metadata": {},
   "outputs": [
    {
     "name": "stdout",
     "output_type": "stream",
     "text": [
      "R2 score 0.9617581575802506\n",
      "RSME 0.09451885672883337\n"
     ]
    }
   ],
   "source": [
    "Y_pred2=rfmodel2.predict(X_test)\n",
    "print (\"R2 score\",r2_score(Y_test,Y_pred2))\n",
    "print (\"RSME\",np.sqrt(mean_squared_error(Y_test,Y_pred2)))"
   ]
  },
  {
   "cell_type": "code",
   "execution_count": 118,
   "id": "5f9c0e6e",
   "metadata": {},
   "outputs": [
    {
     "name": "stdout",
     "output_type": "stream",
     "text": [
      "              precision    recall  f1-score   support\n",
      "\n",
      "           0       0.99      1.00      0.99     14973\n",
      "           1       1.00      0.98      0.99      8869\n",
      "\n",
      "    accuracy                           0.99     23842\n",
      "   macro avg       0.99      0.99      0.99     23842\n",
      "weighted avg       0.99      0.99      0.99     23842\n",
      "\n"
     ]
    }
   ],
   "source": [
    "print(classification_report(Y_test, Y_pred2))"
   ]
  },
  {
   "cell_type": "markdown",
   "id": "c8fb6be8",
   "metadata": {},
   "source": [
    "# NAIVE-BAYES"
   ]
  },
  {
   "cell_type": "code",
   "execution_count": 113,
   "id": "4f0a5db1",
   "metadata": {},
   "outputs": [
    {
     "name": "stdout",
     "output_type": "stream",
     "text": [
      "Naive Bayes\n",
      "train: 99.19%\n",
      "Test: 99.21%\n"
     ]
    }
   ],
   "source": [
    "from sklearn.naive_bayes import GaussianNB\n",
    "models = {\n",
    "    \"Naive Bayes\": GaussianNB()}\n",
    "    \n",
    "for name, rfmodel in models.items():\n",
    "    rfmodel.fit(X_train,Y_train)\n",
    "    print(name +'\\n' + \"train\" + \": {:.2f}%\".format(rfmodel.score(X_train,Y_train) * 100))\n",
    "    print(\"Test\" + \": {:.2f}%\".format(rfmodel.score(X_test,Y_test) * 100))    "
   ]
  },
  {
   "cell_type": "code",
   "execution_count": 114,
   "id": "5e88205b",
   "metadata": {},
   "outputs": [
    {
     "data": {
      "image/png": "[encoded data removed]",
      "text/plain": [
       "<Figure size 432x288 with 2 Axes>"
      ]
     },
     "metadata": {},
     "output_type": "display_data"
    }
   ],
   "source": [
    "clf = GaussianNB()\n",
    "clf.fit(X_train, Y_train)\n",
    "GaussianNB()\n",
    "plot_confusion_matrix(clf, X_test, Y_test)  \n",
    "plt.show()"
   ]
  },
  {
   "cell_type": "code",
   "execution_count": 115,
   "id": "56c4f20e",
   "metadata": {},
   "outputs": [],
   "source": []
  },
  {
   "cell_type": "code",
   "execution_count": null,
   "id": "c55068f3",
   "metadata": {},
   "outputs": [],
   "source": []
  },
  {
   "cell_type": "code",
   "execution_count": null,
   "id": "43999067",
   "metadata": {},
   "outputs": [],
   "source": []
  },
  {
   "cell_type": "code",
   "execution_count": null,
   "id": "b416164f",
   "metadata": {},
   "outputs": [],
   "source": []
  },
  {
   "cell_type": "code",
   "execution_count": null,
   "id": "1957e535",
   "metadata": {},
   "outputs": [],
   "source": []
  }
 ],
 "metadata": {
  "kernelspec": {
   "display_name": "Python 3",
   "language": "python",
   "name": "python3"
  },
  "language_info": {
   "codemirror_mode": {
    "name": "ipython",
    "version": 3
   },
   "file_extension": ".py",
   "mimetype": "text/x-python",
   "name": "python",
   "nbconvert_exporter": "python",
   "pygments_lexer": "ipython3",
   "version": "3.8.8"
  }
 },
 "nbformat": 4,
 "nbformat_minor": 5
}
